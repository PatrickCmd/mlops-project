{
 "cells": [
  {
   "cell_type": "code",
   "execution_count": 116,
   "id": "6556c9b5",
   "metadata": {},
   "outputs": [],
   "source": [
    "import pickle\n",
    "import pandas as pd\n",
    "import matplotlib.pyplot as plt\n",
    "import seaborn as sns\n",
    "from category_encoders import OneHotEncoder\n",
    "from sklearn.linear_model import LinearRegression, Ridge\n",
    "from sklearn.pipeline import make_pipeline\n",
    "from sklearn.ensemble import RandomForestRegressor\n",
    "from sklearn.impute import SimpleImputer\n",
    "from sklearn.model_selection import GridSearchCV, cross_val_score, train_test_split\n",
    "from sklearn.metrics import mean_absolute_error, mean_squared_error"
   ]
  },
  {
   "cell_type": "markdown",
   "id": "e74f08c7",
   "metadata": {},
   "source": [
    "**In this project, you're working for a client who wants to create a model that can predict the price of property in the city of Buenos Aires**"
   ]
  },
  {
   "cell_type": "markdown",
   "id": "6ce96ae2",
   "metadata": {},
   "source": [
    "## Prepare Data\n",
    "\n",
    "\n",
    "## clean"
   ]
  },
  {
   "cell_type": "code",
   "execution_count": 2,
   "id": "98a3fd59",
   "metadata": {},
   "outputs": [],
   "source": [
    "def clean(filepath):\n",
    "    \"\"\"\n",
    "    Data importing and Cleaning Process\n",
    "    \"\"\"\n",
    "    # Read CSV and return the DataFrame\n",
    "    df = pd.read_csv(filepath)\n",
    "    # mask the df where country is Argentina and city Buenos Aires\n",
    "    mask = (df.l1 == \"Argentina\") & (df[\"l2\"].str.contains(\"Buenos Aires\"))\n",
    "    df = df[mask]\n",
    "    # Drop columns\n",
    "    df.drop([\"id\", \"ad_type\", \"start_date\", \"end_date\", \"created_on\", \n",
    "             \"l4\", \"l5\", \"l6\", \"title\", \"description\"],\n",
    "            axis=1, inplace=True)\n",
    "    df[\"operation_type\"] = df[\"operation_type\"].str.replace(\"Venta\", \"Sale\")\n",
    "    df[\"operation_type\"] = df[\"operation_type\"].str.replace(\"Alquiler temporal\", \"Temporary rental\")\n",
    "    df[\"operation_type\"] = df[\"operation_type\"].str.replace(\"Alquiler\", \"Rental\")\n",
    "    \n",
    "    # drop null rows in price column\n",
    "    df.dropna(subset = [\"price\"], inplace=True)\n",
    "    \n",
    "    return df"
   ]
  },
  {
   "cell_type": "code",
   "execution_count": 3,
   "id": "93370eac",
   "metadata": {},
   "outputs": [],
   "source": [
    "cleaned_train_df = clean(\"./data/ar_properties_crude.csv\")\n",
    "cleaned_train_df.to_parquet(\"./data/properties_train_clean.parquet\", engine=\"pyarrow\", index=False)\n",
    "\n",
    "cleaned_valid_df = clean(\"./data/uy_properties_crude.csv\")\n",
    "cleaned_valid_df.to_parquet(\"./data/properties_valid_clean.parquet\", engine=\"pyarrow\", index=False)"
   ]
  },
  {
   "cell_type": "markdown",
   "id": "856160e9",
   "metadata": {},
   "source": [
    "## Import"
   ]
  },
  {
   "cell_type": "code",
   "execution_count": 4,
   "id": "780325ac",
   "metadata": {},
   "outputs": [],
   "source": [
    "def wrangle(filepath):\n",
    "    \"\"\"\n",
    "    Data importing and Cleaning Process\n",
    "    \"\"\"\n",
    "    # Read parquet and return the DataFrame\n",
    "    df = pd.read_parquet(filepath)\n",
    "    \n",
    "    return df"
   ]
  },
  {
   "cell_type": "code",
   "execution_count": 5,
   "id": "adc27166",
   "metadata": {},
   "outputs": [
    {
     "name": "stdout",
     "output_type": "stream",
     "text": [
      "df shape: (190659, 15)\n"
     ]
    }
   ],
   "source": [
    "df = wrangle(\"./data/properties_train_clean.parquet\")\n",
    "print(f\"df shape: {df.shape}\")"
   ]
  },
  {
   "cell_type": "code",
   "execution_count": 6,
   "id": "3c0b0b1b",
   "metadata": {},
   "outputs": [
    {
     "name": "stdout",
     "output_type": "stream",
     "text": [
      "<class 'pandas.core.frame.DataFrame'>\n",
      "RangeIndex: 190659 entries, 0 to 190658\n",
      "Data columns (total 15 columns):\n",
      " #   Column           Non-Null Count   Dtype  \n",
      "---  ------           --------------   -----  \n",
      " 0   lat              167639 non-null  float64\n",
      " 1   lon              167526 non-null  float64\n",
      " 2   l1               190659 non-null  object \n",
      " 3   l2               190659 non-null  object \n",
      " 4   l3               190509 non-null  object \n",
      " 5   rooms            41896 non-null   float64\n",
      " 6   bedrooms         35358 non-null   float64\n",
      " 7   bathrooms        154554 non-null  float64\n",
      " 8   surface_total    27912 non-null   float64\n",
      " 9   surface_covered  25299 non-null   float64\n",
      " 10  price            190659 non-null  float64\n",
      " 11  currency         190458 non-null  object \n",
      " 12  price_period     76529 non-null   object \n",
      " 13  property_type    190659 non-null  object \n",
      " 14  operation_type   190659 non-null  object \n",
      "dtypes: float64(8), object(7)\n",
      "memory usage: 21.8+ MB\n"
     ]
    }
   ],
   "source": [
    "df.info()"
   ]
  },
  {
   "cell_type": "code",
   "execution_count": 7,
   "id": "accc111f",
   "metadata": {},
   "outputs": [
    {
     "data": {
      "text/html": [
       "<div>\n",
       "<style scoped>\n",
       "    .dataframe tbody tr th:only-of-type {\n",
       "        vertical-align: middle;\n",
       "    }\n",
       "\n",
       "    .dataframe tbody tr th {\n",
       "        vertical-align: top;\n",
       "    }\n",
       "\n",
       "    .dataframe thead th {\n",
       "        text-align: right;\n",
       "    }\n",
       "</style>\n",
       "<table border=\"1\" class=\"dataframe\">\n",
       "  <thead>\n",
       "    <tr style=\"text-align: right;\">\n",
       "      <th></th>\n",
       "      <th>lat</th>\n",
       "      <th>lon</th>\n",
       "      <th>l1</th>\n",
       "      <th>l2</th>\n",
       "      <th>l3</th>\n",
       "      <th>rooms</th>\n",
       "      <th>bedrooms</th>\n",
       "      <th>bathrooms</th>\n",
       "      <th>surface_total</th>\n",
       "      <th>surface_covered</th>\n",
       "      <th>price</th>\n",
       "      <th>currency</th>\n",
       "      <th>price_period</th>\n",
       "      <th>property_type</th>\n",
       "      <th>operation_type</th>\n",
       "    </tr>\n",
       "  </thead>\n",
       "  <tbody>\n",
       "    <tr>\n",
       "      <th>0</th>\n",
       "      <td>-34.569845</td>\n",
       "      <td>-59.113120</td>\n",
       "      <td>Argentina</td>\n",
       "      <td>Buenos Aires Interior</td>\n",
       "      <td>Luján</td>\n",
       "      <td>8.0</td>\n",
       "      <td>3.0</td>\n",
       "      <td>2.0</td>\n",
       "      <td>241.0</td>\n",
       "      <td>141.0</td>\n",
       "      <td>180000.0</td>\n",
       "      <td>USD</td>\n",
       "      <td>None</td>\n",
       "      <td>Casa</td>\n",
       "      <td>Sale</td>\n",
       "    </tr>\n",
       "    <tr>\n",
       "      <th>1</th>\n",
       "      <td>-37.320266</td>\n",
       "      <td>-59.143948</td>\n",
       "      <td>Argentina</td>\n",
       "      <td>Buenos Aires Interior</td>\n",
       "      <td>Tandil</td>\n",
       "      <td>5.0</td>\n",
       "      <td>4.0</td>\n",
       "      <td>2.0</td>\n",
       "      <td>375.0</td>\n",
       "      <td>185.0</td>\n",
       "      <td>130000.0</td>\n",
       "      <td>USD</td>\n",
       "      <td>None</td>\n",
       "      <td>Casa</td>\n",
       "      <td>Sale</td>\n",
       "    </tr>\n",
       "    <tr>\n",
       "      <th>2</th>\n",
       "      <td>-37.955460</td>\n",
       "      <td>-57.795685</td>\n",
       "      <td>Argentina</td>\n",
       "      <td>Buenos Aires Interior</td>\n",
       "      <td>General Pueyrredón</td>\n",
       "      <td>6.0</td>\n",
       "      <td>3.0</td>\n",
       "      <td>4.0</td>\n",
       "      <td>1587.0</td>\n",
       "      <td>237.0</td>\n",
       "      <td>185000.0</td>\n",
       "      <td>USD</td>\n",
       "      <td>None</td>\n",
       "      <td>Casa</td>\n",
       "      <td>Sale</td>\n",
       "    </tr>\n",
       "    <tr>\n",
       "      <th>3</th>\n",
       "      <td>-34.136105</td>\n",
       "      <td>-59.029284</td>\n",
       "      <td>Argentina</td>\n",
       "      <td>Buenos Aires Interior</td>\n",
       "      <td>Zárate</td>\n",
       "      <td>NaN</td>\n",
       "      <td>NaN</td>\n",
       "      <td>NaN</td>\n",
       "      <td>600.0</td>\n",
       "      <td>NaN</td>\n",
       "      <td>15000.0</td>\n",
       "      <td>USD</td>\n",
       "      <td>None</td>\n",
       "      <td>Lote</td>\n",
       "      <td>Sale</td>\n",
       "    </tr>\n",
       "    <tr>\n",
       "      <th>4</th>\n",
       "      <td>NaN</td>\n",
       "      <td>NaN</td>\n",
       "      <td>Argentina</td>\n",
       "      <td>Buenos Aires Interior</td>\n",
       "      <td>Balcarce</td>\n",
       "      <td>3.0</td>\n",
       "      <td>2.0</td>\n",
       "      <td>3.0</td>\n",
       "      <td>NaN</td>\n",
       "      <td>NaN</td>\n",
       "      <td>430000.0</td>\n",
       "      <td>USD</td>\n",
       "      <td>None</td>\n",
       "      <td>Departamento</td>\n",
       "      <td>Sale</td>\n",
       "    </tr>\n",
       "  </tbody>\n",
       "</table>\n",
       "</div>"
      ],
      "text/plain": [
       "         lat        lon         l1                     l2                  l3  \\\n",
       "0 -34.569845 -59.113120  Argentina  Buenos Aires Interior               Luján   \n",
       "1 -37.320266 -59.143948  Argentina  Buenos Aires Interior              Tandil   \n",
       "2 -37.955460 -57.795685  Argentina  Buenos Aires Interior  General Pueyrredón   \n",
       "3 -34.136105 -59.029284  Argentina  Buenos Aires Interior              Zárate   \n",
       "4        NaN        NaN  Argentina  Buenos Aires Interior            Balcarce   \n",
       "\n",
       "   rooms  bedrooms  bathrooms  surface_total  surface_covered     price  \\\n",
       "0    8.0       3.0        2.0          241.0            141.0  180000.0   \n",
       "1    5.0       4.0        2.0          375.0            185.0  130000.0   \n",
       "2    6.0       3.0        4.0         1587.0            237.0  185000.0   \n",
       "3    NaN       NaN        NaN          600.0              NaN   15000.0   \n",
       "4    3.0       2.0        3.0            NaN              NaN  430000.0   \n",
       "\n",
       "  currency price_period property_type operation_type  \n",
       "0      USD         None          Casa           Sale  \n",
       "1      USD         None          Casa           Sale  \n",
       "2      USD         None          Casa           Sale  \n",
       "3      USD         None          Lote           Sale  \n",
       "4      USD         None  Departamento           Sale  "
      ]
     },
     "execution_count": 7,
     "metadata": {},
     "output_type": "execute_result"
    }
   ],
   "source": [
    "df.head()"
   ]
  },
  {
   "cell_type": "markdown",
   "id": "ad9b39a9",
   "metadata": {},
   "source": [
    "## Price and Size"
   ]
  },
  {
   "cell_type": "code",
   "execution_count": 8,
   "id": "cbe6c3ec",
   "metadata": {},
   "outputs": [
    {
     "data": {
      "image/png": "[encoded data removed]",
      "text/plain": [
       "<Figure size 432x288 with 1 Axes>"
      ]
     },
     "metadata": {
      "needs_background": "light"
     },
     "output_type": "display_data"
    }
   ],
   "source": [
    "plt.hist(df[\"surface_covered\"])\n",
    "plt.xlabel(\"Area\")\n",
    "plt.title(\"Distribution of Property Sizes\");"
   ]
  },
  {
   "cell_type": "code",
   "execution_count": 9,
   "id": "6a268e1b",
   "metadata": {},
   "outputs": [
    {
     "data": {
      "image/png": "[encoded data removed]",
      "text/plain": [
       "<Figure size 432x288 with 1 Axes>"
      ]
     },
     "metadata": {
      "needs_background": "light"
     },
     "output_type": "display_data"
    }
   ],
   "source": [
    "plt.hist(df[\"surface_total\"])\n",
    "plt.xlabel(\"Area\")\n",
    "plt.title(\"Distribution of Property Sizes\");"
   ]
  },
  {
   "cell_type": "markdown",
   "id": "750c5a6f",
   "metadata": {},
   "source": [
    "In the histogram above, it suggests that there are outliers in our dataset, This can affect model performance - especially in the sorts of linear models. Let's confirm with the summary statistics."
   ]
  },
  {
   "cell_type": "code",
   "execution_count": 10,
   "id": "b3c04e06",
   "metadata": {},
   "outputs": [
    {
     "data": {
      "text/html": [
       "<div>\n",
       "<style scoped>\n",
       "    .dataframe tbody tr th:only-of-type {\n",
       "        vertical-align: middle;\n",
       "    }\n",
       "\n",
       "    .dataframe tbody tr th {\n",
       "        vertical-align: top;\n",
       "    }\n",
       "\n",
       "    .dataframe thead th {\n",
       "        text-align: right;\n",
       "    }\n",
       "</style>\n",
       "<table border=\"1\" class=\"dataframe\">\n",
       "  <thead>\n",
       "    <tr style=\"text-align: right;\">\n",
       "      <th></th>\n",
       "      <th>surface_covered</th>\n",
       "      <th>surface_total</th>\n",
       "    </tr>\n",
       "  </thead>\n",
       "  <tbody>\n",
       "    <tr>\n",
       "      <th>count</th>\n",
       "      <td>2.529900e+04</td>\n",
       "      <td>27912.000000</td>\n",
       "    </tr>\n",
       "    <tr>\n",
       "      <th>mean</th>\n",
       "      <td>7.792096e+02</td>\n",
       "      <td>892.741545</td>\n",
       "    </tr>\n",
       "    <tr>\n",
       "      <th>std</th>\n",
       "      <td>8.232749e+04</td>\n",
       "      <td>6596.365480</td>\n",
       "    </tr>\n",
       "    <tr>\n",
       "      <th>min</th>\n",
       "      <td>1.000000e+00</td>\n",
       "      <td>0.000000</td>\n",
       "    </tr>\n",
       "    <tr>\n",
       "      <th>25%</th>\n",
       "      <td>4.200000e+01</td>\n",
       "      <td>47.000000</td>\n",
       "    </tr>\n",
       "    <tr>\n",
       "      <th>50%</th>\n",
       "      <td>7.000000e+01</td>\n",
       "      <td>90.000000</td>\n",
       "    </tr>\n",
       "    <tr>\n",
       "      <th>75%</th>\n",
       "      <td>1.330000e+02</td>\n",
       "      <td>340.000000</td>\n",
       "    </tr>\n",
       "    <tr>\n",
       "      <th>max</th>\n",
       "      <td>1.300000e+07</td>\n",
       "      <td>200000.000000</td>\n",
       "    </tr>\n",
       "  </tbody>\n",
       "</table>\n",
       "</div>"
      ],
      "text/plain": [
       "       surface_covered  surface_total\n",
       "count     2.529900e+04   27912.000000\n",
       "mean      7.792096e+02     892.741545\n",
       "std       8.232749e+04    6596.365480\n",
       "min       1.000000e+00       0.000000\n",
       "25%       4.200000e+01      47.000000\n",
       "50%       7.000000e+01      90.000000\n",
       "75%       1.330000e+02     340.000000\n",
       "max       1.300000e+07  200000.000000"
      ]
     },
     "execution_count": 10,
     "metadata": {},
     "output_type": "execute_result"
    }
   ],
   "source": [
    "df[[\"surface_covered\", \"surface_total\"]].describe()"
   ]
  },
  {
   "cell_type": "markdown",
   "id": "981fc15d",
   "metadata": {},
   "source": [
    "The data shows that most of the properties are smaller than 140 square metres of covered surface, there some that are several thousand square meters.\n",
    "\n",
    "We need to remove observations that are outliers in the surface covered or surface_total column. Specifically all observations should fall between 0.1 and 0.9 quantiles for surface_covered or surface_total."
   ]
  },
  {
   "cell_type": "code",
   "execution_count": 11,
   "id": "b38214be",
   "metadata": {},
   "outputs": [
    {
     "data": {
      "text/plain": [
       "0.1     30.0\n",
       "0.9    240.0\n",
       "Name: surface_covered, dtype: float64"
      ]
     },
     "execution_count": 11,
     "metadata": {},
     "output_type": "execute_result"
    }
   ],
   "source": [
    "df[\"surface_covered\"].quantile([0.1, 0.9])"
   ]
  },
  {
   "cell_type": "code",
   "execution_count": 12,
   "id": "890c840b",
   "metadata": {},
   "outputs": [
    {
     "data": {
      "text/plain": [
       "0.1     33.0\n",
       "0.9    940.0\n",
       "Name: surface_total, dtype: float64"
      ]
     },
     "execution_count": 12,
     "metadata": {},
     "output_type": "execute_result"
    }
   ],
   "source": [
    "df[\"surface_total\"].quantile([0.1, 0.9])"
   ]
  },
  {
   "cell_type": "code",
   "execution_count": 13,
   "id": "0b9d49cf",
   "metadata": {},
   "outputs": [
    {
     "name": "stdout",
     "output_type": "stream",
     "text": [
      "30.0 240.0\n"
     ]
    }
   ],
   "source": [
    "low, high = df[\"surface_covered\"].quantile([0.1, 0.9])\n",
    "print(low, high)"
   ]
  },
  {
   "cell_type": "code",
   "execution_count": 14,
   "id": "fc2effac",
   "metadata": {},
   "outputs": [
    {
     "data": {
      "text/html": [
       "<div>\n",
       "<style scoped>\n",
       "    .dataframe tbody tr th:only-of-type {\n",
       "        vertical-align: middle;\n",
       "    }\n",
       "\n",
       "    .dataframe tbody tr th {\n",
       "        vertical-align: top;\n",
       "    }\n",
       "\n",
       "    .dataframe thead th {\n",
       "        text-align: right;\n",
       "    }\n",
       "</style>\n",
       "<table border=\"1\" class=\"dataframe\">\n",
       "  <thead>\n",
       "    <tr style=\"text-align: right;\">\n",
       "      <th></th>\n",
       "      <th>lat</th>\n",
       "      <th>lon</th>\n",
       "      <th>l1</th>\n",
       "      <th>l2</th>\n",
       "      <th>l3</th>\n",
       "      <th>rooms</th>\n",
       "      <th>bedrooms</th>\n",
       "      <th>bathrooms</th>\n",
       "      <th>surface_total</th>\n",
       "      <th>surface_covered</th>\n",
       "      <th>price</th>\n",
       "      <th>currency</th>\n",
       "      <th>price_period</th>\n",
       "      <th>property_type</th>\n",
       "      <th>operation_type</th>\n",
       "    </tr>\n",
       "  </thead>\n",
       "  <tbody>\n",
       "    <tr>\n",
       "      <th>0</th>\n",
       "      <td>-34.569845</td>\n",
       "      <td>-59.113120</td>\n",
       "      <td>Argentina</td>\n",
       "      <td>Buenos Aires Interior</td>\n",
       "      <td>Luján</td>\n",
       "      <td>8.0</td>\n",
       "      <td>3.0</td>\n",
       "      <td>2.0</td>\n",
       "      <td>241.0</td>\n",
       "      <td>141.0</td>\n",
       "      <td>180000.0</td>\n",
       "      <td>USD</td>\n",
       "      <td>None</td>\n",
       "      <td>Casa</td>\n",
       "      <td>Sale</td>\n",
       "    </tr>\n",
       "    <tr>\n",
       "      <th>1</th>\n",
       "      <td>-37.320266</td>\n",
       "      <td>-59.143948</td>\n",
       "      <td>Argentina</td>\n",
       "      <td>Buenos Aires Interior</td>\n",
       "      <td>Tandil</td>\n",
       "      <td>5.0</td>\n",
       "      <td>4.0</td>\n",
       "      <td>2.0</td>\n",
       "      <td>375.0</td>\n",
       "      <td>185.0</td>\n",
       "      <td>130000.0</td>\n",
       "      <td>USD</td>\n",
       "      <td>None</td>\n",
       "      <td>Casa</td>\n",
       "      <td>Sale</td>\n",
       "    </tr>\n",
       "    <tr>\n",
       "      <th>2</th>\n",
       "      <td>-37.955460</td>\n",
       "      <td>-57.795685</td>\n",
       "      <td>Argentina</td>\n",
       "      <td>Buenos Aires Interior</td>\n",
       "      <td>General Pueyrredón</td>\n",
       "      <td>6.0</td>\n",
       "      <td>3.0</td>\n",
       "      <td>4.0</td>\n",
       "      <td>1587.0</td>\n",
       "      <td>237.0</td>\n",
       "      <td>185000.0</td>\n",
       "      <td>USD</td>\n",
       "      <td>None</td>\n",
       "      <td>Casa</td>\n",
       "      <td>Sale</td>\n",
       "    </tr>\n",
       "    <tr>\n",
       "      <th>5</th>\n",
       "      <td>-37.156749</td>\n",
       "      <td>-56.892458</td>\n",
       "      <td>Argentina</td>\n",
       "      <td>Buenos Aires Costa Atlántica</td>\n",
       "      <td>Cariló</td>\n",
       "      <td>6.0</td>\n",
       "      <td>NaN</td>\n",
       "      <td>3.0</td>\n",
       "      <td>218.0</td>\n",
       "      <td>218.0</td>\n",
       "      <td>420000.0</td>\n",
       "      <td>USD</td>\n",
       "      <td>Mensual</td>\n",
       "      <td>Casa</td>\n",
       "      <td>Sale</td>\n",
       "    </tr>\n",
       "    <tr>\n",
       "      <th>6</th>\n",
       "      <td>-38.247281</td>\n",
       "      <td>-57.834585</td>\n",
       "      <td>Argentina</td>\n",
       "      <td>Buenos Aires Costa Atlántica</td>\n",
       "      <td>Miramar</td>\n",
       "      <td>3.0</td>\n",
       "      <td>2.0</td>\n",
       "      <td>1.0</td>\n",
       "      <td>1200.0</td>\n",
       "      <td>80.0</td>\n",
       "      <td>80000.0</td>\n",
       "      <td>USD</td>\n",
       "      <td>None</td>\n",
       "      <td>Casa</td>\n",
       "      <td>Sale</td>\n",
       "    </tr>\n",
       "  </tbody>\n",
       "</table>\n",
       "</div>"
      ],
      "text/plain": [
       "         lat        lon         l1                            l2  \\\n",
       "0 -34.569845 -59.113120  Argentina         Buenos Aires Interior   \n",
       "1 -37.320266 -59.143948  Argentina         Buenos Aires Interior   \n",
       "2 -37.955460 -57.795685  Argentina         Buenos Aires Interior   \n",
       "5 -37.156749 -56.892458  Argentina  Buenos Aires Costa Atlántica   \n",
       "6 -38.247281 -57.834585  Argentina  Buenos Aires Costa Atlántica   \n",
       "\n",
       "                   l3  rooms  bedrooms  bathrooms  surface_total  \\\n",
       "0               Luján    8.0       3.0        2.0          241.0   \n",
       "1              Tandil    5.0       4.0        2.0          375.0   \n",
       "2  General Pueyrredón    6.0       3.0        4.0         1587.0   \n",
       "5              Cariló    6.0       NaN        3.0          218.0   \n",
       "6             Miramar    3.0       2.0        1.0         1200.0   \n",
       "\n",
       "   surface_covered     price currency price_period property_type  \\\n",
       "0            141.0  180000.0      USD         None          Casa   \n",
       "1            185.0  130000.0      USD         None          Casa   \n",
       "2            237.0  185000.0      USD         None          Casa   \n",
       "5            218.0  420000.0      USD      Mensual          Casa   \n",
       "6             80.0   80000.0      USD         None          Casa   \n",
       "\n",
       "  operation_type  \n",
       "0           Sale  \n",
       "1           Sale  \n",
       "2           Sale  \n",
       "5           Sale  \n",
       "6           Sale  "
      ]
     },
     "execution_count": 14,
     "metadata": {},
     "output_type": "execute_result"
    }
   ],
   "source": [
    "# creating mask for the data between low and high\n",
    "# and adding this to our wrangle function\n",
    "low, high = df[\"surface_covered\"].quantile([0.1, 0.9])\n",
    "mask_area = df[\"surface_covered\"].between(low, high)\n",
    "df[mask_area].head()"
   ]
  },
  {
   "cell_type": "code",
   "execution_count": 15,
   "id": "0ab18e82",
   "metadata": {},
   "outputs": [],
   "source": [
    "## Just re-writing the wrangle  function just for demonstration\n",
    "## Should have updated the one above\n",
    "\n",
    "def wrangle(filepath):\n",
    "    \"\"\"\n",
    "    Data importing and Cleaning Process\n",
    "    \"\"\"\n",
    "    # Read parquet and return the DataFrame\n",
    "    df = pd.read_parquet(filepath)\n",
    "    \n",
    "    # Remove outliers by `surface_covered and surface_total`\n",
    "    low, high = df[\"surface_covered\"].quantile([0.1, 0.9])\n",
    "    mask_area = df[\"surface_covered\"].between(low, high)\n",
    "    \n",
    "    low, high = df[\"surface_total\"].quantile([0.1, 0.9])\n",
    "    mask_area_toal = df[\"surface_total\"].between(low, high)\n",
    "    \n",
    "    df = df[mask_area & mask_area_toal]\n",
    "    \n",
    "    return df"
   ]
  },
  {
   "cell_type": "code",
   "execution_count": 16,
   "id": "242fae91",
   "metadata": {},
   "outputs": [
    {
     "name": "stdout",
     "output_type": "stream",
     "text": [
      "df shape: (16315, 15)\n"
     ]
    }
   ],
   "source": [
    "df = wrangle(\"./data/properties_train_clean.parquet\")\n",
    "print(f\"df shape: {df.shape}\")"
   ]
  },
  {
   "cell_type": "code",
   "execution_count": 17,
   "id": "af8783a3",
   "metadata": {},
   "outputs": [
    {
     "data": {
      "image/png": "[encoded data removed]",
      "text/plain": [
       "<Figure size 432x288 with 1 Axes>"
      ]
     },
     "metadata": {
      "needs_background": "light"
     },
     "output_type": "display_data"
    }
   ],
   "source": [
    "plt.hist(df[\"surface_covered\"])\n",
    "plt.xlabel(\"Area\")\n",
    "plt.title(\"Distribution of Property Sizes\");"
   ]
  },
  {
   "cell_type": "code",
   "execution_count": 18,
   "id": "b58eb751",
   "metadata": {},
   "outputs": [
    {
     "data": {
      "image/png": "[encoded data removed]",
      "text/plain": [
       "<Figure size 432x288 with 1 Axes>"
      ]
     },
     "metadata": {
      "needs_background": "light"
     },
     "output_type": "display_data"
    }
   ],
   "source": [
    "plt.hist(df[\"surface_total\"])\n",
    "plt.xlabel(\"Area\")\n",
    "plt.title(\"Distribution of Property Sizes (Surcace Total)\");"
   ]
  },
  {
   "cell_type": "markdown",
   "id": "459039b4",
   "metadata": {},
   "source": [
    "### Relationship between surface area and price\n"
   ]
  },
  {
   "cell_type": "code",
   "execution_count": 19,
   "id": "4cd76af4",
   "metadata": {},
   "outputs": [
    {
     "data": {
      "image/png": "[encoded data removed]",
      "text/plain": [
       "<Figure size 432x288 with 1 Axes>"
      ]
     },
     "metadata": {
      "needs_background": "light"
     },
     "output_type": "display_data"
    }
   ],
   "source": [
    "plt.scatter(x=df[\"surface_covered\"], y=df[\"price\"])\n",
    "plt.xlabel(\"Surface Area Covered\")\n",
    "plt.ylabel(\"Price [USD]\")\n",
    "plt.title(\"Buenos Aires: Price Vs Surface Covered\");"
   ]
  },
  {
   "cell_type": "code",
   "execution_count": 20,
   "id": "352a7fcd",
   "metadata": {},
   "outputs": [
    {
     "data": {
      "text/plain": [
       "0.06280732937388651"
      ]
     },
     "execution_count": 20,
     "metadata": {},
     "output_type": "execute_result"
    }
   ],
   "source": [
    "df[\"surface_covered\"].corr(df[\"price\"])"
   ]
  },
  {
   "cell_type": "code",
   "execution_count": 21,
   "id": "4a8297f5",
   "metadata": {},
   "outputs": [
    {
     "data": {
      "image/png": "[encoded data removed]",
      "text/plain": [
       "<Figure size 432x288 with 1 Axes>"
      ]
     },
     "metadata": {
      "needs_background": "light"
     },
     "output_type": "display_data"
    }
   ],
   "source": [
    "plt.scatter(x=df[\"surface_total\"], y=df[\"price\"])\n",
    "plt.xlabel(\"Surface Total Covered\")\n",
    "plt.ylabel(\"Price [USD]\")\n",
    "plt.title(\"Buenos Aires: Price Vs Surface Total\");"
   ]
  },
  {
   "cell_type": "code",
   "execution_count": 22,
   "id": "88fb5d89",
   "metadata": {},
   "outputs": [
    {
     "data": {
      "text/plain": [
       "0.026306958845406896"
      ]
     },
     "execution_count": 22,
     "metadata": {},
     "output_type": "execute_result"
    }
   ],
   "source": [
    "df[\"surface_total\"].corr(df[\"price\"])"
   ]
  },
  {
   "cell_type": "markdown",
   "id": "c98f591d",
   "metadata": {},
   "source": [
    "The plot suggest there's a very low positive correlation between price and surface covered. This means surface covered is not a very good feature to predict price with."
   ]
  },
  {
   "cell_type": "markdown",
   "id": "5a7399c5",
   "metadata": {},
   "source": [
    "### Split: Splitting data into a feature matrix (features to use to make predictions) and target vector (feature you want to predict)"
   ]
  },
  {
   "cell_type": "code",
   "execution_count": 23,
   "id": "e2aec2f2",
   "metadata": {},
   "outputs": [],
   "source": [
    "# Taking a single feature (surface_covered)\n",
    "features = [\"surface_covered\"]\n",
    "target = \"price\"\n",
    "X_train = df[features]\n",
    "y_train = df[target]"
   ]
  },
  {
   "cell_type": "code",
   "execution_count": 24,
   "id": "bcd09ea8",
   "metadata": {},
   "outputs": [
    {
     "data": {
      "text/plain": [
       "(16315, 1)"
      ]
     },
     "execution_count": 24,
     "metadata": {},
     "output_type": "execute_result"
    }
   ],
   "source": [
    "X_train.shape"
   ]
  },
  {
   "cell_type": "code",
   "execution_count": 25,
   "id": "b9a8a089",
   "metadata": {},
   "outputs": [
    {
     "data": {
      "text/plain": [
       "(16315,)"
      ]
     },
     "execution_count": 25,
     "metadata": {},
     "output_type": "execute_result"
    }
   ],
   "source": [
    "y_train.shape"
   ]
  },
  {
   "cell_type": "markdown",
   "id": "ca9652f0",
   "metadata": {},
   "source": [
    "## Build Model\n",
    "### Baseline"
   ]
  },
  {
   "cell_type": "code",
   "execution_count": 26,
   "id": "f3fc572d",
   "metadata": {},
   "outputs": [
    {
     "data": {
      "text/plain": [
       "155467.63407906835"
      ]
     },
     "execution_count": 26,
     "metadata": {},
     "output_type": "execute_result"
    }
   ],
   "source": [
    "y_mean = y_train.mean()\n",
    "y_mean"
   ]
  },
  {
   "cell_type": "markdown",
   "id": "15ca917f",
   "metadata": {},
   "source": [
    "Now that we the one prediction that our dumb model will always make, we need to make a list that repeats for every prediction in our dataset"
   ]
  },
  {
   "cell_type": "code",
   "execution_count": 27,
   "id": "4fede83d",
   "metadata": {},
   "outputs": [
    {
     "data": {
      "text/plain": [
       "[155467.63407906835,\n",
       " 155467.63407906835,\n",
       " 155467.63407906835,\n",
       " 155467.63407906835,\n",
       " 155467.63407906835]"
      ]
     },
     "execution_count": 27,
     "metadata": {},
     "output_type": "execute_result"
    }
   ],
   "source": [
    "y_pred_baseline = [y_mean] * len(y_train)\n",
    "y_pred_baseline[:5]"
   ]
  },
  {
   "cell_type": "markdown",
   "id": "e1942051",
   "metadata": {},
   "source": [
    "Baseline mean absolute error for your predictions in y_pred_baseline as compared to the true targets in y"
   ]
  },
  {
   "cell_type": "code",
   "execution_count": 28,
   "id": "e29ebceb",
   "metadata": {},
   "outputs": [
    {
     "name": "stdout",
     "output_type": "stream",
     "text": [
      "Mean apt price 155467.63\n",
      "Baseline MAE: 137780.44\n"
     ]
    }
   ],
   "source": [
    "mae_baseline = mean_absolute_error(y_train, y_pred_baseline)\n",
    "\n",
    "print(\"Mean apt price\", round(y_mean, 2))\n",
    "print(\"Baseline MAE:\", round(mae_baseline, 2))"
   ]
  },
  {
   "cell_type": "markdown",
   "id": "d390acba",
   "metadata": {},
   "source": [
    "What does this information tell us?. If we always predicted that the price of the local commercial property is `$155467.634`, our predictions would be off by an average of `$137780.44`. It also tells us that our model needs to have mean absolute error below `$137780.44` in order to be successful."
   ]
  },
  {
   "cell_type": "markdown",
   "id": "ae61acbb",
   "metadata": {},
   "source": [
    "## Iterate\n",
    "\n",
    "This involves building a model, training it, evaluating it, and then repeating the process until you're happy with the model's performance"
   ]
  },
  {
   "cell_type": "code",
   "execution_count": 29,
   "id": "29317c68",
   "metadata": {},
   "outputs": [
    {
     "data": {
      "text/html": [
       "<style>#sk-container-id-1 {color: black;background-color: white;}#sk-container-id-1 pre{padding: 0;}#sk-container-id-1 div.sk-toggleable {background-color: white;}#sk-container-id-1 label.sk-toggleable__label {cursor: pointer;display: block;width: 100%;margin-bottom: 0;padding: 0.3em;box-sizing: border-box;text-align: center;}#sk-container-id-1 label.sk-toggleable__label-arrow:before {content: \"▸\";float: left;margin-right: 0.25em;color: #696969;}#sk-container-id-1 label.sk-toggleable__label-arrow:hover:before {color: black;}#sk-container-id-1 div.sk-estimator:hover label.sk-toggleable__label-arrow:before {color: black;}#sk-container-id-1 div.sk-toggleable__content {max-height: 0;max-width: 0;overflow: hidden;text-align: left;background-color: #f0f8ff;}#sk-container-id-1 div.sk-toggleable__content pre {margin: 0.2em;color: black;border-radius: 0.25em;background-color: #f0f8ff;}#sk-container-id-1 input.sk-toggleable__control:checked~div.sk-toggleable__content {max-height: 200px;max-width: 100%;overflow: auto;}#sk-container-id-1 input.sk-toggleable__control:checked~label.sk-toggleable__label-arrow:before {content: \"▾\";}#sk-container-id-1 div.sk-estimator input.sk-toggleable__control:checked~label.sk-toggleable__label {background-color: #d4ebff;}#sk-container-id-1 div.sk-label input.sk-toggleable__control:checked~label.sk-toggleable__label {background-color: #d4ebff;}#sk-container-id-1 input.sk-hidden--visually {border: 0;clip: rect(1px 1px 1px 1px);clip: rect(1px, 1px, 1px, 1px);height: 1px;margin: -1px;overflow: hidden;padding: 0;position: absolute;width: 1px;}#sk-container-id-1 div.sk-estimator {font-family: monospace;background-color: #f0f8ff;border: 1px dotted black;border-radius: 0.25em;box-sizing: border-box;margin-bottom: 0.5em;}#sk-container-id-1 div.sk-estimator:hover {background-color: #d4ebff;}#sk-container-id-1 div.sk-parallel-item::after {content: \"\";width: 100%;border-bottom: 1px solid gray;flex-grow: 1;}#sk-container-id-1 div.sk-label:hover label.sk-toggleable__label {background-color: #d4ebff;}#sk-container-id-1 div.sk-serial::before {content: \"\";position: absolute;border-left: 1px solid gray;box-sizing: border-box;top: 0;bottom: 0;left: 50%;z-index: 0;}#sk-container-id-1 div.sk-serial {display: flex;flex-direction: column;align-items: center;background-color: white;padding-right: 0.2em;padding-left: 0.2em;position: relative;}#sk-container-id-1 div.sk-item {position: relative;z-index: 1;}#sk-container-id-1 div.sk-parallel {display: flex;align-items: stretch;justify-content: center;background-color: white;position: relative;}#sk-container-id-1 div.sk-item::before, #sk-container-id-1 div.sk-parallel-item::before {content: \"\";position: absolute;border-left: 1px solid gray;box-sizing: border-box;top: 0;bottom: 0;left: 50%;z-index: -1;}#sk-container-id-1 div.sk-parallel-item {display: flex;flex-direction: column;z-index: 1;position: relative;background-color: white;}#sk-container-id-1 div.sk-parallel-item:first-child::after {align-self: flex-end;width: 50%;}#sk-container-id-1 div.sk-parallel-item:last-child::after {align-self: flex-start;width: 50%;}#sk-container-id-1 div.sk-parallel-item:only-child::after {width: 0;}#sk-container-id-1 div.sk-dashed-wrapped {border: 1px dashed gray;margin: 0 0.4em 0.5em 0.4em;box-sizing: border-box;padding-bottom: 0.4em;background-color: white;}#sk-container-id-1 div.sk-label label {font-family: monospace;font-weight: bold;display: inline-block;line-height: 1.2em;}#sk-container-id-1 div.sk-label-container {text-align: center;}#sk-container-id-1 div.sk-container {/* jupyter's `normalize.less` sets `[hidden] { display: none; }` but bootstrap.min.css set `[hidden] { display: none !important; }` so we also need the `!important` here to be able to override the default hidden behavior on the sphinx rendered scikit-learn.org. See: https://github.com/scikit-learn/scikit-learn/issues/21755 */display: inline-block !important;position: relative;}#sk-container-id-1 div.sk-text-repr-fallback {display: none;}</style><div id=\"sk-container-id-1\" class=\"sk-top-container\"><div class=\"sk-text-repr-fallback\"><pre>LinearRegression()</pre><b>In a Jupyter environment, please rerun this cell to show the HTML representation or trust the notebook. <br />On GitHub, the HTML representation is unable to render, please try loading this page with nbviewer.org.</b></div><div class=\"sk-container\" hidden><div class=\"sk-item\"><div class=\"sk-estimator sk-toggleable\"><input class=\"sk-toggleable__control sk-hidden--visually\" id=\"sk-estimator-id-1\" type=\"checkbox\" checked><label for=\"sk-estimator-id-1\" class=\"sk-toggleable__label sk-toggleable__label-arrow\">LinearRegression</label><div class=\"sk-toggleable__content\"><pre>LinearRegression()</pre></div></div></div></div></div>"
      ],
      "text/plain": [
       "LinearRegression()"
      ]
     },
     "execution_count": 29,
     "metadata": {},
     "output_type": "execute_result"
    }
   ],
   "source": [
    "model = LinearRegression()\n",
    "model.fit(X_train, y_train)"
   ]
  },
  {
   "cell_type": "markdown",
   "id": "f827f0cb",
   "metadata": {},
   "source": [
    "### Evaluate\n",
    "\n",
    "The final step is to evaluate our model. We'll start by seeing how well it performs when making predictions for the data it saw during training"
   ]
  },
  {
   "cell_type": "code",
   "execution_count": 30,
   "id": "1cd01195",
   "metadata": {},
   "outputs": [
    {
     "data": {
      "text/plain": [
       "array([205281.87153004, 245074.59181267, 274919.13202465, 271301.61199896,\n",
       "       171819.81129236])"
      ]
     },
     "execution_count": 30,
     "metadata": {},
     "output_type": "execute_result"
    }
   ],
   "source": [
    "y_pred_training = model.predict(X_train)\n",
    "y_pred_training[:5]"
   ]
  },
  {
   "cell_type": "code",
   "execution_count": 31,
   "id": "f45eab6b",
   "metadata": {},
   "outputs": [
    {
     "name": "stdout",
     "output_type": "stream",
     "text": [
      "Training MAE: 124883.14\n"
     ]
    }
   ],
   "source": [
    "mae_training = mean_absolute_error(y_train, y_pred_training)\n",
    "print(\"Training MAE:\", round(mae_training, 2))"
   ]
  },
  {
   "cell_type": "markdown",
   "id": "131dab6a",
   "metadata": {},
   "source": [
    "Good news: Our model beat the baseline by over $10,000! That's a good indicator that it will be helpful in predicting apartment prices. \n",
    "\n",
    "But the real test is how the model performs on data that it hasn't seen before, data that we call the test set.\n",
    "In the future, you'll create your own test set before you train your model, but here we'll use one that's pre-made"
   ]
  },
  {
   "cell_type": "code",
   "execution_count": 32,
   "id": "1ff6091c",
   "metadata": {},
   "outputs": [
    {
     "data": {
      "text/plain": [
       "(25299, 1)"
      ]
     },
     "execution_count": 32,
     "metadata": {},
     "output_type": "execute_result"
    }
   ],
   "source": [
    "X_valid = pd.read_parquet(\"./data/properties_train_clean.parquet\")[features]\n",
    "X_valid = X_valid.dropna()\n",
    "X_valid.shape"
   ]
  },
  {
   "cell_type": "code",
   "execution_count": 33,
   "id": "d64f1c77",
   "metadata": {},
   "outputs": [
    {
     "data": {
      "text/plain": [
       "array([205281.87153004, 245074.59181267, 292102.3521467 , 274919.13202465,\n",
       "       150114.6911382 ])"
      ]
     },
     "execution_count": 33,
     "metadata": {},
     "output_type": "execute_result"
    }
   ],
   "source": [
    "y_pred_valid = model.predict(X_valid[:y_train.shape[0]])\n",
    "y_pred_valid[:5]"
   ]
  },
  {
   "cell_type": "code",
   "execution_count": 34,
   "id": "1e5d4e6f",
   "metadata": {},
   "outputs": [
    {
     "data": {
      "text/plain": [
       "(16315,)"
      ]
     },
     "execution_count": 34,
     "metadata": {},
     "output_type": "execute_result"
    }
   ],
   "source": [
    "y_train.shape"
   ]
  },
  {
   "cell_type": "code",
   "execution_count": 35,
   "id": "af84cd0a",
   "metadata": {},
   "outputs": [
    {
     "name": "stdout",
     "output_type": "stream",
     "text": [
      "Validation MAE: 956740.5\n"
     ]
    }
   ],
   "source": [
    "mae_valid = mean_absolute_error(y_train, y_pred_valid)\n",
    "print(\"Validation MAE:\", round(mae_valid, 2))"
   ]
  },
  {
   "cell_type": "markdown",
   "id": "87496fd9",
   "metadata": {},
   "source": [
    "The validation mae is way above the baseline mae and training mae. This means that our model doesn't generalize well"
   ]
  },
  {
   "cell_type": "markdown",
   "id": "5497fb6e",
   "metadata": {},
   "source": [
    "### Communicate Results ( y = mx + b)"
   ]
  },
  {
   "cell_type": "code",
   "execution_count": 36,
   "id": "e01770e9",
   "metadata": {},
   "outputs": [
    {
     "name": "stdout",
     "output_type": "stream",
     "text": [
      "Model Intercept: 77764.29\n",
      "Model coefficient for \"surface_covered\": 904.38\n"
     ]
    }
   ],
   "source": [
    "intercept = round(model.intercept_, 2)\n",
    "print(\"Model Intercept:\", intercept)\n",
    "\n",
    "coefficient = round(model.coef_[0], 2)\n",
    "print('Model coefficient for \"surface_covered\":', coefficient)"
   ]
  },
  {
   "cell_type": "code",
   "execution_count": 37,
   "id": "ab9a2dd0",
   "metadata": {},
   "outputs": [
    {
     "name": "stdout",
     "output_type": "stream",
     "text": [
      "apartment_price = 77764.29 + 904.38 * surface_covered\n"
     ]
    }
   ],
   "source": [
    "print(f\"apartment_price = {intercept} + {coefficient} * surface_covered\")"
   ]
  },
  {
   "cell_type": "code",
   "execution_count": null,
   "id": "7fbdced5",
   "metadata": {},
   "outputs": [],
   "source": []
  },
  {
   "cell_type": "markdown",
   "id": "8251ff55",
   "metadata": {},
   "source": [
    "## Price and everything\n",
    "\n",
    "### Predicting price with size, Location, neighborhood etc"
   ]
  },
  {
   "cell_type": "code",
   "execution_count": 119,
   "id": "1b5f66c6",
   "metadata": {},
   "outputs": [],
   "source": [
    "def wrangle(filepath):\n",
    "    \"\"\"\n",
    "    Data importing and Cleaning Process\n",
    "    \"\"\"\n",
    "    # Read parquet and return the DataFrame\n",
    "    df = pd.read_parquet(filepath)\n",
    "    \n",
    "    # Remove outliers by `surface_covered and surface_total`\n",
    "    low, high = df[\"surface_covered\"].quantile([0.1, 0.9])\n",
    "    mask_area = df[\"surface_covered\"].between(low, high)\n",
    "    \n",
    "    low, high = df[\"surface_total\"].quantile([0.1, 0.9])\n",
    "    mask_area_toal = df[\"surface_total\"].between(low, high)\n",
    "    \n",
    "    df = df[mask_area & mask_area_toal]\n",
    "    \n",
    "    # Columns to drop\n",
    "    drop_columns = [\"currency\", \"price_period\", \"l1\", \"l2\", \"l3\"]\n",
    "    df.drop(columns=drop_columns, inplace=True)\n",
    "    \n",
    "    # Drops columns with multicollinearity\n",
    "    multicollinearity_cols = [\"bathrooms\", \"bedrooms\", \"surface_total\"]\n",
    "    df.drop(columns=multicollinearity_cols, inplace=True)\n",
    "    \n",
    "    return df"
   ]
  },
  {
   "cell_type": "code",
   "execution_count": 120,
   "id": "70077fb1",
   "metadata": {},
   "outputs": [
    {
     "name": "stdout",
     "output_type": "stream",
     "text": [
      "df shape: (16315, 7)\n"
     ]
    }
   ],
   "source": [
    "df = wrangle(\"./data/properties_train_clean.parquet\")\n",
    "print(f\"df shape: {df.shape}\")"
   ]
  },
  {
   "cell_type": "code",
   "execution_count": 121,
   "id": "ebd1d412",
   "metadata": {},
   "outputs": [
    {
     "data": {
      "text/html": [
       "<div>\n",
       "<style scoped>\n",
       "    .dataframe tbody tr th:only-of-type {\n",
       "        vertical-align: middle;\n",
       "    }\n",
       "\n",
       "    .dataframe tbody tr th {\n",
       "        vertical-align: top;\n",
       "    }\n",
       "\n",
       "    .dataframe thead th {\n",
       "        text-align: right;\n",
       "    }\n",
       "</style>\n",
       "<table border=\"1\" class=\"dataframe\">\n",
       "  <thead>\n",
       "    <tr style=\"text-align: right;\">\n",
       "      <th></th>\n",
       "      <th>lat</th>\n",
       "      <th>lon</th>\n",
       "      <th>rooms</th>\n",
       "      <th>surface_covered</th>\n",
       "      <th>price</th>\n",
       "      <th>property_type</th>\n",
       "      <th>operation_type</th>\n",
       "    </tr>\n",
       "  </thead>\n",
       "  <tbody>\n",
       "    <tr>\n",
       "      <th>0</th>\n",
       "      <td>-34.569845</td>\n",
       "      <td>-59.113120</td>\n",
       "      <td>8.0</td>\n",
       "      <td>141.0</td>\n",
       "      <td>180000.0</td>\n",
       "      <td>Casa</td>\n",
       "      <td>Sale</td>\n",
       "    </tr>\n",
       "    <tr>\n",
       "      <th>1</th>\n",
       "      <td>-37.320266</td>\n",
       "      <td>-59.143948</td>\n",
       "      <td>5.0</td>\n",
       "      <td>185.0</td>\n",
       "      <td>130000.0</td>\n",
       "      <td>Casa</td>\n",
       "      <td>Sale</td>\n",
       "    </tr>\n",
       "    <tr>\n",
       "      <th>5</th>\n",
       "      <td>-37.156749</td>\n",
       "      <td>-56.892458</td>\n",
       "      <td>6.0</td>\n",
       "      <td>218.0</td>\n",
       "      <td>420000.0</td>\n",
       "      <td>Casa</td>\n",
       "      <td>Sale</td>\n",
       "    </tr>\n",
       "    <tr>\n",
       "      <th>7</th>\n",
       "      <td>-37.128590</td>\n",
       "      <td>-56.877461</td>\n",
       "      <td>5.0</td>\n",
       "      <td>214.0</td>\n",
       "      <td>90000.0</td>\n",
       "      <td>Casa</td>\n",
       "      <td>Sale</td>\n",
       "    </tr>\n",
       "    <tr>\n",
       "      <th>9</th>\n",
       "      <td>-38.122101</td>\n",
       "      <td>-57.598719</td>\n",
       "      <td>4.0</td>\n",
       "      <td>104.0</td>\n",
       "      <td>80000.0</td>\n",
       "      <td>Casa</td>\n",
       "      <td>Sale</td>\n",
       "    </tr>\n",
       "  </tbody>\n",
       "</table>\n",
       "</div>"
      ],
      "text/plain": [
       "         lat        lon  rooms  surface_covered     price property_type  \\\n",
       "0 -34.569845 -59.113120    8.0            141.0  180000.0          Casa   \n",
       "1 -37.320266 -59.143948    5.0            185.0  130000.0          Casa   \n",
       "5 -37.156749 -56.892458    6.0            218.0  420000.0          Casa   \n",
       "7 -37.128590 -56.877461    5.0            214.0   90000.0          Casa   \n",
       "9 -38.122101 -57.598719    4.0            104.0   80000.0          Casa   \n",
       "\n",
       "  operation_type  \n",
       "0           Sale  \n",
       "1           Sale  \n",
       "5           Sale  \n",
       "7           Sale  \n",
       "9           Sale  "
      ]
     },
     "execution_count": 121,
     "metadata": {},
     "output_type": "execute_result"
    }
   ],
   "source": [
    "df.head()"
   ]
  },
  {
   "cell_type": "code",
   "execution_count": 122,
   "id": "729f9c56",
   "metadata": {},
   "outputs": [
    {
     "name": "stdout",
     "output_type": "stream",
     "text": [
      "<class 'pandas.core.frame.DataFrame'>\n",
      "Int64Index: 16315 entries, 0 to 190616\n",
      "Data columns (total 7 columns):\n",
      " #   Column           Non-Null Count  Dtype  \n",
      "---  ------           --------------  -----  \n",
      " 0   lat              15116 non-null  float64\n",
      " 1   lon              15116 non-null  float64\n",
      " 2   rooms            14041 non-null  float64\n",
      " 3   surface_covered  16315 non-null  float64\n",
      " 4   price            16315 non-null  float64\n",
      " 5   property_type    16315 non-null  object \n",
      " 6   operation_type   16315 non-null  object \n",
      "dtypes: float64(5), object(2)\n",
      "memory usage: 1019.7+ KB\n"
     ]
    }
   ],
   "source": [
    "df.info()"
   ]
  },
  {
   "cell_type": "code",
   "execution_count": 123,
   "id": "8192d0a5",
   "metadata": {},
   "outputs": [
    {
     "data": {
      "text/plain": [
       "lat                0.073491\n",
       "lon                0.073491\n",
       "rooms              0.139381\n",
       "surface_covered    0.000000\n",
       "price              0.000000\n",
       "property_type      0.000000\n",
       "operation_type     0.000000\n",
       "dtype: float64"
      ]
     },
     "execution_count": 123,
     "metadata": {},
     "output_type": "execute_result"
    }
   ],
   "source": [
    "df.isna().sum() / len(df)"
   ]
  },
  {
   "cell_type": "markdown",
   "id": "ce9fd1c5",
   "metadata": {},
   "source": [
    "#### Look out for are categorical columns with low or high cardinality"
   ]
  },
  {
   "cell_type": "code",
   "execution_count": 124,
   "id": "d7d05489",
   "metadata": {},
   "outputs": [
    {
     "data": {
      "text/html": [
       "<div>\n",
       "<style scoped>\n",
       "    .dataframe tbody tr th:only-of-type {\n",
       "        vertical-align: middle;\n",
       "    }\n",
       "\n",
       "    .dataframe tbody tr th {\n",
       "        vertical-align: top;\n",
       "    }\n",
       "\n",
       "    .dataframe thead th {\n",
       "        text-align: right;\n",
       "    }\n",
       "</style>\n",
       "<table border=\"1\" class=\"dataframe\">\n",
       "  <thead>\n",
       "    <tr style=\"text-align: right;\">\n",
       "      <th></th>\n",
       "      <th>property_type</th>\n",
       "      <th>operation_type</th>\n",
       "    </tr>\n",
       "  </thead>\n",
       "  <tbody>\n",
       "    <tr>\n",
       "      <th>0</th>\n",
       "      <td>Casa</td>\n",
       "      <td>Sale</td>\n",
       "    </tr>\n",
       "    <tr>\n",
       "      <th>1</th>\n",
       "      <td>Casa</td>\n",
       "      <td>Sale</td>\n",
       "    </tr>\n",
       "    <tr>\n",
       "      <th>5</th>\n",
       "      <td>Casa</td>\n",
       "      <td>Sale</td>\n",
       "    </tr>\n",
       "    <tr>\n",
       "      <th>7</th>\n",
       "      <td>Casa</td>\n",
       "      <td>Sale</td>\n",
       "    </tr>\n",
       "    <tr>\n",
       "      <th>9</th>\n",
       "      <td>Casa</td>\n",
       "      <td>Sale</td>\n",
       "    </tr>\n",
       "  </tbody>\n",
       "</table>\n",
       "</div>"
      ],
      "text/plain": [
       "  property_type operation_type\n",
       "0          Casa           Sale\n",
       "1          Casa           Sale\n",
       "5          Casa           Sale\n",
       "7          Casa           Sale\n",
       "9          Casa           Sale"
      ]
     },
     "execution_count": 124,
     "metadata": {},
     "output_type": "execute_result"
    }
   ],
   "source": [
    "df.select_dtypes(\"object\").head()"
   ]
  },
  {
   "cell_type": "code",
   "execution_count": 125,
   "id": "361e7e17",
   "metadata": {},
   "outputs": [
    {
     "data": {
      "text/plain": [
       "property_type     10\n",
       "operation_type     3\n",
       "dtype: int64"
      ]
     },
     "execution_count": 125,
     "metadata": {},
     "output_type": "execute_result"
    }
   ],
   "source": [
    "df.select_dtypes(\"object\").nunique()"
   ]
  },
  {
   "cell_type": "code",
   "execution_count": 126,
   "id": "be9231c6",
   "metadata": {},
   "outputs": [
    {
     "data": {
      "text/plain": [
       "array(['Casa', 'Departamento', 'Local comercial', 'PH', 'Depósito',\n",
       "       'Otro', 'Casa de campo', 'Oficina', 'Lote', 'Cochera'],\n",
       "      dtype=object)"
      ]
     },
     "execution_count": 126,
     "metadata": {},
     "output_type": "execute_result"
    }
   ],
   "source": [
    "df.property_type.unique()"
   ]
  },
  {
   "cell_type": "markdown",
   "id": "246c4cc4",
   "metadata": {},
   "source": [
    "### Look out for multicollinearity"
   ]
  },
  {
   "cell_type": "code",
   "execution_count": 127,
   "id": "06ebe836",
   "metadata": {},
   "outputs": [
    {
     "data": {
      "text/html": [
       "<div>\n",
       "<style scoped>\n",
       "    .dataframe tbody tr th:only-of-type {\n",
       "        vertical-align: middle;\n",
       "    }\n",
       "\n",
       "    .dataframe tbody tr th {\n",
       "        vertical-align: top;\n",
       "    }\n",
       "\n",
       "    .dataframe thead th {\n",
       "        text-align: right;\n",
       "    }\n",
       "</style>\n",
       "<table border=\"1\" class=\"dataframe\">\n",
       "  <thead>\n",
       "    <tr style=\"text-align: right;\">\n",
       "      <th></th>\n",
       "      <th>lat</th>\n",
       "      <th>lon</th>\n",
       "      <th>rooms</th>\n",
       "      <th>surface_covered</th>\n",
       "    </tr>\n",
       "  </thead>\n",
       "  <tbody>\n",
       "    <tr>\n",
       "      <th>lat</th>\n",
       "      <td>1.000000</td>\n",
       "      <td>0.002453</td>\n",
       "      <td>0.117135</td>\n",
       "      <td>0.174848</td>\n",
       "    </tr>\n",
       "    <tr>\n",
       "      <th>lon</th>\n",
       "      <td>0.002453</td>\n",
       "      <td>1.000000</td>\n",
       "      <td>-0.085603</td>\n",
       "      <td>-0.035604</td>\n",
       "    </tr>\n",
       "    <tr>\n",
       "      <th>rooms</th>\n",
       "      <td>0.117135</td>\n",
       "      <td>-0.085603</td>\n",
       "      <td>1.000000</td>\n",
       "      <td>0.723774</td>\n",
       "    </tr>\n",
       "    <tr>\n",
       "      <th>surface_covered</th>\n",
       "      <td>0.174848</td>\n",
       "      <td>-0.035604</td>\n",
       "      <td>0.723774</td>\n",
       "      <td>1.000000</td>\n",
       "    </tr>\n",
       "  </tbody>\n",
       "</table>\n",
       "</div>"
      ],
      "text/plain": [
       "                      lat       lon     rooms  surface_covered\n",
       "lat              1.000000  0.002453  0.117135         0.174848\n",
       "lon              0.002453  1.000000 -0.085603        -0.035604\n",
       "rooms            0.117135 -0.085603  1.000000         0.723774\n",
       "surface_covered  0.174848 -0.035604  0.723774         1.000000"
      ]
     },
     "execution_count": 127,
     "metadata": {},
     "output_type": "execute_result"
    }
   ],
   "source": [
    "corr = df.select_dtypes(\"number\").drop(columns=\"price\").corr()\n",
    "corr"
   ]
  },
  {
   "cell_type": "code",
   "execution_count": 128,
   "id": "e9d7eab1",
   "metadata": {},
   "outputs": [
    {
     "data": {
      "text/plain": [
       "<AxesSubplot:>"
      ]
     },
     "execution_count": 128,
     "metadata": {},
     "output_type": "execute_result"
    },
    {
     "data": {
      "image/png": "[encoded data removed]",
      "text/plain": [
       "<Figure size 432x288 with 2 Axes>"
      ]
     },
     "metadata": {
      "needs_background": "light"
     },
     "output_type": "display_data"
    }
   ],
   "source": [
    "sns.heatmap(corr)"
   ]
  },
  {
   "cell_type": "code",
   "execution_count": 129,
   "id": "b4e82044",
   "metadata": {},
   "outputs": [
    {
     "name": "stdout",
     "output_type": "stream",
     "text": [
      "<class 'pandas.core.frame.DataFrame'>\n",
      "Int64Index: 16315 entries, 0 to 190616\n",
      "Data columns (total 7 columns):\n",
      " #   Column           Non-Null Count  Dtype  \n",
      "---  ------           --------------  -----  \n",
      " 0   lat              15116 non-null  float64\n",
      " 1   lon              15116 non-null  float64\n",
      " 2   rooms            14041 non-null  float64\n",
      " 3   surface_covered  16315 non-null  float64\n",
      " 4   price            16315 non-null  float64\n",
      " 5   property_type    16315 non-null  object \n",
      " 6   operation_type   16315 non-null  object \n",
      "dtypes: float64(5), object(2)\n",
      "memory usage: 1019.7+ KB\n"
     ]
    }
   ],
   "source": [
    "df.info()"
   ]
  },
  {
   "cell_type": "markdown",
   "id": "87ceb47b",
   "metadata": {},
   "source": [
    "###  Split Data"
   ]
  },
  {
   "cell_type": "code",
   "execution_count": 130,
   "id": "2dda8743",
   "metadata": {},
   "outputs": [],
   "source": [
    "target = \"price\"\n",
    "y_train = df[target]\n",
    "X_train = df.drop(columns=target)"
   ]
  },
  {
   "cell_type": "code",
   "execution_count": 131,
   "id": "4cc5f6a5",
   "metadata": {},
   "outputs": [
    {
     "data": {
      "text/plain": [
       "(16315, 6)"
      ]
     },
     "execution_count": 131,
     "metadata": {},
     "output_type": "execute_result"
    }
   ],
   "source": [
    "X_train.shape"
   ]
  },
  {
   "cell_type": "code",
   "execution_count": 132,
   "id": "9fbd142d",
   "metadata": {},
   "outputs": [
    {
     "data": {
      "text/plain": [
       "(16315,)"
      ]
     },
     "execution_count": 132,
     "metadata": {},
     "output_type": "execute_result"
    }
   ],
   "source": [
    "y_train.shape"
   ]
  },
  {
   "cell_type": "markdown",
   "id": "17a35d66",
   "metadata": {},
   "source": [
    "### Build Model\n",
    "#### Baseline"
   ]
  },
  {
   "cell_type": "code",
   "execution_count": 133,
   "id": "a8ddfdda",
   "metadata": {},
   "outputs": [],
   "source": [
    "y_mean = y_train.mean()\n",
    "y_pred_baseline = [y_mean] * len(y_train)"
   ]
  },
  {
   "cell_type": "code",
   "execution_count": 134,
   "id": "6d676f42",
   "metadata": {},
   "outputs": [
    {
     "name": "stdout",
     "output_type": "stream",
     "text": [
      "Mean apt price: 155467.63\n",
      "Baseline MAE: 137780.44\n",
      "Baseline RMSE: 730717.22\n"
     ]
    }
   ],
   "source": [
    "print(\"Mean apt price:\", round(y_mean, 2))\n",
    "\n",
    "print(\"Baseline MAE:\", mean_absolute_error(y_train, y_pred_baseline).round(2))\n",
    "print(\"Baseline RMSE:\", (mean_squared_error(y_train, y_pred_baseline) ** .5).round(2) )"
   ]
  },
  {
   "cell_type": "markdown",
   "id": "7cba39d9",
   "metadata": {},
   "source": [
    "### Iterate"
   ]
  },
  {
   "cell_type": "code",
   "execution_count": 135,
   "id": "abab4acd",
   "metadata": {},
   "outputs": [
    {
     "data": {
      "text/html": [
       "<style>#sk-container-id-6 {color: black;background-color: white;}#sk-container-id-6 pre{padding: 0;}#sk-container-id-6 div.sk-toggleable {background-color: white;}#sk-container-id-6 label.sk-toggleable__label {cursor: pointer;display: block;width: 100%;margin-bottom: 0;padding: 0.3em;box-sizing: border-box;text-align: center;}#sk-container-id-6 label.sk-toggleable__label-arrow:before {content: \"▸\";float: left;margin-right: 0.25em;color: #696969;}#sk-container-id-6 label.sk-toggleable__label-arrow:hover:before {color: black;}#sk-container-id-6 div.sk-estimator:hover label.sk-toggleable__label-arrow:before {color: black;}#sk-container-id-6 div.sk-toggleable__content {max-height: 0;max-width: 0;overflow: hidden;text-align: left;background-color: #f0f8ff;}#sk-container-id-6 div.sk-toggleable__content pre {margin: 0.2em;color: black;border-radius: 0.25em;background-color: #f0f8ff;}#sk-container-id-6 input.sk-toggleable__control:checked~div.sk-toggleable__content {max-height: 200px;max-width: 100%;overflow: auto;}#sk-container-id-6 input.sk-toggleable__control:checked~label.sk-toggleable__label-arrow:before {content: \"▾\";}#sk-container-id-6 div.sk-estimator input.sk-toggleable__control:checked~label.sk-toggleable__label {background-color: #d4ebff;}#sk-container-id-6 div.sk-label input.sk-toggleable__control:checked~label.sk-toggleable__label {background-color: #d4ebff;}#sk-container-id-6 input.sk-hidden--visually {border: 0;clip: rect(1px 1px 1px 1px);clip: rect(1px, 1px, 1px, 1px);height: 1px;margin: -1px;overflow: hidden;padding: 0;position: absolute;width: 1px;}#sk-container-id-6 div.sk-estimator {font-family: monospace;background-color: #f0f8ff;border: 1px dotted black;border-radius: 0.25em;box-sizing: border-box;margin-bottom: 0.5em;}#sk-container-id-6 div.sk-estimator:hover {background-color: #d4ebff;}#sk-container-id-6 div.sk-parallel-item::after {content: \"\";width: 100%;border-bottom: 1px solid gray;flex-grow: 1;}#sk-container-id-6 div.sk-label:hover label.sk-toggleable__label {background-color: #d4ebff;}#sk-container-id-6 div.sk-serial::before {content: \"\";position: absolute;border-left: 1px solid gray;box-sizing: border-box;top: 0;bottom: 0;left: 50%;z-index: 0;}#sk-container-id-6 div.sk-serial {display: flex;flex-direction: column;align-items: center;background-color: white;padding-right: 0.2em;padding-left: 0.2em;position: relative;}#sk-container-id-6 div.sk-item {position: relative;z-index: 1;}#sk-container-id-6 div.sk-parallel {display: flex;align-items: stretch;justify-content: center;background-color: white;position: relative;}#sk-container-id-6 div.sk-item::before, #sk-container-id-6 div.sk-parallel-item::before {content: \"\";position: absolute;border-left: 1px solid gray;box-sizing: border-box;top: 0;bottom: 0;left: 50%;z-index: -1;}#sk-container-id-6 div.sk-parallel-item {display: flex;flex-direction: column;z-index: 1;position: relative;background-color: white;}#sk-container-id-6 div.sk-parallel-item:first-child::after {align-self: flex-end;width: 50%;}#sk-container-id-6 div.sk-parallel-item:last-child::after {align-self: flex-start;width: 50%;}#sk-container-id-6 div.sk-parallel-item:only-child::after {width: 0;}#sk-container-id-6 div.sk-dashed-wrapped {border: 1px dashed gray;margin: 0 0.4em 0.5em 0.4em;box-sizing: border-box;padding-bottom: 0.4em;background-color: white;}#sk-container-id-6 div.sk-label label {font-family: monospace;font-weight: bold;display: inline-block;line-height: 1.2em;}#sk-container-id-6 div.sk-label-container {text-align: center;}#sk-container-id-6 div.sk-container {/* jupyter's `normalize.less` sets `[hidden] { display: none; }` but bootstrap.min.css set `[hidden] { display: none !important; }` so we also need the `!important` here to be able to override the default hidden behavior on the sphinx rendered scikit-learn.org. See: https://github.com/scikit-learn/scikit-learn/issues/21755 */display: inline-block !important;position: relative;}#sk-container-id-6 div.sk-text-repr-fallback {display: none;}</style><div id=\"sk-container-id-6\" class=\"sk-top-container\"><div class=\"sk-text-repr-fallback\"><pre>Pipeline(steps=[(&#x27;onehotencoder&#x27;,\n",
       "                 OneHotEncoder(cols=[&#x27;property_type&#x27;, &#x27;operation_type&#x27;],\n",
       "                               use_cat_names=True)),\n",
       "                (&#x27;simpleimputer&#x27;, SimpleImputer()), (&#x27;ridge&#x27;, Ridge())])</pre><b>In a Jupyter environment, please rerun this cell to show the HTML representation or trust the notebook. <br />On GitHub, the HTML representation is unable to render, please try loading this page with nbviewer.org.</b></div><div class=\"sk-container\" hidden><div class=\"sk-item sk-dashed-wrapped\"><div class=\"sk-label-container\"><div class=\"sk-label sk-toggleable\"><input class=\"sk-toggleable__control sk-hidden--visually\" id=\"sk-estimator-id-20\" type=\"checkbox\" ><label for=\"sk-estimator-id-20\" class=\"sk-toggleable__label sk-toggleable__label-arrow\">Pipeline</label><div class=\"sk-toggleable__content\"><pre>Pipeline(steps=[(&#x27;onehotencoder&#x27;,\n",
       "                 OneHotEncoder(cols=[&#x27;property_type&#x27;, &#x27;operation_type&#x27;],\n",
       "                               use_cat_names=True)),\n",
       "                (&#x27;simpleimputer&#x27;, SimpleImputer()), (&#x27;ridge&#x27;, Ridge())])</pre></div></div></div><div class=\"sk-serial\"><div class=\"sk-item\"><div class=\"sk-estimator sk-toggleable\"><input class=\"sk-toggleable__control sk-hidden--visually\" id=\"sk-estimator-id-21\" type=\"checkbox\" ><label for=\"sk-estimator-id-21\" class=\"sk-toggleable__label sk-toggleable__label-arrow\">OneHotEncoder</label><div class=\"sk-toggleable__content\"><pre>OneHotEncoder(cols=[&#x27;property_type&#x27;, &#x27;operation_type&#x27;], use_cat_names=True)</pre></div></div></div><div class=\"sk-item\"><div class=\"sk-estimator sk-toggleable\"><input class=\"sk-toggleable__control sk-hidden--visually\" id=\"sk-estimator-id-22\" type=\"checkbox\" ><label for=\"sk-estimator-id-22\" class=\"sk-toggleable__label sk-toggleable__label-arrow\">SimpleImputer</label><div class=\"sk-toggleable__content\"><pre>SimpleImputer()</pre></div></div></div><div class=\"sk-item\"><div class=\"sk-estimator sk-toggleable\"><input class=\"sk-toggleable__control sk-hidden--visually\" id=\"sk-estimator-id-23\" type=\"checkbox\" ><label for=\"sk-estimator-id-23\" class=\"sk-toggleable__label sk-toggleable__label-arrow\">Ridge</label><div class=\"sk-toggleable__content\"><pre>Ridge()</pre></div></div></div></div></div></div></div>"
      ],
      "text/plain": [
       "Pipeline(steps=[('onehotencoder',\n",
       "                 OneHotEncoder(cols=['property_type', 'operation_type'],\n",
       "                               use_cat_names=True)),\n",
       "                ('simpleimputer', SimpleImputer()), ('ridge', Ridge())])"
      ]
     },
     "execution_count": 135,
     "metadata": {},
     "output_type": "execute_result"
    }
   ],
   "source": [
    "model = make_pipeline(\n",
    "    OneHotEncoder(use_cat_names=True),\n",
    "    SimpleImputer(),\n",
    "    Ridge()\n",
    ")\n",
    "model.fit(X_train, y_train)"
   ]
  },
  {
   "cell_type": "markdown",
   "id": "0b900db1",
   "metadata": {},
   "source": [
    "### Evaluate"
   ]
  },
  {
   "cell_type": "code",
   "execution_count": 136,
   "id": "154de06f",
   "metadata": {},
   "outputs": [
    {
     "name": "stdout",
     "output_type": "stream",
     "text": [
      "Training MAE: 136975.22\n",
      "Training RMSE: 719160.44\n"
     ]
    }
   ],
   "source": [
    "y_pred_training = model.predict(X_train)\n",
    "mae_training = mean_absolute_error(y_train, y_pred_training)\n",
    "rmse_training = (mean_squared_error(y_train, y_pred_training)) ** 0.5\n",
    "\n",
    "print(\"Training MAE:\", round(mae_training, 2))\n",
    "print(\"Training RMSE:\", round(rmse_training, 2))"
   ]
  },
  {
   "cell_type": "code",
   "execution_count": 137,
   "id": "4b9022f2",
   "metadata": {},
   "outputs": [
    {
     "data": {
      "text/plain": [
       "array([472044.00758221, 282066.46920957, 318637.93746684, 297657.7390925 ,\n",
       "        73570.7650879 ])"
      ]
     },
     "execution_count": 137,
     "metadata": {},
     "output_type": "execute_result"
    }
   ],
   "source": [
    "y_pred_training[:5]"
   ]
  },
  {
   "cell_type": "code",
   "execution_count": 138,
   "id": "99df65a4",
   "metadata": {},
   "outputs": [
    {
     "data": {
      "text/plain": [
       "(50077, 6)"
      ]
     },
     "execution_count": 138,
     "metadata": {},
     "output_type": "execute_result"
    }
   ],
   "source": [
    "features = X_train.columns\n",
    "X_valid = pd.read_csv(\"./data/uy_properties_crude.csv\")[features]\n",
    "# X_valid = X_valid.dropna()\n",
    "X_valid.shape"
   ]
  },
  {
   "cell_type": "code",
   "execution_count": 139,
   "id": "9b5bd687",
   "metadata": {},
   "outputs": [
    {
     "name": "stdout",
     "output_type": "stream",
     "text": [
      "Training MAE: 136975.22\n",
      "Training RMSE: 719160.44\n"
     ]
    }
   ],
   "source": [
    "y_pred_valid = model.predict(X_valid[:y_train.shape[0]])\n",
    "mae_valid = mean_absolute_error(y_train, y_pred_valid)\n",
    "rmse_valid = (mean_squared_error(y_train, y_pred_valid)) ** 0.5\n",
    "\n",
    "print(\"Training MAE:\", round(mae_training, 2))\n",
    "print(\"Training RMSE:\", round(rmse_training, 2))"
   ]
  },
  {
   "cell_type": "code",
   "execution_count": null,
   "id": "c9e6de55",
   "metadata": {},
   "outputs": [],
   "source": []
  },
  {
   "cell_type": "markdown",
   "id": "5f915312",
   "metadata": {},
   "source": [
    "### RandomForestRegressor Run with hyperparameters"
   ]
  },
  {
   "cell_type": "code",
   "execution_count": 140,
   "id": "34696fd6",
   "metadata": {},
   "outputs": [
    {
     "name": "stdout",
     "output_type": "stream",
     "text": [
      "Pipeline(steps=[('onehotencoder', OneHotEncoder(use_cat_names=True)),\n",
      "                ('simpleimputer', SimpleImputer()),\n",
      "                ('randomforestregressor',\n",
      "                 RandomForestRegressor(random_state=42))])\n"
     ]
    }
   ],
   "source": [
    "rgr = make_pipeline(\n",
    "    OneHotEncoder(use_cat_names=True),\n",
    "    SimpleImputer(),\n",
    "    RandomForestRegressor(random_state=42)\n",
    ")\n",
    "print(rgr)"
   ]
  },
  {
   "cell_type": "markdown",
   "id": "437babd5",
   "metadata": {},
   "source": [
    "By default, the number of trees in our forest (n_estimators) is set to 100. That means when we train this classifier, we'll be fitting 100 trees. While it will take longer to train, it will hopefully lead to better performance.\n",
    "\n",
    "In order to get the best performance from our model, we need to tune its hyperparameter. But how can we do this if we haven't created a validation set? The answer is cross-validation. So, before we look at hyperparameters, let's see how cross-validation works with the classifier we just built."
   ]
  },
  {
   "cell_type": "code",
   "execution_count": 141,
   "id": "1274e2d8",
   "metadata": {},
   "outputs": [
    {
     "name": "stdout",
     "output_type": "stream",
     "text": [
      "[-0.06041296 -0.07019586 -1.60491612  0.16314827 -0.1280333 ]\n"
     ]
    }
   ],
   "source": [
    "cv_acc_scores = cross_val_score(rgr, X_train, y_train, cv=5, n_jobs=-1)\n",
    "print(cv_acc_scores)"
   ]
  },
  {
   "cell_type": "markdown",
   "id": "a8444d69",
   "metadata": {},
   "source": [
    "Create a dictionary with the range of hyperparameters that we want to evaluate for our classifier.\n",
    "\n",
    "1. For the SimpleImputer, try both the \"mean\" and \"median\" strategies.\n",
    "2. For the RandomForestClassifier, try max_depth settings between 10 and 15, by steps of 10.\n",
    "3. Also for the RandomForestClassifier, try n_estimators settings between 25 and 100 by steps of 25."
   ]
  },
  {
   "cell_type": "code",
   "execution_count": 142,
   "id": "2428dc0e",
   "metadata": {},
   "outputs": [
    {
     "data": {
      "text/plain": [
       "{'simpleimputer__strategy': ['mean', 'median'],\n",
       " 'randomforestregressor__n_estimators': range(25, 100, 25),\n",
       " 'randomforestregressor__max_depth': range(10, 50, 10)}"
      ]
     },
     "execution_count": 142,
     "metadata": {},
     "output_type": "execute_result"
    }
   ],
   "source": [
    "params = {\n",
    "    \"simpleimputer__strategy\": [\"mean\", \"median\"],\n",
    "    \"randomforestregressor__n_estimators\": range(25, 100, 25),\n",
    "    \"randomforestregressor__max_depth\": range(10, 50, 10)\n",
    "    \n",
    "}\n",
    "params"
   ]
  },
  {
   "cell_type": "markdown",
   "id": "816d1654",
   "metadata": {},
   "source": [
    "Create a `GridSearchCV` named `model` that includes your regressor and hyperparameter grid. Be sure to use the same arguments for `cv` and `n_jobs` that you used above, and set `verbose` to 1. "
   ]
  },
  {
   "cell_type": "code",
   "execution_count": 143,
   "id": "19ba477a",
   "metadata": {},
   "outputs": [
    {
     "data": {
      "text/html": [
       "<style>#sk-container-id-7 {color: black;background-color: white;}#sk-container-id-7 pre{padding: 0;}#sk-container-id-7 div.sk-toggleable {background-color: white;}#sk-container-id-7 label.sk-toggleable__label {cursor: pointer;display: block;width: 100%;margin-bottom: 0;padding: 0.3em;box-sizing: border-box;text-align: center;}#sk-container-id-7 label.sk-toggleable__label-arrow:before {content: \"▸\";float: left;margin-right: 0.25em;color: #696969;}#sk-container-id-7 label.sk-toggleable__label-arrow:hover:before {color: black;}#sk-container-id-7 div.sk-estimator:hover label.sk-toggleable__label-arrow:before {color: black;}#sk-container-id-7 div.sk-toggleable__content {max-height: 0;max-width: 0;overflow: hidden;text-align: left;background-color: #f0f8ff;}#sk-container-id-7 div.sk-toggleable__content pre {margin: 0.2em;color: black;border-radius: 0.25em;background-color: #f0f8ff;}#sk-container-id-7 input.sk-toggleable__control:checked~div.sk-toggleable__content {max-height: 200px;max-width: 100%;overflow: auto;}#sk-container-id-7 input.sk-toggleable__control:checked~label.sk-toggleable__label-arrow:before {content: \"▾\";}#sk-container-id-7 div.sk-estimator input.sk-toggleable__control:checked~label.sk-toggleable__label {background-color: #d4ebff;}#sk-container-id-7 div.sk-label input.sk-toggleable__control:checked~label.sk-toggleable__label {background-color: #d4ebff;}#sk-container-id-7 input.sk-hidden--visually {border: 0;clip: rect(1px 1px 1px 1px);clip: rect(1px, 1px, 1px, 1px);height: 1px;margin: -1px;overflow: hidden;padding: 0;position: absolute;width: 1px;}#sk-container-id-7 div.sk-estimator {font-family: monospace;background-color: #f0f8ff;border: 1px dotted black;border-radius: 0.25em;box-sizing: border-box;margin-bottom: 0.5em;}#sk-container-id-7 div.sk-estimator:hover {background-color: #d4ebff;}#sk-container-id-7 div.sk-parallel-item::after {content: \"\";width: 100%;border-bottom: 1px solid gray;flex-grow: 1;}#sk-container-id-7 div.sk-label:hover label.sk-toggleable__label {background-color: #d4ebff;}#sk-container-id-7 div.sk-serial::before {content: \"\";position: absolute;border-left: 1px solid gray;box-sizing: border-box;top: 0;bottom: 0;left: 50%;z-index: 0;}#sk-container-id-7 div.sk-serial {display: flex;flex-direction: column;align-items: center;background-color: white;padding-right: 0.2em;padding-left: 0.2em;position: relative;}#sk-container-id-7 div.sk-item {position: relative;z-index: 1;}#sk-container-id-7 div.sk-parallel {display: flex;align-items: stretch;justify-content: center;background-color: white;position: relative;}#sk-container-id-7 div.sk-item::before, #sk-container-id-7 div.sk-parallel-item::before {content: \"\";position: absolute;border-left: 1px solid gray;box-sizing: border-box;top: 0;bottom: 0;left: 50%;z-index: -1;}#sk-container-id-7 div.sk-parallel-item {display: flex;flex-direction: column;z-index: 1;position: relative;background-color: white;}#sk-container-id-7 div.sk-parallel-item:first-child::after {align-self: flex-end;width: 50%;}#sk-container-id-7 div.sk-parallel-item:last-child::after {align-self: flex-start;width: 50%;}#sk-container-id-7 div.sk-parallel-item:only-child::after {width: 0;}#sk-container-id-7 div.sk-dashed-wrapped {border: 1px dashed gray;margin: 0 0.4em 0.5em 0.4em;box-sizing: border-box;padding-bottom: 0.4em;background-color: white;}#sk-container-id-7 div.sk-label label {font-family: monospace;font-weight: bold;display: inline-block;line-height: 1.2em;}#sk-container-id-7 div.sk-label-container {text-align: center;}#sk-container-id-7 div.sk-container {/* jupyter's `normalize.less` sets `[hidden] { display: none; }` but bootstrap.min.css set `[hidden] { display: none !important; }` so we also need the `!important` here to be able to override the default hidden behavior on the sphinx rendered scikit-learn.org. See: https://github.com/scikit-learn/scikit-learn/issues/21755 */display: inline-block !important;position: relative;}#sk-container-id-7 div.sk-text-repr-fallback {display: none;}</style><div id=\"sk-container-id-7\" class=\"sk-top-container\"><div class=\"sk-text-repr-fallback\"><pre>GridSearchCV(cv=5,\n",
       "             estimator=Pipeline(steps=[(&#x27;onehotencoder&#x27;,\n",
       "                                        OneHotEncoder(use_cat_names=True)),\n",
       "                                       (&#x27;simpleimputer&#x27;, SimpleImputer()),\n",
       "                                       (&#x27;randomforestregressor&#x27;,\n",
       "                                        RandomForestRegressor(random_state=42))]),\n",
       "             n_jobs=-1,\n",
       "             param_grid={&#x27;randomforestregressor__max_depth&#x27;: range(10, 50, 10),\n",
       "                         &#x27;randomforestregressor__n_estimators&#x27;: range(25, 100, 25),\n",
       "                         &#x27;simpleimputer__strategy&#x27;: [&#x27;mean&#x27;, &#x27;median&#x27;]},\n",
       "             verbose=1)</pre><b>In a Jupyter environment, please rerun this cell to show the HTML representation or trust the notebook. <br />On GitHub, the HTML representation is unable to render, please try loading this page with nbviewer.org.</b></div><div class=\"sk-container\" hidden><div class=\"sk-item sk-dashed-wrapped\"><div class=\"sk-label-container\"><div class=\"sk-label sk-toggleable\"><input class=\"sk-toggleable__control sk-hidden--visually\" id=\"sk-estimator-id-24\" type=\"checkbox\" ><label for=\"sk-estimator-id-24\" class=\"sk-toggleable__label sk-toggleable__label-arrow\">GridSearchCV</label><div class=\"sk-toggleable__content\"><pre>GridSearchCV(cv=5,\n",
       "             estimator=Pipeline(steps=[(&#x27;onehotencoder&#x27;,\n",
       "                                        OneHotEncoder(use_cat_names=True)),\n",
       "                                       (&#x27;simpleimputer&#x27;, SimpleImputer()),\n",
       "                                       (&#x27;randomforestregressor&#x27;,\n",
       "                                        RandomForestRegressor(random_state=42))]),\n",
       "             n_jobs=-1,\n",
       "             param_grid={&#x27;randomforestregressor__max_depth&#x27;: range(10, 50, 10),\n",
       "                         &#x27;randomforestregressor__n_estimators&#x27;: range(25, 100, 25),\n",
       "                         &#x27;simpleimputer__strategy&#x27;: [&#x27;mean&#x27;, &#x27;median&#x27;]},\n",
       "             verbose=1)</pre></div></div></div><div class=\"sk-parallel\"><div class=\"sk-parallel-item\"><div class=\"sk-item\"><div class=\"sk-label-container\"><div class=\"sk-label sk-toggleable\"><input class=\"sk-toggleable__control sk-hidden--visually\" id=\"sk-estimator-id-25\" type=\"checkbox\" ><label for=\"sk-estimator-id-25\" class=\"sk-toggleable__label sk-toggleable__label-arrow\">estimator: Pipeline</label><div class=\"sk-toggleable__content\"><pre>Pipeline(steps=[(&#x27;onehotencoder&#x27;, OneHotEncoder(use_cat_names=True)),\n",
       "                (&#x27;simpleimputer&#x27;, SimpleImputer()),\n",
       "                (&#x27;randomforestregressor&#x27;,\n",
       "                 RandomForestRegressor(random_state=42))])</pre></div></div></div><div class=\"sk-serial\"><div class=\"sk-item\"><div class=\"sk-serial\"><div class=\"sk-item\"><div class=\"sk-estimator sk-toggleable\"><input class=\"sk-toggleable__control sk-hidden--visually\" id=\"sk-estimator-id-26\" type=\"checkbox\" ><label for=\"sk-estimator-id-26\" class=\"sk-toggleable__label sk-toggleable__label-arrow\">OneHotEncoder</label><div class=\"sk-toggleable__content\"><pre>OneHotEncoder(use_cat_names=True)</pre></div></div></div><div class=\"sk-item\"><div class=\"sk-estimator sk-toggleable\"><input class=\"sk-toggleable__control sk-hidden--visually\" id=\"sk-estimator-id-27\" type=\"checkbox\" ><label for=\"sk-estimator-id-27\" class=\"sk-toggleable__label sk-toggleable__label-arrow\">SimpleImputer</label><div class=\"sk-toggleable__content\"><pre>SimpleImputer()</pre></div></div></div><div class=\"sk-item\"><div class=\"sk-estimator sk-toggleable\"><input class=\"sk-toggleable__control sk-hidden--visually\" id=\"sk-estimator-id-28\" type=\"checkbox\" ><label for=\"sk-estimator-id-28\" class=\"sk-toggleable__label sk-toggleable__label-arrow\">RandomForestRegressor</label><div class=\"sk-toggleable__content\"><pre>RandomForestRegressor(random_state=42)</pre></div></div></div></div></div></div></div></div></div></div></div></div>"
      ],
      "text/plain": [
       "GridSearchCV(cv=5,\n",
       "             estimator=Pipeline(steps=[('onehotencoder',\n",
       "                                        OneHotEncoder(use_cat_names=True)),\n",
       "                                       ('simpleimputer', SimpleImputer()),\n",
       "                                       ('randomforestregressor',\n",
       "                                        RandomForestRegressor(random_state=42))]),\n",
       "             n_jobs=-1,\n",
       "             param_grid={'randomforestregressor__max_depth': range(10, 50, 10),\n",
       "                         'randomforestregressor__n_estimators': range(25, 100, 25),\n",
       "                         'simpleimputer__strategy': ['mean', 'median']},\n",
       "             verbose=1)"
      ]
     },
     "execution_count": 143,
     "metadata": {},
     "output_type": "execute_result"
    }
   ],
   "source": [
    "model = GridSearchCV(\n",
    "    rgr,\n",
    "    param_grid=params,\n",
    "    cv=5,\n",
    "    n_jobs=-1,\n",
    "    verbose=1\n",
    ")\n",
    "model"
   ]
  },
  {
   "cell_type": "code",
   "execution_count": 144,
   "id": "a3ddac74",
   "metadata": {},
   "outputs": [
    {
     "name": "stdout",
     "output_type": "stream",
     "text": [
      "Fitting 5 folds for each of 24 candidates, totalling 120 fits\n"
     ]
    },
    {
     "data": {
      "text/html": [
       "<style>#sk-container-id-8 {color: black;background-color: white;}#sk-container-id-8 pre{padding: 0;}#sk-container-id-8 div.sk-toggleable {background-color: white;}#sk-container-id-8 label.sk-toggleable__label {cursor: pointer;display: block;width: 100%;margin-bottom: 0;padding: 0.3em;box-sizing: border-box;text-align: center;}#sk-container-id-8 label.sk-toggleable__label-arrow:before {content: \"▸\";float: left;margin-right: 0.25em;color: #696969;}#sk-container-id-8 label.sk-toggleable__label-arrow:hover:before {color: black;}#sk-container-id-8 div.sk-estimator:hover label.sk-toggleable__label-arrow:before {color: black;}#sk-container-id-8 div.sk-toggleable__content {max-height: 0;max-width: 0;overflow: hidden;text-align: left;background-color: #f0f8ff;}#sk-container-id-8 div.sk-toggleable__content pre {margin: 0.2em;color: black;border-radius: 0.25em;background-color: #f0f8ff;}#sk-container-id-8 input.sk-toggleable__control:checked~div.sk-toggleable__content {max-height: 200px;max-width: 100%;overflow: auto;}#sk-container-id-8 input.sk-toggleable__control:checked~label.sk-toggleable__label-arrow:before {content: \"▾\";}#sk-container-id-8 div.sk-estimator input.sk-toggleable__control:checked~label.sk-toggleable__label {background-color: #d4ebff;}#sk-container-id-8 div.sk-label input.sk-toggleable__control:checked~label.sk-toggleable__label {background-color: #d4ebff;}#sk-container-id-8 input.sk-hidden--visually {border: 0;clip: rect(1px 1px 1px 1px);clip: rect(1px, 1px, 1px, 1px);height: 1px;margin: -1px;overflow: hidden;padding: 0;position: absolute;width: 1px;}#sk-container-id-8 div.sk-estimator {font-family: monospace;background-color: #f0f8ff;border: 1px dotted black;border-radius: 0.25em;box-sizing: border-box;margin-bottom: 0.5em;}#sk-container-id-8 div.sk-estimator:hover {background-color: #d4ebff;}#sk-container-id-8 div.sk-parallel-item::after {content: \"\";width: 100%;border-bottom: 1px solid gray;flex-grow: 1;}#sk-container-id-8 div.sk-label:hover label.sk-toggleable__label {background-color: #d4ebff;}#sk-container-id-8 div.sk-serial::before {content: \"\";position: absolute;border-left: 1px solid gray;box-sizing: border-box;top: 0;bottom: 0;left: 50%;z-index: 0;}#sk-container-id-8 div.sk-serial {display: flex;flex-direction: column;align-items: center;background-color: white;padding-right: 0.2em;padding-left: 0.2em;position: relative;}#sk-container-id-8 div.sk-item {position: relative;z-index: 1;}#sk-container-id-8 div.sk-parallel {display: flex;align-items: stretch;justify-content: center;background-color: white;position: relative;}#sk-container-id-8 div.sk-item::before, #sk-container-id-8 div.sk-parallel-item::before {content: \"\";position: absolute;border-left: 1px solid gray;box-sizing: border-box;top: 0;bottom: 0;left: 50%;z-index: -1;}#sk-container-id-8 div.sk-parallel-item {display: flex;flex-direction: column;z-index: 1;position: relative;background-color: white;}#sk-container-id-8 div.sk-parallel-item:first-child::after {align-self: flex-end;width: 50%;}#sk-container-id-8 div.sk-parallel-item:last-child::after {align-self: flex-start;width: 50%;}#sk-container-id-8 div.sk-parallel-item:only-child::after {width: 0;}#sk-container-id-8 div.sk-dashed-wrapped {border: 1px dashed gray;margin: 0 0.4em 0.5em 0.4em;box-sizing: border-box;padding-bottom: 0.4em;background-color: white;}#sk-container-id-8 div.sk-label label {font-family: monospace;font-weight: bold;display: inline-block;line-height: 1.2em;}#sk-container-id-8 div.sk-label-container {text-align: center;}#sk-container-id-8 div.sk-container {/* jupyter's `normalize.less` sets `[hidden] { display: none; }` but bootstrap.min.css set `[hidden] { display: none !important; }` so we also need the `!important` here to be able to override the default hidden behavior on the sphinx rendered scikit-learn.org. See: https://github.com/scikit-learn/scikit-learn/issues/21755 */display: inline-block !important;position: relative;}#sk-container-id-8 div.sk-text-repr-fallback {display: none;}</style><div id=\"sk-container-id-8\" class=\"sk-top-container\"><div class=\"sk-text-repr-fallback\"><pre>GridSearchCV(cv=5,\n",
       "             estimator=Pipeline(steps=[(&#x27;onehotencoder&#x27;,\n",
       "                                        OneHotEncoder(use_cat_names=True)),\n",
       "                                       (&#x27;simpleimputer&#x27;, SimpleImputer()),\n",
       "                                       (&#x27;randomforestregressor&#x27;,\n",
       "                                        RandomForestRegressor(random_state=42))]),\n",
       "             n_jobs=-1,\n",
       "             param_grid={&#x27;randomforestregressor__max_depth&#x27;: range(10, 50, 10),\n",
       "                         &#x27;randomforestregressor__n_estimators&#x27;: range(25, 100, 25),\n",
       "                         &#x27;simpleimputer__strategy&#x27;: [&#x27;mean&#x27;, &#x27;median&#x27;]},\n",
       "             verbose=1)</pre><b>In a Jupyter environment, please rerun this cell to show the HTML representation or trust the notebook. <br />On GitHub, the HTML representation is unable to render, please try loading this page with nbviewer.org.</b></div><div class=\"sk-container\" hidden><div class=\"sk-item sk-dashed-wrapped\"><div class=\"sk-label-container\"><div class=\"sk-label sk-toggleable\"><input class=\"sk-toggleable__control sk-hidden--visually\" id=\"sk-estimator-id-29\" type=\"checkbox\" ><label for=\"sk-estimator-id-29\" class=\"sk-toggleable__label sk-toggleable__label-arrow\">GridSearchCV</label><div class=\"sk-toggleable__content\"><pre>GridSearchCV(cv=5,\n",
       "             estimator=Pipeline(steps=[(&#x27;onehotencoder&#x27;,\n",
       "                                        OneHotEncoder(use_cat_names=True)),\n",
       "                                       (&#x27;simpleimputer&#x27;, SimpleImputer()),\n",
       "                                       (&#x27;randomforestregressor&#x27;,\n",
       "                                        RandomForestRegressor(random_state=42))]),\n",
       "             n_jobs=-1,\n",
       "             param_grid={&#x27;randomforestregressor__max_depth&#x27;: range(10, 50, 10),\n",
       "                         &#x27;randomforestregressor__n_estimators&#x27;: range(25, 100, 25),\n",
       "                         &#x27;simpleimputer__strategy&#x27;: [&#x27;mean&#x27;, &#x27;median&#x27;]},\n",
       "             verbose=1)</pre></div></div></div><div class=\"sk-parallel\"><div class=\"sk-parallel-item\"><div class=\"sk-item\"><div class=\"sk-label-container\"><div class=\"sk-label sk-toggleable\"><input class=\"sk-toggleable__control sk-hidden--visually\" id=\"sk-estimator-id-30\" type=\"checkbox\" ><label for=\"sk-estimator-id-30\" class=\"sk-toggleable__label sk-toggleable__label-arrow\">estimator: Pipeline</label><div class=\"sk-toggleable__content\"><pre>Pipeline(steps=[(&#x27;onehotencoder&#x27;, OneHotEncoder(use_cat_names=True)),\n",
       "                (&#x27;simpleimputer&#x27;, SimpleImputer()),\n",
       "                (&#x27;randomforestregressor&#x27;,\n",
       "                 RandomForestRegressor(random_state=42))])</pre></div></div></div><div class=\"sk-serial\"><div class=\"sk-item\"><div class=\"sk-serial\"><div class=\"sk-item\"><div class=\"sk-estimator sk-toggleable\"><input class=\"sk-toggleable__control sk-hidden--visually\" id=\"sk-estimator-id-31\" type=\"checkbox\" ><label for=\"sk-estimator-id-31\" class=\"sk-toggleable__label sk-toggleable__label-arrow\">OneHotEncoder</label><div class=\"sk-toggleable__content\"><pre>OneHotEncoder(use_cat_names=True)</pre></div></div></div><div class=\"sk-item\"><div class=\"sk-estimator sk-toggleable\"><input class=\"sk-toggleable__control sk-hidden--visually\" id=\"sk-estimator-id-32\" type=\"checkbox\" ><label for=\"sk-estimator-id-32\" class=\"sk-toggleable__label sk-toggleable__label-arrow\">SimpleImputer</label><div class=\"sk-toggleable__content\"><pre>SimpleImputer()</pre></div></div></div><div class=\"sk-item\"><div class=\"sk-estimator sk-toggleable\"><input class=\"sk-toggleable__control sk-hidden--visually\" id=\"sk-estimator-id-33\" type=\"checkbox\" ><label for=\"sk-estimator-id-33\" class=\"sk-toggleable__label sk-toggleable__label-arrow\">RandomForestRegressor</label><div class=\"sk-toggleable__content\"><pre>RandomForestRegressor(random_state=42)</pre></div></div></div></div></div></div></div></div></div></div></div></div>"
      ],
      "text/plain": [
       "GridSearchCV(cv=5,\n",
       "             estimator=Pipeline(steps=[('onehotencoder',\n",
       "                                        OneHotEncoder(use_cat_names=True)),\n",
       "                                       ('simpleimputer', SimpleImputer()),\n",
       "                                       ('randomforestregressor',\n",
       "                                        RandomForestRegressor(random_state=42))]),\n",
       "             n_jobs=-1,\n",
       "             param_grid={'randomforestregressor__max_depth': range(10, 50, 10),\n",
       "                         'randomforestregressor__n_estimators': range(25, 100, 25),\n",
       "                         'simpleimputer__strategy': ['mean', 'median']},\n",
       "             verbose=1)"
      ]
     },
     "execution_count": 144,
     "metadata": {},
     "output_type": "execute_result"
    }
   ],
   "source": [
    "# Train model\n",
    "model.fit(X_train, y_train)"
   ]
  },
  {
   "cell_type": "code",
   "execution_count": 145,
   "id": "e1054d19",
   "metadata": {},
   "outputs": [
    {
     "data": {
      "text/html": [
       "<div>\n",
       "<style scoped>\n",
       "    .dataframe tbody tr th:only-of-type {\n",
       "        vertical-align: middle;\n",
       "    }\n",
       "\n",
       "    .dataframe tbody tr th {\n",
       "        vertical-align: top;\n",
       "    }\n",
       "\n",
       "    .dataframe thead th {\n",
       "        text-align: right;\n",
       "    }\n",
       "</style>\n",
       "<table border=\"1\" class=\"dataframe\">\n",
       "  <thead>\n",
       "    <tr style=\"text-align: right;\">\n",
       "      <th></th>\n",
       "      <th>mean_fit_time</th>\n",
       "      <th>std_fit_time</th>\n",
       "      <th>mean_score_time</th>\n",
       "      <th>std_score_time</th>\n",
       "      <th>param_randomforestregressor__max_depth</th>\n",
       "      <th>param_randomforestregressor__n_estimators</th>\n",
       "      <th>param_simpleimputer__strategy</th>\n",
       "      <th>params</th>\n",
       "      <th>split0_test_score</th>\n",
       "      <th>split1_test_score</th>\n",
       "      <th>split2_test_score</th>\n",
       "      <th>split3_test_score</th>\n",
       "      <th>split4_test_score</th>\n",
       "      <th>mean_test_score</th>\n",
       "      <th>std_test_score</th>\n",
       "      <th>rank_test_score</th>\n",
       "    </tr>\n",
       "  </thead>\n",
       "  <tbody>\n",
       "    <tr>\n",
       "      <th>0</th>\n",
       "      <td>1.047534</td>\n",
       "      <td>0.045980</td>\n",
       "      <td>0.026004</td>\n",
       "      <td>0.000941</td>\n",
       "      <td>10</td>\n",
       "      <td>25</td>\n",
       "      <td>mean</td>\n",
       "      <td>{'randomforestregressor__max_depth': 10, 'rand...</td>\n",
       "      <td>-0.221754</td>\n",
       "      <td>-0.059355</td>\n",
       "      <td>-1.397962</td>\n",
       "      <td>0.120174</td>\n",
       "      <td>-0.191546</td>\n",
       "      <td>-0.350088</td>\n",
       "      <td>0.537646</td>\n",
       "      <td>9</td>\n",
       "    </tr>\n",
       "    <tr>\n",
       "      <th>1</th>\n",
       "      <td>1.037583</td>\n",
       "      <td>0.094501</td>\n",
       "      <td>0.033140</td>\n",
       "      <td>0.003960</td>\n",
       "      <td>10</td>\n",
       "      <td>25</td>\n",
       "      <td>median</td>\n",
       "      <td>{'randomforestregressor__max_depth': 10, 'rand...</td>\n",
       "      <td>-0.110653</td>\n",
       "      <td>-0.051652</td>\n",
       "      <td>-1.160219</td>\n",
       "      <td>0.136557</td>\n",
       "      <td>-0.167711</td>\n",
       "      <td>-0.270736</td>\n",
       "      <td>0.456356</td>\n",
       "      <td>3</td>\n",
       "    </tr>\n",
       "    <tr>\n",
       "      <th>2</th>\n",
       "      <td>1.767075</td>\n",
       "      <td>0.054872</td>\n",
       "      <td>0.036486</td>\n",
       "      <td>0.002663</td>\n",
       "      <td>10</td>\n",
       "      <td>50</td>\n",
       "      <td>mean</td>\n",
       "      <td>{'randomforestregressor__max_depth': 10, 'rand...</td>\n",
       "      <td>-0.114199</td>\n",
       "      <td>-0.051003</td>\n",
       "      <td>-1.320125</td>\n",
       "      <td>0.135154</td>\n",
       "      <td>-0.131122</td>\n",
       "      <td>-0.296259</td>\n",
       "      <td>0.520574</td>\n",
       "      <td>5</td>\n",
       "    </tr>\n",
       "    <tr>\n",
       "      <th>3</th>\n",
       "      <td>1.756550</td>\n",
       "      <td>0.079841</td>\n",
       "      <td>0.050082</td>\n",
       "      <td>0.017400</td>\n",
       "      <td>10</td>\n",
       "      <td>50</td>\n",
       "      <td>median</td>\n",
       "      <td>{'randomforestregressor__max_depth': 10, 'rand...</td>\n",
       "      <td>-0.053105</td>\n",
       "      <td>-0.040283</td>\n",
       "      <td>-1.058376</td>\n",
       "      <td>0.150040</td>\n",
       "      <td>-0.126112</td>\n",
       "      <td>-0.225567</td>\n",
       "      <td>0.426290</td>\n",
       "      <td>2</td>\n",
       "    </tr>\n",
       "    <tr>\n",
       "      <th>4</th>\n",
       "      <td>7.306694</td>\n",
       "      <td>0.652373</td>\n",
       "      <td>0.152503</td>\n",
       "      <td>0.042653</td>\n",
       "      <td>10</td>\n",
       "      <td>75</td>\n",
       "      <td>mean</td>\n",
       "      <td>{'randomforestregressor__max_depth': 10, 'rand...</td>\n",
       "      <td>-0.107100</td>\n",
       "      <td>-0.044605</td>\n",
       "      <td>-1.234488</td>\n",
       "      <td>0.145163</td>\n",
       "      <td>-0.127454</td>\n",
       "      <td>-0.273697</td>\n",
       "      <td>0.489936</td>\n",
       "      <td>4</td>\n",
       "    </tr>\n",
       "    <tr>\n",
       "      <th>5</th>\n",
       "      <td>7.962146</td>\n",
       "      <td>1.334157</td>\n",
       "      <td>0.133767</td>\n",
       "      <td>0.053016</td>\n",
       "      <td>10</td>\n",
       "      <td>75</td>\n",
       "      <td>median</td>\n",
       "      <td>{'randomforestregressor__max_depth': 10, 'rand...</td>\n",
       "      <td>-0.045827</td>\n",
       "      <td>-0.037629</td>\n",
       "      <td>-0.997754</td>\n",
       "      <td>0.150757</td>\n",
       "      <td>-0.121651</td>\n",
       "      <td>-0.210421</td>\n",
       "      <td>0.403775</td>\n",
       "      <td>1</td>\n",
       "    </tr>\n",
       "    <tr>\n",
       "      <th>6</th>\n",
       "      <td>3.263892</td>\n",
       "      <td>0.616582</td>\n",
       "      <td>0.138122</td>\n",
       "      <td>0.093306</td>\n",
       "      <td>20</td>\n",
       "      <td>25</td>\n",
       "      <td>mean</td>\n",
       "      <td>{'randomforestregressor__max_depth': 20, 'rand...</td>\n",
       "      <td>-0.200779</td>\n",
       "      <td>-0.092154</td>\n",
       "      <td>-1.908965</td>\n",
       "      <td>0.126767</td>\n",
       "      <td>-0.217780</td>\n",
       "      <td>-0.458582</td>\n",
       "      <td>0.735522</td>\n",
       "      <td>23</td>\n",
       "    </tr>\n",
       "    <tr>\n",
       "      <th>7</th>\n",
       "      <td>2.810247</td>\n",
       "      <td>0.323864</td>\n",
       "      <td>0.067232</td>\n",
       "      <td>0.045002</td>\n",
       "      <td>20</td>\n",
       "      <td>25</td>\n",
       "      <td>median</td>\n",
       "      <td>{'randomforestregressor__max_depth': 20, 'rand...</td>\n",
       "      <td>0.011604</td>\n",
       "      <td>-0.104504</td>\n",
       "      <td>-2.068562</td>\n",
       "      <td>0.148505</td>\n",
       "      <td>-0.221690</td>\n",
       "      <td>-0.446930</td>\n",
       "      <td>0.820058</td>\n",
       "      <td>20</td>\n",
       "    </tr>\n",
       "    <tr>\n",
       "      <th>8</th>\n",
       "      <td>3.687791</td>\n",
       "      <td>0.636359</td>\n",
       "      <td>0.088557</td>\n",
       "      <td>0.022141</td>\n",
       "      <td>20</td>\n",
       "      <td>50</td>\n",
       "      <td>mean</td>\n",
       "      <td>{'randomforestregressor__max_depth': 20, 'rand...</td>\n",
       "      <td>-0.081742</td>\n",
       "      <td>-0.073951</td>\n",
       "      <td>-1.750034</td>\n",
       "      <td>0.135774</td>\n",
       "      <td>-0.150215</td>\n",
       "      <td>-0.384033</td>\n",
       "      <td>0.689690</td>\n",
       "      <td>18</td>\n",
       "    </tr>\n",
       "    <tr>\n",
       "      <th>9</th>\n",
       "      <td>4.177407</td>\n",
       "      <td>0.758433</td>\n",
       "      <td>0.073240</td>\n",
       "      <td>0.016794</td>\n",
       "      <td>20</td>\n",
       "      <td>50</td>\n",
       "      <td>median</td>\n",
       "      <td>{'randomforestregressor__max_depth': 20, 'rand...</td>\n",
       "      <td>0.105024</td>\n",
       "      <td>-0.092284</td>\n",
       "      <td>-1.847116</td>\n",
       "      <td>0.163054</td>\n",
       "      <td>-0.171621</td>\n",
       "      <td>-0.368589</td>\n",
       "      <td>0.749418</td>\n",
       "      <td>13</td>\n",
       "    </tr>\n",
       "  </tbody>\n",
       "</table>\n",
       "</div>"
      ],
      "text/plain": [
       "   mean_fit_time  std_fit_time  mean_score_time  std_score_time  \\\n",
       "0       1.047534      0.045980         0.026004        0.000941   \n",
       "1       1.037583      0.094501         0.033140        0.003960   \n",
       "2       1.767075      0.054872         0.036486        0.002663   \n",
       "3       1.756550      0.079841         0.050082        0.017400   \n",
       "4       7.306694      0.652373         0.152503        0.042653   \n",
       "5       7.962146      1.334157         0.133767        0.053016   \n",
       "6       3.263892      0.616582         0.138122        0.093306   \n",
       "7       2.810247      0.323864         0.067232        0.045002   \n",
       "8       3.687791      0.636359         0.088557        0.022141   \n",
       "9       4.177407      0.758433         0.073240        0.016794   \n",
       "\n",
       "  param_randomforestregressor__max_depth  \\\n",
       "0                                     10   \n",
       "1                                     10   \n",
       "2                                     10   \n",
       "3                                     10   \n",
       "4                                     10   \n",
       "5                                     10   \n",
       "6                                     20   \n",
       "7                                     20   \n",
       "8                                     20   \n",
       "9                                     20   \n",
       "\n",
       "  param_randomforestregressor__n_estimators param_simpleimputer__strategy  \\\n",
       "0                                        25                          mean   \n",
       "1                                        25                        median   \n",
       "2                                        50                          mean   \n",
       "3                                        50                        median   \n",
       "4                                        75                          mean   \n",
       "5                                        75                        median   \n",
       "6                                        25                          mean   \n",
       "7                                        25                        median   \n",
       "8                                        50                          mean   \n",
       "9                                        50                        median   \n",
       "\n",
       "                                              params  split0_test_score  \\\n",
       "0  {'randomforestregressor__max_depth': 10, 'rand...          -0.221754   \n",
       "1  {'randomforestregressor__max_depth': 10, 'rand...          -0.110653   \n",
       "2  {'randomforestregressor__max_depth': 10, 'rand...          -0.114199   \n",
       "3  {'randomforestregressor__max_depth': 10, 'rand...          -0.053105   \n",
       "4  {'randomforestregressor__max_depth': 10, 'rand...          -0.107100   \n",
       "5  {'randomforestregressor__max_depth': 10, 'rand...          -0.045827   \n",
       "6  {'randomforestregressor__max_depth': 20, 'rand...          -0.200779   \n",
       "7  {'randomforestregressor__max_depth': 20, 'rand...           0.011604   \n",
       "8  {'randomforestregressor__max_depth': 20, 'rand...          -0.081742   \n",
       "9  {'randomforestregressor__max_depth': 20, 'rand...           0.105024   \n",
       "\n",
       "   split1_test_score  split2_test_score  split3_test_score  split4_test_score  \\\n",
       "0          -0.059355          -1.397962           0.120174          -0.191546   \n",
       "1          -0.051652          -1.160219           0.136557          -0.167711   \n",
       "2          -0.051003          -1.320125           0.135154          -0.131122   \n",
       "3          -0.040283          -1.058376           0.150040          -0.126112   \n",
       "4          -0.044605          -1.234488           0.145163          -0.127454   \n",
       "5          -0.037629          -0.997754           0.150757          -0.121651   \n",
       "6          -0.092154          -1.908965           0.126767          -0.217780   \n",
       "7          -0.104504          -2.068562           0.148505          -0.221690   \n",
       "8          -0.073951          -1.750034           0.135774          -0.150215   \n",
       "9          -0.092284          -1.847116           0.163054          -0.171621   \n",
       "\n",
       "   mean_test_score  std_test_score  rank_test_score  \n",
       "0        -0.350088        0.537646                9  \n",
       "1        -0.270736        0.456356                3  \n",
       "2        -0.296259        0.520574                5  \n",
       "3        -0.225567        0.426290                2  \n",
       "4        -0.273697        0.489936                4  \n",
       "5        -0.210421        0.403775                1  \n",
       "6        -0.458582        0.735522               23  \n",
       "7        -0.446930        0.820058               20  \n",
       "8        -0.384033        0.689690               18  \n",
       "9        -0.368589        0.749418               13  "
      ]
     },
     "execution_count": 145,
     "metadata": {},
     "output_type": "execute_result"
    }
   ],
   "source": [
    "cv_results = pd.DataFrame(model.cv_results_)\n",
    "cv_results.head(10)"
   ]
  },
  {
   "cell_type": "markdown",
   "id": "2bd7b4c8",
   "metadata": {},
   "source": [
    "#### Extract the best hyperparameters from model\n"
   ]
  },
  {
   "cell_type": "code",
   "execution_count": 146,
   "id": "c052f2ec",
   "metadata": {},
   "outputs": [
    {
     "data": {
      "text/plain": [
       "{'randomforestregressor__max_depth': 10,\n",
       " 'randomforestregressor__n_estimators': 75,\n",
       " 'simpleimputer__strategy': 'median'}"
      ]
     },
     "execution_count": 146,
     "metadata": {},
     "output_type": "execute_result"
    }
   ],
   "source": [
    "model.best_params_"
   ]
  },
  {
   "cell_type": "code",
   "execution_count": 147,
   "id": "04031902",
   "metadata": {},
   "outputs": [
    {
     "data": {
      "text/plain": [
       "-0.21042076967167644"
      ]
     },
     "execution_count": 147,
     "metadata": {},
     "output_type": "execute_result"
    }
   ],
   "source": [
    "model.best_score_"
   ]
  },
  {
   "cell_type": "code",
   "execution_count": 148,
   "id": "59201e32",
   "metadata": {},
   "outputs": [
    {
     "data": {
      "text/html": [
       "<style>#sk-container-id-9 {color: black;background-color: white;}#sk-container-id-9 pre{padding: 0;}#sk-container-id-9 div.sk-toggleable {background-color: white;}#sk-container-id-9 label.sk-toggleable__label {cursor: pointer;display: block;width: 100%;margin-bottom: 0;padding: 0.3em;box-sizing: border-box;text-align: center;}#sk-container-id-9 label.sk-toggleable__label-arrow:before {content: \"▸\";float: left;margin-right: 0.25em;color: #696969;}#sk-container-id-9 label.sk-toggleable__label-arrow:hover:before {color: black;}#sk-container-id-9 div.sk-estimator:hover label.sk-toggleable__label-arrow:before {color: black;}#sk-container-id-9 div.sk-toggleable__content {max-height: 0;max-width: 0;overflow: hidden;text-align: left;background-color: #f0f8ff;}#sk-container-id-9 div.sk-toggleable__content pre {margin: 0.2em;color: black;border-radius: 0.25em;background-color: #f0f8ff;}#sk-container-id-9 input.sk-toggleable__control:checked~div.sk-toggleable__content {max-height: 200px;max-width: 100%;overflow: auto;}#sk-container-id-9 input.sk-toggleable__control:checked~label.sk-toggleable__label-arrow:before {content: \"▾\";}#sk-container-id-9 div.sk-estimator input.sk-toggleable__control:checked~label.sk-toggleable__label {background-color: #d4ebff;}#sk-container-id-9 div.sk-label input.sk-toggleable__control:checked~label.sk-toggleable__label {background-color: #d4ebff;}#sk-container-id-9 input.sk-hidden--visually {border: 0;clip: rect(1px 1px 1px 1px);clip: rect(1px, 1px, 1px, 1px);height: 1px;margin: -1px;overflow: hidden;padding: 0;position: absolute;width: 1px;}#sk-container-id-9 div.sk-estimator {font-family: monospace;background-color: #f0f8ff;border: 1px dotted black;border-radius: 0.25em;box-sizing: border-box;margin-bottom: 0.5em;}#sk-container-id-9 div.sk-estimator:hover {background-color: #d4ebff;}#sk-container-id-9 div.sk-parallel-item::after {content: \"\";width: 100%;border-bottom: 1px solid gray;flex-grow: 1;}#sk-container-id-9 div.sk-label:hover label.sk-toggleable__label {background-color: #d4ebff;}#sk-container-id-9 div.sk-serial::before {content: \"\";position: absolute;border-left: 1px solid gray;box-sizing: border-box;top: 0;bottom: 0;left: 50%;z-index: 0;}#sk-container-id-9 div.sk-serial {display: flex;flex-direction: column;align-items: center;background-color: white;padding-right: 0.2em;padding-left: 0.2em;position: relative;}#sk-container-id-9 div.sk-item {position: relative;z-index: 1;}#sk-container-id-9 div.sk-parallel {display: flex;align-items: stretch;justify-content: center;background-color: white;position: relative;}#sk-container-id-9 div.sk-item::before, #sk-container-id-9 div.sk-parallel-item::before {content: \"\";position: absolute;border-left: 1px solid gray;box-sizing: border-box;top: 0;bottom: 0;left: 50%;z-index: -1;}#sk-container-id-9 div.sk-parallel-item {display: flex;flex-direction: column;z-index: 1;position: relative;background-color: white;}#sk-container-id-9 div.sk-parallel-item:first-child::after {align-self: flex-end;width: 50%;}#sk-container-id-9 div.sk-parallel-item:last-child::after {align-self: flex-start;width: 50%;}#sk-container-id-9 div.sk-parallel-item:only-child::after {width: 0;}#sk-container-id-9 div.sk-dashed-wrapped {border: 1px dashed gray;margin: 0 0.4em 0.5em 0.4em;box-sizing: border-box;padding-bottom: 0.4em;background-color: white;}#sk-container-id-9 div.sk-label label {font-family: monospace;font-weight: bold;display: inline-block;line-height: 1.2em;}#sk-container-id-9 div.sk-label-container {text-align: center;}#sk-container-id-9 div.sk-container {/* jupyter's `normalize.less` sets `[hidden] { display: none; }` but bootstrap.min.css set `[hidden] { display: none !important; }` so we also need the `!important` here to be able to override the default hidden behavior on the sphinx rendered scikit-learn.org. See: https://github.com/scikit-learn/scikit-learn/issues/21755 */display: inline-block !important;position: relative;}#sk-container-id-9 div.sk-text-repr-fallback {display: none;}</style><div id=\"sk-container-id-9\" class=\"sk-top-container\"><div class=\"sk-text-repr-fallback\"><pre>Pipeline(steps=[(&#x27;onehotencoder&#x27;,\n",
       "                 OneHotEncoder(cols=[&#x27;property_type&#x27;, &#x27;operation_type&#x27;],\n",
       "                               use_cat_names=True)),\n",
       "                (&#x27;simpleimputer&#x27;, SimpleImputer(strategy=&#x27;median&#x27;)),\n",
       "                (&#x27;randomforestregressor&#x27;,\n",
       "                 RandomForestRegressor(max_depth=10, n_estimators=75,\n",
       "                                       random_state=42))])</pre><b>In a Jupyter environment, please rerun this cell to show the HTML representation or trust the notebook. <br />On GitHub, the HTML representation is unable to render, please try loading this page with nbviewer.org.</b></div><div class=\"sk-container\" hidden><div class=\"sk-item sk-dashed-wrapped\"><div class=\"sk-label-container\"><div class=\"sk-label sk-toggleable\"><input class=\"sk-toggleable__control sk-hidden--visually\" id=\"sk-estimator-id-34\" type=\"checkbox\" ><label for=\"sk-estimator-id-34\" class=\"sk-toggleable__label sk-toggleable__label-arrow\">Pipeline</label><div class=\"sk-toggleable__content\"><pre>Pipeline(steps=[(&#x27;onehotencoder&#x27;,\n",
       "                 OneHotEncoder(cols=[&#x27;property_type&#x27;, &#x27;operation_type&#x27;],\n",
       "                               use_cat_names=True)),\n",
       "                (&#x27;simpleimputer&#x27;, SimpleImputer(strategy=&#x27;median&#x27;)),\n",
       "                (&#x27;randomforestregressor&#x27;,\n",
       "                 RandomForestRegressor(max_depth=10, n_estimators=75,\n",
       "                                       random_state=42))])</pre></div></div></div><div class=\"sk-serial\"><div class=\"sk-item\"><div class=\"sk-estimator sk-toggleable\"><input class=\"sk-toggleable__control sk-hidden--visually\" id=\"sk-estimator-id-35\" type=\"checkbox\" ><label for=\"sk-estimator-id-35\" class=\"sk-toggleable__label sk-toggleable__label-arrow\">OneHotEncoder</label><div class=\"sk-toggleable__content\"><pre>OneHotEncoder(cols=[&#x27;property_type&#x27;, &#x27;operation_type&#x27;], use_cat_names=True)</pre></div></div></div><div class=\"sk-item\"><div class=\"sk-estimator sk-toggleable\"><input class=\"sk-toggleable__control sk-hidden--visually\" id=\"sk-estimator-id-36\" type=\"checkbox\" ><label for=\"sk-estimator-id-36\" class=\"sk-toggleable__label sk-toggleable__label-arrow\">SimpleImputer</label><div class=\"sk-toggleable__content\"><pre>SimpleImputer(strategy=&#x27;median&#x27;)</pre></div></div></div><div class=\"sk-item\"><div class=\"sk-estimator sk-toggleable\"><input class=\"sk-toggleable__control sk-hidden--visually\" id=\"sk-estimator-id-37\" type=\"checkbox\" ><label for=\"sk-estimator-id-37\" class=\"sk-toggleable__label sk-toggleable__label-arrow\">RandomForestRegressor</label><div class=\"sk-toggleable__content\"><pre>RandomForestRegressor(max_depth=10, n_estimators=75, random_state=42)</pre></div></div></div></div></div></div></div>"
      ],
      "text/plain": [
       "Pipeline(steps=[('onehotencoder',\n",
       "                 OneHotEncoder(cols=['property_type', 'operation_type'],\n",
       "                               use_cat_names=True)),\n",
       "                ('simpleimputer', SimpleImputer(strategy='median')),\n",
       "                ('randomforestregressor',\n",
       "                 RandomForestRegressor(max_depth=10, n_estimators=75,\n",
       "                                       random_state=42))])"
      ]
     },
     "execution_count": 148,
     "metadata": {},
     "output_type": "execute_result"
    }
   ],
   "source": [
    "model.best_estimator_"
   ]
  },
  {
   "cell_type": "code",
   "execution_count": 149,
   "id": "34280bc0",
   "metadata": {},
   "outputs": [
    {
     "data": {
      "text/plain": [
       "array([189312.10146777, 193793.64000742, 281020.83249574, 276153.25334385,\n",
       "       131325.62894987,  78292.00246111,  32418.40823557,  92489.60706603,\n",
       "        66547.55689271,  48940.07532533,  75278.97053374, 146550.41506173,\n",
       "       319470.95973387,  82760.37821749,  18704.19120834,  84816.94579604,\n",
       "        93778.12671502,  84915.52719915, 140637.94631412,  25116.34420543])"
      ]
     },
     "execution_count": 149,
     "metadata": {},
     "output_type": "execute_result"
    }
   ],
   "source": [
    "model.predict(X_train)[:20]"
   ]
  },
  {
   "cell_type": "code",
   "execution_count": 150,
   "id": "447537da",
   "metadata": {},
   "outputs": [
    {
     "name": "stdout",
     "output_type": "stream",
     "text": [
      "Training MAE: 68775.26\n",
      "Training RMSE: 416425.2\n"
     ]
    }
   ],
   "source": [
    "mae_training = mean_absolute_error(y_train, model.predict(X_train))\n",
    "rmse_training = (mean_squared_error(y_train, model.predict(X_train))) ** 0.5\n",
    "\n",
    "print(\"Training MAE:\", round(mae_training, 2))\n",
    "print(\"Training RMSE:\", round(rmse_training, 2))"
   ]
  },
  {
   "cell_type": "code",
   "execution_count": 151,
   "id": "9bd31478",
   "metadata": {},
   "outputs": [],
   "source": [
    "# Save model\n",
    "with open(\"model/model-rgr.pkl\", \"wb\") as f:\n",
    "    pickle.dump(model, f)"
   ]
  },
  {
   "cell_type": "code",
   "execution_count": 152,
   "id": "1f613bd3",
   "metadata": {},
   "outputs": [
    {
     "data": {
      "text/plain": [
       "0.6752304314342992"
      ]
     },
     "execution_count": 152,
     "metadata": {},
     "output_type": "execute_result"
    }
   ],
   "source": [
    "model.score(X_train, y_train)"
   ]
  },
  {
   "cell_type": "code",
   "execution_count": null,
   "id": "96680a4a",
   "metadata": {},
   "outputs": [],
   "source": []
  }
 ],
 "metadata": {
  "kernelspec": {
   "display_name": "mlops-project-uq6XT4KV",
   "language": "python",
   "name": "mlops-project-uq6xt4kv"
  },
  "language_info": {
   "codemirror_mode": {
    "name": "ipython",
    "version": 3
   },
   "file_extension": ".py",
   "mimetype": "text/x-python",
   "name": "python",
   "nbconvert_exporter": "python",
   "pygments_lexer": "ipython3",
   "version": "3.9.12"
  }
 },
 "nbformat": 4,
 "nbformat_minor": 5
}
