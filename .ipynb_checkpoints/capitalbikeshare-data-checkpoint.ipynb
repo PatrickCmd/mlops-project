{
 "cells": [
  {
   "cell_type": "code",
   "execution_count": 22,
   "metadata": {},
   "outputs": [],
   "source": [
    "import pandas as pd\n",
    "import matplotlib.pyplot as plt\n",
    "import seaborn as sns\n",
    "import plotly.express as px\n",
    "import zipfile\n",
    "from io import BytesIO\n",
    "from haversine import haversine, Unit\n",
    "from category_encoders import OneHotEncoder\n",
    "from sklearn.linear_model import LinearRegression, Ridge\n",
    "from sklearn.pipeline import make_pipeline\n",
    "from sklearn.ensemble import RandomForestRegressor, GradientBoostingRegressor\n",
    "from sklearn.impute import SimpleImputer\n",
    "from sklearn.model_selection import GridSearchCV, cross_val_score, train_test_split\n",
    "from sklearn.metrics import mean_absolute_error, mean_squared_error\n",
    "from sklearn.feature_extraction import DictVectorizer"
   ]
  },
  {
   "cell_type": "markdown",
   "metadata": {},
   "source": [
    "### Read the data"
   ]
  },
  {
   "cell_type": "code",
   "execution_count": 4,
   "metadata": {},
   "outputs": [],
   "source": [
    "with zipfile.ZipFile(\"./data/202205-capitalbikeshare-tripdata.zip\", \"r\") as f:\n",
    "    for name in f.namelist():\n",
    "        if name.endswith('.csv'):\n",
    "            with f.open(name) as zd:\n",
    "                df = pd.read_csv(zd)\n",
    "            break"
   ]
  },
  {
   "cell_type": "code",
   "execution_count": 5,
   "metadata": {},
   "outputs": [
    {
     "data": {
      "text/html": [
       "<div>\n",
       "<style scoped>\n",
       "    .dataframe tbody tr th:only-of-type {\n",
       "        vertical-align: middle;\n",
       "    }\n",
       "\n",
       "    .dataframe tbody tr th {\n",
       "        vertical-align: top;\n",
       "    }\n",
       "\n",
       "    .dataframe thead th {\n",
       "        text-align: right;\n",
       "    }\n",
       "</style>\n",
       "<table border=\"1\" class=\"dataframe\">\n",
       "  <thead>\n",
       "    <tr style=\"text-align: right;\">\n",
       "      <th></th>\n",
       "      <th>ride_id</th>\n",
       "      <th>rideable_type</th>\n",
       "      <th>started_at</th>\n",
       "      <th>ended_at</th>\n",
       "      <th>start_station_name</th>\n",
       "      <th>start_station_id</th>\n",
       "      <th>end_station_name</th>\n",
       "      <th>end_station_id</th>\n",
       "      <th>start_lat</th>\n",
       "      <th>start_lng</th>\n",
       "      <th>end_lat</th>\n",
       "      <th>end_lng</th>\n",
       "      <th>member_casual</th>\n",
       "    </tr>\n",
       "  </thead>\n",
       "  <tbody>\n",
       "    <tr>\n",
       "      <th>0</th>\n",
       "      <td>933DB56B508F5DCD</td>\n",
       "      <td>classic_bike</td>\n",
       "      <td>2022-05-12 18:19:28</td>\n",
       "      <td>2022-05-12 18:26:41</td>\n",
       "      <td>15th &amp; Euclid St NW</td>\n",
       "      <td>31117.0</td>\n",
       "      <td>Park Rd &amp; Holmead Pl NW</td>\n",
       "      <td>31602.0</td>\n",
       "      <td>38.923330</td>\n",
       "      <td>-77.035200</td>\n",
       "      <td>38.930800</td>\n",
       "      <td>-77.031500</td>\n",
       "      <td>member</td>\n",
       "    </tr>\n",
       "    <tr>\n",
       "      <th>1</th>\n",
       "      <td>48B50E20E9B24CA7</td>\n",
       "      <td>classic_bike</td>\n",
       "      <td>2022-05-27 16:24:42</td>\n",
       "      <td>2022-05-27 16:51:51</td>\n",
       "      <td>17th St &amp; Massachusetts Ave NW</td>\n",
       "      <td>31267.0</td>\n",
       "      <td>3rd &amp; Tingey St SE</td>\n",
       "      <td>31634.0</td>\n",
       "      <td>38.908142</td>\n",
       "      <td>-77.038359</td>\n",
       "      <td>38.875010</td>\n",
       "      <td>-77.002400</td>\n",
       "      <td>member</td>\n",
       "    </tr>\n",
       "    <tr>\n",
       "      <th>2</th>\n",
       "      <td>96444E8B2485BA6D</td>\n",
       "      <td>classic_bike</td>\n",
       "      <td>2022-05-29 19:16:55</td>\n",
       "      <td>2022-05-29 19:22:31</td>\n",
       "      <td>15th &amp; Euclid St NW</td>\n",
       "      <td>31117.0</td>\n",
       "      <td>Columbia Rd &amp; Belmont St NW</td>\n",
       "      <td>31113.0</td>\n",
       "      <td>38.923330</td>\n",
       "      <td>-77.035200</td>\n",
       "      <td>38.920669</td>\n",
       "      <td>-77.043680</td>\n",
       "      <td>member</td>\n",
       "    </tr>\n",
       "    <tr>\n",
       "      <th>3</th>\n",
       "      <td>37FE6E9EB6768E2A</td>\n",
       "      <td>electric_bike</td>\n",
       "      <td>2022-05-11 12:30:58</td>\n",
       "      <td>2022-05-11 12:35:36</td>\n",
       "      <td>17th St &amp; Massachusetts Ave NW</td>\n",
       "      <td>31267.0</td>\n",
       "      <td>15th &amp; W St NW</td>\n",
       "      <td>31125.0</td>\n",
       "      <td>38.908131</td>\n",
       "      <td>-77.038435</td>\n",
       "      <td>38.919018</td>\n",
       "      <td>-77.034449</td>\n",
       "      <td>member</td>\n",
       "    </tr>\n",
       "    <tr>\n",
       "      <th>4</th>\n",
       "      <td>8FD653C76B951755</td>\n",
       "      <td>classic_bike</td>\n",
       "      <td>2022-05-03 19:16:22</td>\n",
       "      <td>2022-05-03 19:50:30</td>\n",
       "      <td>Windham Ln &amp; Amherst Ave</td>\n",
       "      <td>32066.0</td>\n",
       "      <td>Windham Ln &amp; Amherst Ave</td>\n",
       "      <td>32066.0</td>\n",
       "      <td>39.032029</td>\n",
       "      <td>-77.047350</td>\n",
       "      <td>39.032029</td>\n",
       "      <td>-77.047350</td>\n",
       "      <td>casual</td>\n",
       "    </tr>\n",
       "  </tbody>\n",
       "</table>\n",
       "</div>"
      ],
      "text/plain": [
       "            ride_id  rideable_type           started_at             ended_at  \\\n",
       "0  933DB56B508F5DCD   classic_bike  2022-05-12 18:19:28  2022-05-12 18:26:41   \n",
       "1  48B50E20E9B24CA7   classic_bike  2022-05-27 16:24:42  2022-05-27 16:51:51   \n",
       "2  96444E8B2485BA6D   classic_bike  2022-05-29 19:16:55  2022-05-29 19:22:31   \n",
       "3  37FE6E9EB6768E2A  electric_bike  2022-05-11 12:30:58  2022-05-11 12:35:36   \n",
       "4  8FD653C76B951755   classic_bike  2022-05-03 19:16:22  2022-05-03 19:50:30   \n",
       "\n",
       "               start_station_name  start_station_id  \\\n",
       "0             15th & Euclid St NW           31117.0   \n",
       "1  17th St & Massachusetts Ave NW           31267.0   \n",
       "2             15th & Euclid St NW           31117.0   \n",
       "3  17th St & Massachusetts Ave NW           31267.0   \n",
       "4        Windham Ln & Amherst Ave           32066.0   \n",
       "\n",
       "              end_station_name  end_station_id  start_lat  start_lng  \\\n",
       "0      Park Rd & Holmead Pl NW         31602.0  38.923330 -77.035200   \n",
       "1           3rd & Tingey St SE         31634.0  38.908142 -77.038359   \n",
       "2  Columbia Rd & Belmont St NW         31113.0  38.923330 -77.035200   \n",
       "3               15th & W St NW         31125.0  38.908131 -77.038435   \n",
       "4     Windham Ln & Amherst Ave         32066.0  39.032029 -77.047350   \n",
       "\n",
       "     end_lat    end_lng member_casual  \n",
       "0  38.930800 -77.031500        member  \n",
       "1  38.875010 -77.002400        member  \n",
       "2  38.920669 -77.043680        member  \n",
       "3  38.919018 -77.034449        member  \n",
       "4  39.032029 -77.047350        casual  "
      ]
     },
     "execution_count": 5,
     "metadata": {},
     "output_type": "execute_result"
    }
   ],
   "source": [
    "df.head()"
   ]
  },
  {
   "cell_type": "code",
   "execution_count": 6,
   "metadata": {},
   "outputs": [
    {
     "data": {
      "text/plain": [
       "(332821, 13)"
      ]
     },
     "execution_count": 6,
     "metadata": {},
     "output_type": "execute_result"
    }
   ],
   "source": [
    "df.shape"
   ]
  },
  {
   "cell_type": "code",
   "execution_count": 7,
   "metadata": {},
   "outputs": [
    {
     "name": "stdout",
     "output_type": "stream",
     "text": [
      "<class 'pandas.core.frame.DataFrame'>\n",
      "RangeIndex: 332821 entries, 0 to 332820\n",
      "Data columns (total 13 columns):\n",
      " #   Column              Non-Null Count   Dtype  \n",
      "---  ------              --------------   -----  \n",
      " 0   ride_id             332821 non-null  object \n",
      " 1   rideable_type       332821 non-null  object \n",
      " 2   started_at          332821 non-null  object \n",
      " 3   ended_at            332821 non-null  object \n",
      " 4   start_station_name  319064 non-null  object \n",
      " 5   start_station_id    319064 non-null  float64\n",
      " 6   end_station_name    317296 non-null  object \n",
      " 7   end_station_id      317296 non-null  float64\n",
      " 8   start_lat           332821 non-null  float64\n",
      " 9   start_lng           332821 non-null  float64\n",
      " 10  end_lat             332267 non-null  float64\n",
      " 11  end_lng             332267 non-null  float64\n",
      " 12  member_casual       332821 non-null  object \n",
      "dtypes: float64(6), object(7)\n",
      "memory usage: 33.0+ MB\n"
     ]
    }
   ],
   "source": [
    "df.info()"
   ]
  },
  {
   "cell_type": "markdown",
   "metadata": {},
   "source": [
    "### Cleaning the data"
   ]
  },
  {
   "cell_type": "code",
   "execution_count": 8,
   "metadata": {},
   "outputs": [
    {
     "name": "stdout",
     "output_type": "stream",
     "text": [
      "<class 'pandas.core.frame.DataFrame'>\n",
      "RangeIndex: 332821 entries, 0 to 332820\n",
      "Data columns (total 13 columns):\n",
      " #   Column              Non-Null Count   Dtype         \n",
      "---  ------              --------------   -----         \n",
      " 0   ride_id             332821 non-null  object        \n",
      " 1   rideable_type       332821 non-null  object        \n",
      " 2   started_at          332821 non-null  datetime64[ns]\n",
      " 3   ended_at            332821 non-null  datetime64[ns]\n",
      " 4   start_station_name  319064 non-null  object        \n",
      " 5   start_station_id    319064 non-null  float64       \n",
      " 6   end_station_name    317296 non-null  object        \n",
      " 7   end_station_id      317296 non-null  float64       \n",
      " 8   start_lat           332821 non-null  float64       \n",
      " 9   start_lng           332821 non-null  float64       \n",
      " 10  end_lat             332267 non-null  float64       \n",
      " 11  end_lng             332267 non-null  float64       \n",
      " 12  member_casual       332821 non-null  object        \n",
      "dtypes: datetime64[ns](2), float64(6), object(5)\n",
      "memory usage: 33.0+ MB\n"
     ]
    }
   ],
   "source": [
    "df.started_at = pd.to_datetime(df.started_at)\n",
    "df.ended_at = pd.to_datetime(df.ended_at)\n",
    "df.info()"
   ]
  },
  {
   "cell_type": "code",
   "execution_count": 9,
   "metadata": {},
   "outputs": [
    {
     "data": {
      "text/html": [
       "<div>\n",
       "<style scoped>\n",
       "    .dataframe tbody tr th:only-of-type {\n",
       "        vertical-align: middle;\n",
       "    }\n",
       "\n",
       "    .dataframe tbody tr th {\n",
       "        vertical-align: top;\n",
       "    }\n",
       "\n",
       "    .dataframe thead th {\n",
       "        text-align: right;\n",
       "    }\n",
       "</style>\n",
       "<table border=\"1\" class=\"dataframe\">\n",
       "  <thead>\n",
       "    <tr style=\"text-align: right;\">\n",
       "      <th></th>\n",
       "      <th>ride_id</th>\n",
       "      <th>rideable_type</th>\n",
       "      <th>started_at</th>\n",
       "      <th>ended_at</th>\n",
       "      <th>start_station_name</th>\n",
       "      <th>start_station_id</th>\n",
       "      <th>end_station_name</th>\n",
       "      <th>end_station_id</th>\n",
       "      <th>start_lat</th>\n",
       "      <th>start_lng</th>\n",
       "      <th>end_lat</th>\n",
       "      <th>end_lng</th>\n",
       "      <th>member_casual</th>\n",
       "    </tr>\n",
       "  </thead>\n",
       "  <tbody>\n",
       "    <tr>\n",
       "      <th>0</th>\n",
       "      <td>933DB56B508F5DCD</td>\n",
       "      <td>classic_bike</td>\n",
       "      <td>2022-05-12 18:19:28</td>\n",
       "      <td>2022-05-12 18:26:41</td>\n",
       "      <td>15th &amp; Euclid St NW</td>\n",
       "      <td>31117.0</td>\n",
       "      <td>Park Rd &amp; Holmead Pl NW</td>\n",
       "      <td>31602.0</td>\n",
       "      <td>38.923330</td>\n",
       "      <td>-77.035200</td>\n",
       "      <td>38.930800</td>\n",
       "      <td>-77.031500</td>\n",
       "      <td>member</td>\n",
       "    </tr>\n",
       "    <tr>\n",
       "      <th>1</th>\n",
       "      <td>48B50E20E9B24CA7</td>\n",
       "      <td>classic_bike</td>\n",
       "      <td>2022-05-27 16:24:42</td>\n",
       "      <td>2022-05-27 16:51:51</td>\n",
       "      <td>17th St &amp; Massachusetts Ave NW</td>\n",
       "      <td>31267.0</td>\n",
       "      <td>3rd &amp; Tingey St SE</td>\n",
       "      <td>31634.0</td>\n",
       "      <td>38.908142</td>\n",
       "      <td>-77.038359</td>\n",
       "      <td>38.875010</td>\n",
       "      <td>-77.002400</td>\n",
       "      <td>member</td>\n",
       "    </tr>\n",
       "    <tr>\n",
       "      <th>2</th>\n",
       "      <td>96444E8B2485BA6D</td>\n",
       "      <td>classic_bike</td>\n",
       "      <td>2022-05-29 19:16:55</td>\n",
       "      <td>2022-05-29 19:22:31</td>\n",
       "      <td>15th &amp; Euclid St NW</td>\n",
       "      <td>31117.0</td>\n",
       "      <td>Columbia Rd &amp; Belmont St NW</td>\n",
       "      <td>31113.0</td>\n",
       "      <td>38.923330</td>\n",
       "      <td>-77.035200</td>\n",
       "      <td>38.920669</td>\n",
       "      <td>-77.043680</td>\n",
       "      <td>member</td>\n",
       "    </tr>\n",
       "    <tr>\n",
       "      <th>3</th>\n",
       "      <td>37FE6E9EB6768E2A</td>\n",
       "      <td>electric_bike</td>\n",
       "      <td>2022-05-11 12:30:58</td>\n",
       "      <td>2022-05-11 12:35:36</td>\n",
       "      <td>17th St &amp; Massachusetts Ave NW</td>\n",
       "      <td>31267.0</td>\n",
       "      <td>15th &amp; W St NW</td>\n",
       "      <td>31125.0</td>\n",
       "      <td>38.908131</td>\n",
       "      <td>-77.038435</td>\n",
       "      <td>38.919018</td>\n",
       "      <td>-77.034449</td>\n",
       "      <td>member</td>\n",
       "    </tr>\n",
       "    <tr>\n",
       "      <th>4</th>\n",
       "      <td>8FD653C76B951755</td>\n",
       "      <td>classic_bike</td>\n",
       "      <td>2022-05-03 19:16:22</td>\n",
       "      <td>2022-05-03 19:50:30</td>\n",
       "      <td>Windham Ln &amp; Amherst Ave</td>\n",
       "      <td>32066.0</td>\n",
       "      <td>Windham Ln &amp; Amherst Ave</td>\n",
       "      <td>32066.0</td>\n",
       "      <td>39.032029</td>\n",
       "      <td>-77.047350</td>\n",
       "      <td>39.032029</td>\n",
       "      <td>-77.047350</td>\n",
       "      <td>casual</td>\n",
       "    </tr>\n",
       "  </tbody>\n",
       "</table>\n",
       "</div>"
      ],
      "text/plain": [
       "            ride_id  rideable_type          started_at            ended_at  \\\n",
       "0  933DB56B508F5DCD   classic_bike 2022-05-12 18:19:28 2022-05-12 18:26:41   \n",
       "1  48B50E20E9B24CA7   classic_bike 2022-05-27 16:24:42 2022-05-27 16:51:51   \n",
       "2  96444E8B2485BA6D   classic_bike 2022-05-29 19:16:55 2022-05-29 19:22:31   \n",
       "3  37FE6E9EB6768E2A  electric_bike 2022-05-11 12:30:58 2022-05-11 12:35:36   \n",
       "4  8FD653C76B951755   classic_bike 2022-05-03 19:16:22 2022-05-03 19:50:30   \n",
       "\n",
       "               start_station_name  start_station_id  \\\n",
       "0             15th & Euclid St NW           31117.0   \n",
       "1  17th St & Massachusetts Ave NW           31267.0   \n",
       "2             15th & Euclid St NW           31117.0   \n",
       "3  17th St & Massachusetts Ave NW           31267.0   \n",
       "4        Windham Ln & Amherst Ave           32066.0   \n",
       "\n",
       "              end_station_name  end_station_id  start_lat  start_lng  \\\n",
       "0      Park Rd & Holmead Pl NW         31602.0  38.923330 -77.035200   \n",
       "1           3rd & Tingey St SE         31634.0  38.908142 -77.038359   \n",
       "2  Columbia Rd & Belmont St NW         31113.0  38.923330 -77.035200   \n",
       "3               15th & W St NW         31125.0  38.908131 -77.038435   \n",
       "4     Windham Ln & Amherst Ave         32066.0  39.032029 -77.047350   \n",
       "\n",
       "     end_lat    end_lng member_casual  \n",
       "0  38.930800 -77.031500        member  \n",
       "1  38.875010 -77.002400        member  \n",
       "2  38.920669 -77.043680        member  \n",
       "3  38.919018 -77.034449        member  \n",
       "4  39.032029 -77.047350        casual  "
      ]
     },
     "execution_count": 9,
     "metadata": {},
     "output_type": "execute_result"
    }
   ],
   "source": [
    "df.head()"
   ]
  },
  {
   "cell_type": "code",
   "execution_count": 10,
   "metadata": {},
   "outputs": [
    {
     "data": {
      "text/html": [
       "<div>\n",
       "<style scoped>\n",
       "    .dataframe tbody tr th:only-of-type {\n",
       "        vertical-align: middle;\n",
       "    }\n",
       "\n",
       "    .dataframe tbody tr th {\n",
       "        vertical-align: top;\n",
       "    }\n",
       "\n",
       "    .dataframe thead th {\n",
       "        text-align: right;\n",
       "    }\n",
       "</style>\n",
       "<table border=\"1\" class=\"dataframe\">\n",
       "  <thead>\n",
       "    <tr style=\"text-align: right;\">\n",
       "      <th></th>\n",
       "      <th>ride_id</th>\n",
       "      <th>rideable_type</th>\n",
       "      <th>started_at</th>\n",
       "      <th>ended_at</th>\n",
       "      <th>start_station_name</th>\n",
       "      <th>start_station_id</th>\n",
       "      <th>end_station_name</th>\n",
       "      <th>end_station_id</th>\n",
       "      <th>start_lat</th>\n",
       "      <th>start_lng</th>\n",
       "      <th>end_lat</th>\n",
       "      <th>end_lng</th>\n",
       "      <th>member_casual</th>\n",
       "      <th>duration</th>\n",
       "    </tr>\n",
       "  </thead>\n",
       "  <tbody>\n",
       "    <tr>\n",
       "      <th>0</th>\n",
       "      <td>933DB56B508F5DCD</td>\n",
       "      <td>classic_bike</td>\n",
       "      <td>2022-05-12 18:19:28</td>\n",
       "      <td>2022-05-12 18:26:41</td>\n",
       "      <td>15th &amp; Euclid St NW</td>\n",
       "      <td>31117.0</td>\n",
       "      <td>Park Rd &amp; Holmead Pl NW</td>\n",
       "      <td>31602.0</td>\n",
       "      <td>38.923330</td>\n",
       "      <td>-77.035200</td>\n",
       "      <td>38.930800</td>\n",
       "      <td>-77.031500</td>\n",
       "      <td>member</td>\n",
       "      <td>7.216667</td>\n",
       "    </tr>\n",
       "    <tr>\n",
       "      <th>1</th>\n",
       "      <td>48B50E20E9B24CA7</td>\n",
       "      <td>classic_bike</td>\n",
       "      <td>2022-05-27 16:24:42</td>\n",
       "      <td>2022-05-27 16:51:51</td>\n",
       "      <td>17th St &amp; Massachusetts Ave NW</td>\n",
       "      <td>31267.0</td>\n",
       "      <td>3rd &amp; Tingey St SE</td>\n",
       "      <td>31634.0</td>\n",
       "      <td>38.908142</td>\n",
       "      <td>-77.038359</td>\n",
       "      <td>38.875010</td>\n",
       "      <td>-77.002400</td>\n",
       "      <td>member</td>\n",
       "      <td>27.150000</td>\n",
       "    </tr>\n",
       "    <tr>\n",
       "      <th>2</th>\n",
       "      <td>96444E8B2485BA6D</td>\n",
       "      <td>classic_bike</td>\n",
       "      <td>2022-05-29 19:16:55</td>\n",
       "      <td>2022-05-29 19:22:31</td>\n",
       "      <td>15th &amp; Euclid St NW</td>\n",
       "      <td>31117.0</td>\n",
       "      <td>Columbia Rd &amp; Belmont St NW</td>\n",
       "      <td>31113.0</td>\n",
       "      <td>38.923330</td>\n",
       "      <td>-77.035200</td>\n",
       "      <td>38.920669</td>\n",
       "      <td>-77.043680</td>\n",
       "      <td>member</td>\n",
       "      <td>5.600000</td>\n",
       "    </tr>\n",
       "    <tr>\n",
       "      <th>3</th>\n",
       "      <td>37FE6E9EB6768E2A</td>\n",
       "      <td>electric_bike</td>\n",
       "      <td>2022-05-11 12:30:58</td>\n",
       "      <td>2022-05-11 12:35:36</td>\n",
       "      <td>17th St &amp; Massachusetts Ave NW</td>\n",
       "      <td>31267.0</td>\n",
       "      <td>15th &amp; W St NW</td>\n",
       "      <td>31125.0</td>\n",
       "      <td>38.908131</td>\n",
       "      <td>-77.038435</td>\n",
       "      <td>38.919018</td>\n",
       "      <td>-77.034449</td>\n",
       "      <td>member</td>\n",
       "      <td>4.633333</td>\n",
       "    </tr>\n",
       "    <tr>\n",
       "      <th>4</th>\n",
       "      <td>8FD653C76B951755</td>\n",
       "      <td>classic_bike</td>\n",
       "      <td>2022-05-03 19:16:22</td>\n",
       "      <td>2022-05-03 19:50:30</td>\n",
       "      <td>Windham Ln &amp; Amherst Ave</td>\n",
       "      <td>32066.0</td>\n",
       "      <td>Windham Ln &amp; Amherst Ave</td>\n",
       "      <td>32066.0</td>\n",
       "      <td>39.032029</td>\n",
       "      <td>-77.047350</td>\n",
       "      <td>39.032029</td>\n",
       "      <td>-77.047350</td>\n",
       "      <td>casual</td>\n",
       "      <td>34.133333</td>\n",
       "    </tr>\n",
       "  </tbody>\n",
       "</table>\n",
       "</div>"
      ],
      "text/plain": [
       "            ride_id  rideable_type          started_at            ended_at  \\\n",
       "0  933DB56B508F5DCD   classic_bike 2022-05-12 18:19:28 2022-05-12 18:26:41   \n",
       "1  48B50E20E9B24CA7   classic_bike 2022-05-27 16:24:42 2022-05-27 16:51:51   \n",
       "2  96444E8B2485BA6D   classic_bike 2022-05-29 19:16:55 2022-05-29 19:22:31   \n",
       "3  37FE6E9EB6768E2A  electric_bike 2022-05-11 12:30:58 2022-05-11 12:35:36   \n",
       "4  8FD653C76B951755   classic_bike 2022-05-03 19:16:22 2022-05-03 19:50:30   \n",
       "\n",
       "               start_station_name  start_station_id  \\\n",
       "0             15th & Euclid St NW           31117.0   \n",
       "1  17th St & Massachusetts Ave NW           31267.0   \n",
       "2             15th & Euclid St NW           31117.0   \n",
       "3  17th St & Massachusetts Ave NW           31267.0   \n",
       "4        Windham Ln & Amherst Ave           32066.0   \n",
       "\n",
       "              end_station_name  end_station_id  start_lat  start_lng  \\\n",
       "0      Park Rd & Holmead Pl NW         31602.0  38.923330 -77.035200   \n",
       "1           3rd & Tingey St SE         31634.0  38.908142 -77.038359   \n",
       "2  Columbia Rd & Belmont St NW         31113.0  38.923330 -77.035200   \n",
       "3               15th & W St NW         31125.0  38.908131 -77.038435   \n",
       "4     Windham Ln & Amherst Ave         32066.0  39.032029 -77.047350   \n",
       "\n",
       "     end_lat    end_lng member_casual   duration  \n",
       "0  38.930800 -77.031500        member   7.216667  \n",
       "1  38.875010 -77.002400        member  27.150000  \n",
       "2  38.920669 -77.043680        member   5.600000  \n",
       "3  38.919018 -77.034449        member   4.633333  \n",
       "4  39.032029 -77.047350        casual  34.133333  "
      ]
     },
     "execution_count": 10,
     "metadata": {},
     "output_type": "execute_result"
    }
   ],
   "source": [
    "df[\"duration\"] = df.ended_at - df.started_at\n",
    "df.duration = df.duration.apply(lambda td: td.total_seconds() / 60)\n",
    "df.head()"
   ]
  },
  {
   "cell_type": "code",
   "execution_count": 11,
   "metadata": {},
   "outputs": [
    {
     "data": {
      "text/plain": [
       "310389"
      ]
     },
     "execution_count": 11,
     "metadata": {},
     "output_type": "execute_result"
    }
   ],
   "source": [
    "((df.duration >= 1) & (df.duration <= 60)).sum()"
   ]
  },
  {
   "cell_type": "code",
   "execution_count": 12,
   "metadata": {},
   "outputs": [],
   "source": [
    "df.to_parquet(\"./data/202205-capitalbikeshare-tripdata.parquet\", engine=\"pyarrow\")"
   ]
  },
  {
   "cell_type": "code",
   "execution_count": null,
   "metadata": {},
   "outputs": [],
   "source": []
  },
  {
   "cell_type": "markdown",
   "metadata": {},
   "source": [
    "## EDA\n",
    "\n",
    "### Read parquet"
   ]
  },
  {
   "cell_type": "code",
   "execution_count": 13,
   "metadata": {},
   "outputs": [
    {
     "data": {
      "text/html": [
       "<div>\n",
       "<style scoped>\n",
       "    .dataframe tbody tr th:only-of-type {\n",
       "        vertical-align: middle;\n",
       "    }\n",
       "\n",
       "    .dataframe tbody tr th {\n",
       "        vertical-align: top;\n",
       "    }\n",
       "\n",
       "    .dataframe thead th {\n",
       "        text-align: right;\n",
       "    }\n",
       "</style>\n",
       "<table border=\"1\" class=\"dataframe\">\n",
       "  <thead>\n",
       "    <tr style=\"text-align: right;\">\n",
       "      <th></th>\n",
       "      <th>ride_id</th>\n",
       "      <th>rideable_type</th>\n",
       "      <th>started_at</th>\n",
       "      <th>ended_at</th>\n",
       "      <th>start_station_name</th>\n",
       "      <th>start_station_id</th>\n",
       "      <th>end_station_name</th>\n",
       "      <th>end_station_id</th>\n",
       "      <th>start_lat</th>\n",
       "      <th>start_lng</th>\n",
       "      <th>end_lat</th>\n",
       "      <th>end_lng</th>\n",
       "      <th>member_casual</th>\n",
       "      <th>duration</th>\n",
       "    </tr>\n",
       "  </thead>\n",
       "  <tbody>\n",
       "    <tr>\n",
       "      <th>0</th>\n",
       "      <td>933DB56B508F5DCD</td>\n",
       "      <td>classic_bike</td>\n",
       "      <td>2022-05-12 18:19:28</td>\n",
       "      <td>2022-05-12 18:26:41</td>\n",
       "      <td>15th &amp; Euclid St NW</td>\n",
       "      <td>31117.0</td>\n",
       "      <td>Park Rd &amp; Holmead Pl NW</td>\n",
       "      <td>31602.0</td>\n",
       "      <td>38.923330</td>\n",
       "      <td>-77.035200</td>\n",
       "      <td>38.930800</td>\n",
       "      <td>-77.031500</td>\n",
       "      <td>member</td>\n",
       "      <td>7.216667</td>\n",
       "    </tr>\n",
       "    <tr>\n",
       "      <th>1</th>\n",
       "      <td>48B50E20E9B24CA7</td>\n",
       "      <td>classic_bike</td>\n",
       "      <td>2022-05-27 16:24:42</td>\n",
       "      <td>2022-05-27 16:51:51</td>\n",
       "      <td>17th St &amp; Massachusetts Ave NW</td>\n",
       "      <td>31267.0</td>\n",
       "      <td>3rd &amp; Tingey St SE</td>\n",
       "      <td>31634.0</td>\n",
       "      <td>38.908142</td>\n",
       "      <td>-77.038359</td>\n",
       "      <td>38.875010</td>\n",
       "      <td>-77.002400</td>\n",
       "      <td>member</td>\n",
       "      <td>27.150000</td>\n",
       "    </tr>\n",
       "    <tr>\n",
       "      <th>2</th>\n",
       "      <td>96444E8B2485BA6D</td>\n",
       "      <td>classic_bike</td>\n",
       "      <td>2022-05-29 19:16:55</td>\n",
       "      <td>2022-05-29 19:22:31</td>\n",
       "      <td>15th &amp; Euclid St NW</td>\n",
       "      <td>31117.0</td>\n",
       "      <td>Columbia Rd &amp; Belmont St NW</td>\n",
       "      <td>31113.0</td>\n",
       "      <td>38.923330</td>\n",
       "      <td>-77.035200</td>\n",
       "      <td>38.920669</td>\n",
       "      <td>-77.043680</td>\n",
       "      <td>member</td>\n",
       "      <td>5.600000</td>\n",
       "    </tr>\n",
       "    <tr>\n",
       "      <th>3</th>\n",
       "      <td>37FE6E9EB6768E2A</td>\n",
       "      <td>electric_bike</td>\n",
       "      <td>2022-05-11 12:30:58</td>\n",
       "      <td>2022-05-11 12:35:36</td>\n",
       "      <td>17th St &amp; Massachusetts Ave NW</td>\n",
       "      <td>31267.0</td>\n",
       "      <td>15th &amp; W St NW</td>\n",
       "      <td>31125.0</td>\n",
       "      <td>38.908131</td>\n",
       "      <td>-77.038435</td>\n",
       "      <td>38.919018</td>\n",
       "      <td>-77.034449</td>\n",
       "      <td>member</td>\n",
       "      <td>4.633333</td>\n",
       "    </tr>\n",
       "    <tr>\n",
       "      <th>4</th>\n",
       "      <td>8FD653C76B951755</td>\n",
       "      <td>classic_bike</td>\n",
       "      <td>2022-05-03 19:16:22</td>\n",
       "      <td>2022-05-03 19:50:30</td>\n",
       "      <td>Windham Ln &amp; Amherst Ave</td>\n",
       "      <td>32066.0</td>\n",
       "      <td>Windham Ln &amp; Amherst Ave</td>\n",
       "      <td>32066.0</td>\n",
       "      <td>39.032029</td>\n",
       "      <td>-77.047350</td>\n",
       "      <td>39.032029</td>\n",
       "      <td>-77.047350</td>\n",
       "      <td>casual</td>\n",
       "      <td>34.133333</td>\n",
       "    </tr>\n",
       "  </tbody>\n",
       "</table>\n",
       "</div>"
      ],
      "text/plain": [
       "            ride_id  rideable_type          started_at            ended_at  \\\n",
       "0  933DB56B508F5DCD   classic_bike 2022-05-12 18:19:28 2022-05-12 18:26:41   \n",
       "1  48B50E20E9B24CA7   classic_bike 2022-05-27 16:24:42 2022-05-27 16:51:51   \n",
       "2  96444E8B2485BA6D   classic_bike 2022-05-29 19:16:55 2022-05-29 19:22:31   \n",
       "3  37FE6E9EB6768E2A  electric_bike 2022-05-11 12:30:58 2022-05-11 12:35:36   \n",
       "4  8FD653C76B951755   classic_bike 2022-05-03 19:16:22 2022-05-03 19:50:30   \n",
       "\n",
       "               start_station_name  start_station_id  \\\n",
       "0             15th & Euclid St NW           31117.0   \n",
       "1  17th St & Massachusetts Ave NW           31267.0   \n",
       "2             15th & Euclid St NW           31117.0   \n",
       "3  17th St & Massachusetts Ave NW           31267.0   \n",
       "4        Windham Ln & Amherst Ave           32066.0   \n",
       "\n",
       "              end_station_name  end_station_id  start_lat  start_lng  \\\n",
       "0      Park Rd & Holmead Pl NW         31602.0  38.923330 -77.035200   \n",
       "1           3rd & Tingey St SE         31634.0  38.908142 -77.038359   \n",
       "2  Columbia Rd & Belmont St NW         31113.0  38.923330 -77.035200   \n",
       "3               15th & W St NW         31125.0  38.908131 -77.038435   \n",
       "4     Windham Ln & Amherst Ave         32066.0  39.032029 -77.047350   \n",
       "\n",
       "     end_lat    end_lng member_casual   duration  \n",
       "0  38.930800 -77.031500        member   7.216667  \n",
       "1  38.875010 -77.002400        member  27.150000  \n",
       "2  38.920669 -77.043680        member   5.600000  \n",
       "3  38.919018 -77.034449        member   4.633333  \n",
       "4  39.032029 -77.047350        casual  34.133333  "
      ]
     },
     "execution_count": 13,
     "metadata": {},
     "output_type": "execute_result"
    }
   ],
   "source": [
    "df = pd.read_parquet(\"./data/202205-capitalbikeshare-tripdata.parquet\", engine=\"pyarrow\")\n",
    "df.head()"
   ]
  },
  {
   "cell_type": "code",
   "execution_count": 14,
   "metadata": {},
   "outputs": [
    {
     "name": "stdout",
     "output_type": "stream",
     "text": [
      "<class 'pandas.core.frame.DataFrame'>\n",
      "RangeIndex: 332821 entries, 0 to 332820\n",
      "Data columns (total 14 columns):\n",
      " #   Column              Non-Null Count   Dtype         \n",
      "---  ------              --------------   -----         \n",
      " 0   ride_id             332821 non-null  object        \n",
      " 1   rideable_type       332821 non-null  object        \n",
      " 2   started_at          332821 non-null  datetime64[ns]\n",
      " 3   ended_at            332821 non-null  datetime64[ns]\n",
      " 4   start_station_name  319064 non-null  object        \n",
      " 5   start_station_id    319064 non-null  float64       \n",
      " 6   end_station_name    317296 non-null  object        \n",
      " 7   end_station_id      317296 non-null  float64       \n",
      " 8   start_lat           332821 non-null  float64       \n",
      " 9   start_lng           332821 non-null  float64       \n",
      " 10  end_lat             332267 non-null  float64       \n",
      " 11  end_lng             332267 non-null  float64       \n",
      " 12  member_casual       332821 non-null  object        \n",
      " 13  duration            332821 non-null  float64       \n",
      "dtypes: datetime64[ns](2), float64(7), object(5)\n",
      "memory usage: 35.5+ MB\n"
     ]
    }
   ],
   "source": [
    "df.info()"
   ]
  },
  {
   "cell_type": "markdown",
   "metadata": {},
   "source": [
    "### Visualize Location Data: \"start_lat\" and \"start_lng\"\n",
    "\n",
    "**Since latitude and longitude are based on a coordinate system, a good way to visualize them is to create a scatter plot on top of a map. A great tool for this is the scatter_mapbox from the plotly**"
   ]
  },
  {
   "cell_type": "code",
   "execution_count": 15,
   "metadata": {},
   "outputs": [],
   "source": [
    "# fig = px.scatter_mapbox(\n",
    "#     df,\n",
    "#     lat=\"start_lat\",\n",
    "#     lon=\"start_lng\",\n",
    "#     center={\"lat\": 38.91, \"lon\": -77.04},\n",
    "#     width=1000,\n",
    "#     height=1000,\n",
    "#     hover_data=[\"start_station_name\"]\n",
    "# )\n",
    "\n",
    "# fig.update_layout(mapbox_style=\"open-street-map\")\n",
    "# fig.show()"
   ]
  },
  {
   "cell_type": "markdown",
   "metadata": {},
   "source": [
    "### Visualize Location Data: \"end_lat\" and \"end_lng\""
   ]
  },
  {
   "cell_type": "code",
   "execution_count": 16,
   "metadata": {},
   "outputs": [],
   "source": [
    "# fig = px.scatter_mapbox(\n",
    "#     df,\n",
    "#     lat=\"end_lat\",\n",
    "#     lon=\"end_lng\",\n",
    "#     center={\"lat\": 38.91, \"lon\": -77.04},\n",
    "#     width=1000,\n",
    "#     height=1000,\n",
    "#     hover_data=[\"start_station_name\"]\n",
    "# )\n",
    "\n",
    "# fig.update_layout(mapbox_style=\"open-street-map\")\n",
    "# fig.show()"
   ]
  },
  {
   "cell_type": "markdown",
   "metadata": {},
   "source": [
    "### Categorical Data: \"rideable_type, member_casual and start_station_name, end_station_name\""
   ]
  },
  {
   "cell_type": "code",
   "execution_count": 17,
   "metadata": {},
   "outputs": [
    {
     "data": {
      "text/plain": [
       "3"
      ]
     },
     "execution_count": 17,
     "metadata": {},
     "output_type": "execute_result"
    }
   ],
   "source": [
    "df[\"rideable_type\"].nunique()"
   ]
  },
  {
   "cell_type": "code",
   "execution_count": 18,
   "metadata": {},
   "outputs": [
    {
     "data": {
      "text/plain": [
       "array(['classic_bike', 'electric_bike', 'docked_bike'], dtype=object)"
      ]
     },
     "execution_count": 18,
     "metadata": {},
     "output_type": "execute_result"
    }
   ],
   "source": [
    "df[\"rideable_type\"].unique()"
   ]
  },
  {
   "cell_type": "code",
   "execution_count": 19,
   "metadata": {},
   "outputs": [
    {
     "data": {
      "text/plain": [
       "classic_bike     254129\n",
       "electric_bike     52933\n",
       "docked_bike       25759\n",
       "Name: rideable_type, dtype: int64"
      ]
     },
     "execution_count": 19,
     "metadata": {},
     "output_type": "execute_result"
    }
   ],
   "source": [
    "df[\"rideable_type\"].value_counts()"
   ]
  },
  {
   "cell_type": "code",
   "execution_count": 20,
   "metadata": {},
   "outputs": [
    {
     "data": {
      "image/png": "[encoded data removed]",
      "text/plain": [
       "<Figure size 432x288 with 1 Axes>"
      ]
     },
     "metadata": {
      "needs_background": "light"
     },
     "output_type": "display_data"
    }
   ],
   "source": [
    "sns.countplot(x=\"rideable_type\", data=df)\n",
    "plt.title(\"Ride Type Distribution\");"
   ]
  },
  {
   "cell_type": "code",
   "execution_count": 21,
   "metadata": {},
   "outputs": [
    {
     "data": {
      "image/png": "[encoded data removed]",
      "text/plain": [
       "<Figure size 432x288 with 1 Axes>"
      ]
     },
     "metadata": {
      "needs_background": "light"
     },
     "output_type": "display_data"
    }
   ],
   "source": [
    "ride_types = df[\"rideable_type\"].value_counts()\n",
    "sns.barplot(x=ride_types.index, y=ride_types)\n",
    "plt.title(\"Ride Type Distribution\")\n",
    "plt.xlabel(\"Ride Types\")\n",
    "plt.ylabel(\"Ride Type Count\");"
   ]
  },
  {
   "cell_type": "code",
   "execution_count": 22,
   "metadata": {},
   "outputs": [
    {
     "data": {
      "text/plain": [
       "2"
      ]
     },
     "execution_count": 22,
     "metadata": {},
     "output_type": "execute_result"
    }
   ],
   "source": [
    "df[\"member_casual\"].nunique()"
   ]
  },
  {
   "cell_type": "code",
   "execution_count": 23,
   "metadata": {},
   "outputs": [
    {
     "data": {
      "text/plain": [
       "array(['member', 'casual'], dtype=object)"
      ]
     },
     "execution_count": 23,
     "metadata": {},
     "output_type": "execute_result"
    }
   ],
   "source": [
    "df[\"member_casual\"].unique()"
   ]
  },
  {
   "cell_type": "code",
   "execution_count": 24,
   "metadata": {},
   "outputs": [
    {
     "data": {
      "text/plain": [
       "member    185200\n",
       "casual    147621\n",
       "Name: member_casual, dtype: int64"
      ]
     },
     "execution_count": 24,
     "metadata": {},
     "output_type": "execute_result"
    }
   ],
   "source": [
    "df[\"member_casual\"].value_counts()"
   ]
  },
  {
   "cell_type": "code",
   "execution_count": 25,
   "metadata": {},
   "outputs": [
    {
     "data": {
      "image/png": "[encoded data removed]",
      "text/plain": [
       "<Figure size 432x288 with 1 Axes>"
      ]
     },
     "metadata": {
      "needs_background": "light"
     },
     "output_type": "display_data"
    }
   ],
   "source": [
    "member_types = df[\"member_casual\"].value_counts()\n",
    "sns.barplot(x=member_types.index, y=member_types)\n",
    "plt.title(\"Member Type Distribution\")\n",
    "plt.xlabel(\"Member Types\")\n",
    "plt.ylabel(\"Member Type Count\");"
   ]
  },
  {
   "cell_type": "code",
   "execution_count": 26,
   "metadata": {},
   "outputs": [
    {
     "data": {
      "text/plain": [
       "687"
      ]
     },
     "execution_count": 26,
     "metadata": {},
     "output_type": "execute_result"
    }
   ],
   "source": [
    "df[\"start_station_name\"].nunique()"
   ]
  },
  {
   "cell_type": "code",
   "execution_count": 27,
   "metadata": {},
   "outputs": [
    {
     "data": {
      "text/plain": [
       "array(['15th & Euclid St NW', '17th St & Massachusetts Ave NW',\n",
       "       'Windham Ln & Amherst Ave', 'King Farm Blvd & Pleasant Dr',\n",
       "       'Clarendon Blvd & Pierce St', 'C & O Canal & Wisconsin Ave NW',\n",
       "       '19th & East Capitol St SE',\n",
       "       'Penrose Sq/Columbia Pike & S Barton St', '18th & L St NW',\n",
       "       'Fairfax Dr & N Randolph St', 'Georgetown Harbor / 30th St NW',\n",
       "       'Eckington Pl & Q St NE', 'Eads St & 22nd St S',\n",
       "       '13th St & New York Ave NW',\n",
       "       'Central Library / Quincy St & 10th St N', '21st & I St NW',\n",
       "       '3rd & Tingey St SE', '3rd & M St NE',\n",
       "       'Montgomery Ave & Waverly St ', '4th & D St NW / Judiciary Square'],\n",
       "      dtype=object)"
      ]
     },
     "execution_count": 27,
     "metadata": {},
     "output_type": "execute_result"
    }
   ],
   "source": [
    "df[\"start_station_name\"].unique()[:20]"
   ]
  },
  {
   "cell_type": "code",
   "execution_count": 28,
   "metadata": {},
   "outputs": [
    {
     "data": {
      "text/plain": [
       "Lincoln Memorial                                         4008\n",
       "Jefferson Dr & 14th St SW                                3526\n",
       "Smithsonian-National Mall / Jefferson Dr & 12th St SW    3302\n",
       "Columbus Circle / Union Station                          3296\n",
       "New Hampshire Ave & T St NW                              3136\n",
       "15th & P St NW                                           3100\n",
       "4th St & Madison Dr NW                                   3084\n",
       "Henry Bacon Dr & Lincoln Memorial Circle NW              2921\n",
       "1st & M St NE                                            2752\n",
       "Eastern Market Metro / Pennsylvania Ave & 8th St SE      2426\n",
       "Name: start_station_name, dtype: int64"
      ]
     },
     "execution_count": 28,
     "metadata": {},
     "output_type": "execute_result"
    }
   ],
   "source": [
    "df[\"start_station_name\"].value_counts().sort_values(ascending=False).head(10)"
   ]
  },
  {
   "cell_type": "code",
   "execution_count": 29,
   "metadata": {},
   "outputs": [
    {
     "data": {
      "text/plain": [
       "Lincoln Memorial                                         3973\n",
       "Jefferson Dr & 14th St SW                                3553\n",
       "Columbus Circle / Union Station                          3451\n",
       "Smithsonian-National Mall / Jefferson Dr & 12th St SW    3266\n",
       "New Hampshire Ave & T St NW                              3153\n",
       "15th & P St NW                                           3131\n",
       "4th St & Madison Dr NW                                   3033\n",
       "Henry Bacon Dr & Lincoln Memorial Circle NW              2955\n",
       "1st & M St NE                                            2807\n",
       "Massachusetts Ave & Dupont Circle NW                     2697\n",
       "Name: end_station_name, dtype: int64"
      ]
     },
     "execution_count": 29,
     "metadata": {},
     "output_type": "execute_result"
    }
   ],
   "source": [
    "df[\"end_station_name\"].value_counts().sort_values(ascending=False).head(10)"
   ]
  },
  {
   "cell_type": "markdown",
   "metadata": {},
   "source": [
    "### Missing Values"
   ]
  },
  {
   "cell_type": "code",
   "execution_count": 30,
   "metadata": {},
   "outputs": [
    {
     "data": {
      "text/plain": [
       "ride_id                   0\n",
       "rideable_type             0\n",
       "started_at                0\n",
       "ended_at                  0\n",
       "start_station_name    13757\n",
       "start_station_id      13757\n",
       "end_station_name      15525\n",
       "end_station_id        15525\n",
       "start_lat                 0\n",
       "start_lng                 0\n",
       "end_lat                 554\n",
       "end_lng                 554\n",
       "member_casual             0\n",
       "duration                  0\n",
       "dtype: int64"
      ]
     },
     "execution_count": 30,
     "metadata": {},
     "output_type": "execute_result"
    }
   ],
   "source": [
    "missing_values_sum = df.isna().sum()\n",
    "missing_values_sum"
   ]
  },
  {
   "cell_type": "code",
   "execution_count": 31,
   "metadata": {},
   "outputs": [
    {
     "data": {
      "text/plain": [
       "ride_id               0.000000\n",
       "rideable_type         0.000000\n",
       "started_at            0.000000\n",
       "ended_at              0.000000\n",
       "start_station_name    4.133453\n",
       "start_station_id      4.133453\n",
       "end_station_name      4.664670\n",
       "end_station_id        4.664670\n",
       "start_lat             0.000000\n",
       "start_lng             0.000000\n",
       "end_lat               0.166456\n",
       "end_lng               0.166456\n",
       "member_casual         0.000000\n",
       "duration              0.000000\n",
       "dtype: float64"
      ]
     },
     "execution_count": 31,
     "metadata": {},
     "output_type": "execute_result"
    }
   ],
   "source": [
    "missing_values_pct = (df.isna().sum() / len(df)) * 100\n",
    "missing_values_pct"
   ]
  },
  {
   "cell_type": "markdown",
   "metadata": {},
   "source": [
    "### Dropping null values"
   ]
  },
  {
   "cell_type": "code",
   "execution_count": 32,
   "metadata": {},
   "outputs": [
    {
     "data": {
      "text/html": [
       "<div>\n",
       "<style scoped>\n",
       "    .dataframe tbody tr th:only-of-type {\n",
       "        vertical-align: middle;\n",
       "    }\n",
       "\n",
       "    .dataframe tbody tr th {\n",
       "        vertical-align: top;\n",
       "    }\n",
       "\n",
       "    .dataframe thead th {\n",
       "        text-align: right;\n",
       "    }\n",
       "</style>\n",
       "<table border=\"1\" class=\"dataframe\">\n",
       "  <thead>\n",
       "    <tr style=\"text-align: right;\">\n",
       "      <th></th>\n",
       "      <th>ride_id</th>\n",
       "      <th>rideable_type</th>\n",
       "      <th>started_at</th>\n",
       "      <th>ended_at</th>\n",
       "      <th>start_station_name</th>\n",
       "      <th>start_station_id</th>\n",
       "      <th>end_station_name</th>\n",
       "      <th>end_station_id</th>\n",
       "      <th>start_lat</th>\n",
       "      <th>start_lng</th>\n",
       "      <th>end_lat</th>\n",
       "      <th>end_lng</th>\n",
       "      <th>member_casual</th>\n",
       "      <th>duration</th>\n",
       "    </tr>\n",
       "  </thead>\n",
       "  <tbody>\n",
       "    <tr>\n",
       "      <th>0</th>\n",
       "      <td>933DB56B508F5DCD</td>\n",
       "      <td>classic_bike</td>\n",
       "      <td>2022-05-12 18:19:28</td>\n",
       "      <td>2022-05-12 18:26:41</td>\n",
       "      <td>15th &amp; Euclid St NW</td>\n",
       "      <td>31117.0</td>\n",
       "      <td>Park Rd &amp; Holmead Pl NW</td>\n",
       "      <td>31602.0</td>\n",
       "      <td>38.923330</td>\n",
       "      <td>-77.035200</td>\n",
       "      <td>38.930800</td>\n",
       "      <td>-77.031500</td>\n",
       "      <td>member</td>\n",
       "      <td>7.216667</td>\n",
       "    </tr>\n",
       "    <tr>\n",
       "      <th>1</th>\n",
       "      <td>48B50E20E9B24CA7</td>\n",
       "      <td>classic_bike</td>\n",
       "      <td>2022-05-27 16:24:42</td>\n",
       "      <td>2022-05-27 16:51:51</td>\n",
       "      <td>17th St &amp; Massachusetts Ave NW</td>\n",
       "      <td>31267.0</td>\n",
       "      <td>3rd &amp; Tingey St SE</td>\n",
       "      <td>31634.0</td>\n",
       "      <td>38.908142</td>\n",
       "      <td>-77.038359</td>\n",
       "      <td>38.875010</td>\n",
       "      <td>-77.002400</td>\n",
       "      <td>member</td>\n",
       "      <td>27.150000</td>\n",
       "    </tr>\n",
       "    <tr>\n",
       "      <th>2</th>\n",
       "      <td>96444E8B2485BA6D</td>\n",
       "      <td>classic_bike</td>\n",
       "      <td>2022-05-29 19:16:55</td>\n",
       "      <td>2022-05-29 19:22:31</td>\n",
       "      <td>15th &amp; Euclid St NW</td>\n",
       "      <td>31117.0</td>\n",
       "      <td>Columbia Rd &amp; Belmont St NW</td>\n",
       "      <td>31113.0</td>\n",
       "      <td>38.923330</td>\n",
       "      <td>-77.035200</td>\n",
       "      <td>38.920669</td>\n",
       "      <td>-77.043680</td>\n",
       "      <td>member</td>\n",
       "      <td>5.600000</td>\n",
       "    </tr>\n",
       "    <tr>\n",
       "      <th>3</th>\n",
       "      <td>37FE6E9EB6768E2A</td>\n",
       "      <td>electric_bike</td>\n",
       "      <td>2022-05-11 12:30:58</td>\n",
       "      <td>2022-05-11 12:35:36</td>\n",
       "      <td>17th St &amp; Massachusetts Ave NW</td>\n",
       "      <td>31267.0</td>\n",
       "      <td>15th &amp; W St NW</td>\n",
       "      <td>31125.0</td>\n",
       "      <td>38.908131</td>\n",
       "      <td>-77.038435</td>\n",
       "      <td>38.919018</td>\n",
       "      <td>-77.034449</td>\n",
       "      <td>member</td>\n",
       "      <td>4.633333</td>\n",
       "    </tr>\n",
       "    <tr>\n",
       "      <th>4</th>\n",
       "      <td>8FD653C76B951755</td>\n",
       "      <td>classic_bike</td>\n",
       "      <td>2022-05-03 19:16:22</td>\n",
       "      <td>2022-05-03 19:50:30</td>\n",
       "      <td>Windham Ln &amp; Amherst Ave</td>\n",
       "      <td>32066.0</td>\n",
       "      <td>Windham Ln &amp; Amherst Ave</td>\n",
       "      <td>32066.0</td>\n",
       "      <td>39.032029</td>\n",
       "      <td>-77.047350</td>\n",
       "      <td>39.032029</td>\n",
       "      <td>-77.047350</td>\n",
       "      <td>casual</td>\n",
       "      <td>34.133333</td>\n",
       "    </tr>\n",
       "  </tbody>\n",
       "</table>\n",
       "</div>"
      ],
      "text/plain": [
       "            ride_id  rideable_type          started_at            ended_at  \\\n",
       "0  933DB56B508F5DCD   classic_bike 2022-05-12 18:19:28 2022-05-12 18:26:41   \n",
       "1  48B50E20E9B24CA7   classic_bike 2022-05-27 16:24:42 2022-05-27 16:51:51   \n",
       "2  96444E8B2485BA6D   classic_bike 2022-05-29 19:16:55 2022-05-29 19:22:31   \n",
       "3  37FE6E9EB6768E2A  electric_bike 2022-05-11 12:30:58 2022-05-11 12:35:36   \n",
       "4  8FD653C76B951755   classic_bike 2022-05-03 19:16:22 2022-05-03 19:50:30   \n",
       "\n",
       "               start_station_name  start_station_id  \\\n",
       "0             15th & Euclid St NW           31117.0   \n",
       "1  17th St & Massachusetts Ave NW           31267.0   \n",
       "2             15th & Euclid St NW           31117.0   \n",
       "3  17th St & Massachusetts Ave NW           31267.0   \n",
       "4        Windham Ln & Amherst Ave           32066.0   \n",
       "\n",
       "              end_station_name  end_station_id  start_lat  start_lng  \\\n",
       "0      Park Rd & Holmead Pl NW         31602.0  38.923330 -77.035200   \n",
       "1           3rd & Tingey St SE         31634.0  38.908142 -77.038359   \n",
       "2  Columbia Rd & Belmont St NW         31113.0  38.923330 -77.035200   \n",
       "3               15th & W St NW         31125.0  38.908131 -77.038435   \n",
       "4     Windham Ln & Amherst Ave         32066.0  39.032029 -77.047350   \n",
       "\n",
       "     end_lat    end_lng member_casual   duration  \n",
       "0  38.930800 -77.031500        member   7.216667  \n",
       "1  38.875010 -77.002400        member  27.150000  \n",
       "2  38.920669 -77.043680        member   5.600000  \n",
       "3  38.919018 -77.034449        member   4.633333  \n",
       "4  39.032029 -77.047350        casual  34.133333  "
      ]
     },
     "execution_count": 32,
     "metadata": {},
     "output_type": "execute_result"
    }
   ],
   "source": [
    "df.dropna(inplace=True)\n",
    "df.head()"
   ]
  },
  {
   "cell_type": "code",
   "execution_count": 33,
   "metadata": {},
   "outputs": [
    {
     "data": {
      "text/plain": [
       "(310801, 14)"
      ]
     },
     "execution_count": 33,
     "metadata": {},
     "output_type": "execute_result"
    }
   ],
   "source": [
    "df.shape"
   ]
  },
  {
   "cell_type": "code",
   "execution_count": 34,
   "metadata": {},
   "outputs": [
    {
     "name": "stdout",
     "output_type": "stream",
     "text": [
      "<class 'pandas.core.frame.DataFrame'>\n",
      "Int64Index: 310801 entries, 0 to 332820\n",
      "Data columns (total 14 columns):\n",
      " #   Column              Non-Null Count   Dtype         \n",
      "---  ------              --------------   -----         \n",
      " 0   ride_id             310801 non-null  object        \n",
      " 1   rideable_type       310801 non-null  object        \n",
      " 2   started_at          310801 non-null  datetime64[ns]\n",
      " 3   ended_at            310801 non-null  datetime64[ns]\n",
      " 4   start_station_name  310801 non-null  object        \n",
      " 5   start_station_id    310801 non-null  float64       \n",
      " 6   end_station_name    310801 non-null  object        \n",
      " 7   end_station_id      310801 non-null  float64       \n",
      " 8   start_lat           310801 non-null  float64       \n",
      " 9   start_lng           310801 non-null  float64       \n",
      " 10  end_lat             310801 non-null  float64       \n",
      " 11  end_lng             310801 non-null  float64       \n",
      " 12  member_casual       310801 non-null  object        \n",
      " 13  duration            310801 non-null  float64       \n",
      "dtypes: datetime64[ns](2), float64(7), object(5)\n",
      "memory usage: 35.6+ MB\n"
     ]
    }
   ],
   "source": [
    "df.info()"
   ]
  },
  {
   "cell_type": "markdown",
   "metadata": {},
   "source": [
    "## Questions\n",
    "\n",
    "### Which start_end_station combination has the longest duration time"
   ]
  },
  {
   "cell_type": "code",
   "execution_count": 35,
   "metadata": {},
   "outputs": [
    {
     "data": {
      "text/html": [
       "<div>\n",
       "<style scoped>\n",
       "    .dataframe tbody tr th:only-of-type {\n",
       "        vertical-align: middle;\n",
       "    }\n",
       "\n",
       "    .dataframe tbody tr th {\n",
       "        vertical-align: top;\n",
       "    }\n",
       "\n",
       "    .dataframe thead th {\n",
       "        text-align: right;\n",
       "    }\n",
       "</style>\n",
       "<table border=\"1\" class=\"dataframe\">\n",
       "  <thead>\n",
       "    <tr style=\"text-align: right;\">\n",
       "      <th></th>\n",
       "      <th>ride_id</th>\n",
       "      <th>rideable_type</th>\n",
       "      <th>started_at</th>\n",
       "      <th>ended_at</th>\n",
       "      <th>start_station_name</th>\n",
       "      <th>start_station_id</th>\n",
       "      <th>end_station_name</th>\n",
       "      <th>end_station_id</th>\n",
       "      <th>start_lat</th>\n",
       "      <th>start_lng</th>\n",
       "      <th>end_lat</th>\n",
       "      <th>end_lng</th>\n",
       "      <th>member_casual</th>\n",
       "      <th>duration</th>\n",
       "      <th>start_end_station_combination</th>\n",
       "    </tr>\n",
       "  </thead>\n",
       "  <tbody>\n",
       "    <tr>\n",
       "      <th>0</th>\n",
       "      <td>933DB56B508F5DCD</td>\n",
       "      <td>classic_bike</td>\n",
       "      <td>2022-05-12 18:19:28</td>\n",
       "      <td>2022-05-12 18:26:41</td>\n",
       "      <td>15th &amp; Euclid St NW</td>\n",
       "      <td>31117.0</td>\n",
       "      <td>Park Rd &amp; Holmead Pl NW</td>\n",
       "      <td>31602.0</td>\n",
       "      <td>38.923330</td>\n",
       "      <td>-77.035200</td>\n",
       "      <td>38.930800</td>\n",
       "      <td>-77.031500</td>\n",
       "      <td>member</td>\n",
       "      <td>7.216667</td>\n",
       "      <td>15th &amp; Euclid St NW - Park Rd &amp; Holmead Pl NW</td>\n",
       "    </tr>\n",
       "    <tr>\n",
       "      <th>1</th>\n",
       "      <td>48B50E20E9B24CA7</td>\n",
       "      <td>classic_bike</td>\n",
       "      <td>2022-05-27 16:24:42</td>\n",
       "      <td>2022-05-27 16:51:51</td>\n",
       "      <td>17th St &amp; Massachusetts Ave NW</td>\n",
       "      <td>31267.0</td>\n",
       "      <td>3rd &amp; Tingey St SE</td>\n",
       "      <td>31634.0</td>\n",
       "      <td>38.908142</td>\n",
       "      <td>-77.038359</td>\n",
       "      <td>38.875010</td>\n",
       "      <td>-77.002400</td>\n",
       "      <td>member</td>\n",
       "      <td>27.150000</td>\n",
       "      <td>17th St &amp; Massachusetts Ave NW - 3rd &amp; Tingey ...</td>\n",
       "    </tr>\n",
       "    <tr>\n",
       "      <th>2</th>\n",
       "      <td>96444E8B2485BA6D</td>\n",
       "      <td>classic_bike</td>\n",
       "      <td>2022-05-29 19:16:55</td>\n",
       "      <td>2022-05-29 19:22:31</td>\n",
       "      <td>15th &amp; Euclid St NW</td>\n",
       "      <td>31117.0</td>\n",
       "      <td>Columbia Rd &amp; Belmont St NW</td>\n",
       "      <td>31113.0</td>\n",
       "      <td>38.923330</td>\n",
       "      <td>-77.035200</td>\n",
       "      <td>38.920669</td>\n",
       "      <td>-77.043680</td>\n",
       "      <td>member</td>\n",
       "      <td>5.600000</td>\n",
       "      <td>15th &amp; Euclid St NW - Columbia Rd &amp; Belmont St NW</td>\n",
       "    </tr>\n",
       "    <tr>\n",
       "      <th>3</th>\n",
       "      <td>37FE6E9EB6768E2A</td>\n",
       "      <td>electric_bike</td>\n",
       "      <td>2022-05-11 12:30:58</td>\n",
       "      <td>2022-05-11 12:35:36</td>\n",
       "      <td>17th St &amp; Massachusetts Ave NW</td>\n",
       "      <td>31267.0</td>\n",
       "      <td>15th &amp; W St NW</td>\n",
       "      <td>31125.0</td>\n",
       "      <td>38.908131</td>\n",
       "      <td>-77.038435</td>\n",
       "      <td>38.919018</td>\n",
       "      <td>-77.034449</td>\n",
       "      <td>member</td>\n",
       "      <td>4.633333</td>\n",
       "      <td>17th St &amp; Massachusetts Ave NW - 15th &amp; W St NW</td>\n",
       "    </tr>\n",
       "    <tr>\n",
       "      <th>4</th>\n",
       "      <td>8FD653C76B951755</td>\n",
       "      <td>classic_bike</td>\n",
       "      <td>2022-05-03 19:16:22</td>\n",
       "      <td>2022-05-03 19:50:30</td>\n",
       "      <td>Windham Ln &amp; Amherst Ave</td>\n",
       "      <td>32066.0</td>\n",
       "      <td>Windham Ln &amp; Amherst Ave</td>\n",
       "      <td>32066.0</td>\n",
       "      <td>39.032029</td>\n",
       "      <td>-77.047350</td>\n",
       "      <td>39.032029</td>\n",
       "      <td>-77.047350</td>\n",
       "      <td>casual</td>\n",
       "      <td>34.133333</td>\n",
       "      <td>Windham Ln &amp; Amherst Ave - Windham Ln &amp; Amhers...</td>\n",
       "    </tr>\n",
       "  </tbody>\n",
       "</table>\n",
       "</div>"
      ],
      "text/plain": [
       "            ride_id  rideable_type          started_at            ended_at  \\\n",
       "0  933DB56B508F5DCD   classic_bike 2022-05-12 18:19:28 2022-05-12 18:26:41   \n",
       "1  48B50E20E9B24CA7   classic_bike 2022-05-27 16:24:42 2022-05-27 16:51:51   \n",
       "2  96444E8B2485BA6D   classic_bike 2022-05-29 19:16:55 2022-05-29 19:22:31   \n",
       "3  37FE6E9EB6768E2A  electric_bike 2022-05-11 12:30:58 2022-05-11 12:35:36   \n",
       "4  8FD653C76B951755   classic_bike 2022-05-03 19:16:22 2022-05-03 19:50:30   \n",
       "\n",
       "               start_station_name  start_station_id  \\\n",
       "0             15th & Euclid St NW           31117.0   \n",
       "1  17th St & Massachusetts Ave NW           31267.0   \n",
       "2             15th & Euclid St NW           31117.0   \n",
       "3  17th St & Massachusetts Ave NW           31267.0   \n",
       "4        Windham Ln & Amherst Ave           32066.0   \n",
       "\n",
       "              end_station_name  end_station_id  start_lat  start_lng  \\\n",
       "0      Park Rd & Holmead Pl NW         31602.0  38.923330 -77.035200   \n",
       "1           3rd & Tingey St SE         31634.0  38.908142 -77.038359   \n",
       "2  Columbia Rd & Belmont St NW         31113.0  38.923330 -77.035200   \n",
       "3               15th & W St NW         31125.0  38.908131 -77.038435   \n",
       "4     Windham Ln & Amherst Ave         32066.0  39.032029 -77.047350   \n",
       "\n",
       "     end_lat    end_lng member_casual   duration  \\\n",
       "0  38.930800 -77.031500        member   7.216667   \n",
       "1  38.875010 -77.002400        member  27.150000   \n",
       "2  38.920669 -77.043680        member   5.600000   \n",
       "3  38.919018 -77.034449        member   4.633333   \n",
       "4  39.032029 -77.047350        casual  34.133333   \n",
       "\n",
       "                       start_end_station_combination  \n",
       "0      15th & Euclid St NW - Park Rd & Holmead Pl NW  \n",
       "1  17th St & Massachusetts Ave NW - 3rd & Tingey ...  \n",
       "2  15th & Euclid St NW - Columbia Rd & Belmont St NW  \n",
       "3    17th St & Massachusetts Ave NW - 15th & W St NW  \n",
       "4  Windham Ln & Amherst Ave - Windham Ln & Amhers...  "
      ]
     },
     "execution_count": 35,
     "metadata": {},
     "output_type": "execute_result"
    }
   ],
   "source": [
    "df[\"start_end_station_combination\"] = df[\"start_station_name\"] + \" - \" + df[\"end_station_name\"]\n",
    "df.head()"
   ]
  },
  {
   "cell_type": "code",
   "execution_count": 36,
   "metadata": {},
   "outputs": [
    {
     "data": {
      "text/plain": [
       "start_end_station_combination\n",
       "4th & Florida Ave NE - 6035 Warehouse                                                                 41387.033333\n",
       "Washington Blvd & Walter Reed Dr  - George Mason Dr & Wilson Blvd                                     24253.333333\n",
       "8th & Eye St SE / Barracks Row - 6035 Warehouse                                                        8744.133333\n",
       "Benning Rd & East Capitol St NE / Benning Rd Metro - Clarendon Metro / Wilson Blvd & N Highland St     5562.066667\n",
       "Reston Town Center Transit Station - Reston YMCA                                                       5501.908333\n",
       "National Harbor Carousel - Braddock Rd Metro South                                                     5079.250000\n",
       "19th St & Constitution Ave NW - US Dept of State / Virginia Ave & 21st St NW                           3834.450000\n",
       "37th & O St NW / Georgetown University - 6035 Warehouse                                                2133.533333\n",
       "Tysons Corner Station - Jones Branch & Westbranch Dr                                                   1988.000000\n",
       "National Airport - Crystal Dr & 23rd St S                                                              1895.233333\n",
       "Name: duration, dtype: float64"
      ]
     },
     "execution_count": 36,
     "metadata": {},
     "output_type": "execute_result"
    }
   ],
   "source": [
    "mean_duration_by_start_end_station = (\n",
    "    df.groupby(\"start_end_station_combination\")[\"duration\"]\n",
    "    .mean()\n",
    "    .sort_values(ascending=False)\n",
    ")\n",
    "mean_duration_by_start_end_station.head(10)"
   ]
  },
  {
   "cell_type": "code",
   "execution_count": 37,
   "metadata": {},
   "outputs": [
    {
     "data": {
      "image/png": "[encoded data removed]",
      "text/plain": [
       "<Figure size 432x288 with 1 Axes>"
      ]
     },
     "metadata": {
      "needs_background": "light"
     },
     "output_type": "display_data"
    }
   ],
   "source": [
    "mean_duration_by_start_end_station.head(10).plot(\n",
    "    kind=\"bar\",\n",
    "    xlabel=\"Start End Station\",\n",
    "    ylabel=\"Mean Duration Time (Mins)\",\n",
    "    title=\"Mean Duration Time By Start End Station Combination\"\n",
    ");"
   ]
  },
  {
   "cell_type": "markdown",
   "metadata": {},
   "source": [
    "### Correlation"
   ]
  },
  {
   "cell_type": "code",
   "execution_count": 38,
   "metadata": {},
   "outputs": [
    {
     "data": {
      "text/html": [
       "<div>\n",
       "<style scoped>\n",
       "    .dataframe tbody tr th:only-of-type {\n",
       "        vertical-align: middle;\n",
       "    }\n",
       "\n",
       "    .dataframe tbody tr th {\n",
       "        vertical-align: top;\n",
       "    }\n",
       "\n",
       "    .dataframe thead th {\n",
       "        text-align: right;\n",
       "    }\n",
       "</style>\n",
       "<table border=\"1\" class=\"dataframe\">\n",
       "  <thead>\n",
       "    <tr style=\"text-align: right;\">\n",
       "      <th></th>\n",
       "      <th>start_station_id</th>\n",
       "      <th>end_station_id</th>\n",
       "      <th>start_lat</th>\n",
       "      <th>start_lng</th>\n",
       "      <th>end_lat</th>\n",
       "      <th>end_lng</th>\n",
       "      <th>duration</th>\n",
       "    </tr>\n",
       "  </thead>\n",
       "  <tbody>\n",
       "    <tr>\n",
       "      <th>start_station_id</th>\n",
       "      <td>1.000000</td>\n",
       "      <td>0.485921</td>\n",
       "      <td>0.035452</td>\n",
       "      <td>0.171886</td>\n",
       "      <td>0.056575</td>\n",
       "      <td>0.079817</td>\n",
       "      <td>0.005281</td>\n",
       "    </tr>\n",
       "    <tr>\n",
       "      <th>end_station_id</th>\n",
       "      <td>0.485921</td>\n",
       "      <td>1.000000</td>\n",
       "      <td>0.044197</td>\n",
       "      <td>0.079893</td>\n",
       "      <td>0.032274</td>\n",
       "      <td>0.177052</td>\n",
       "      <td>0.015025</td>\n",
       "    </tr>\n",
       "    <tr>\n",
       "      <th>start_lat</th>\n",
       "      <td>0.035452</td>\n",
       "      <td>0.044197</td>\n",
       "      <td>1.000000</td>\n",
       "      <td>-0.077845</td>\n",
       "      <td>0.818460</td>\n",
       "      <td>-0.064425</td>\n",
       "      <td>-0.025452</td>\n",
       "    </tr>\n",
       "    <tr>\n",
       "      <th>start_lng</th>\n",
       "      <td>0.171886</td>\n",
       "      <td>0.079893</td>\n",
       "      <td>-0.077845</td>\n",
       "      <td>1.000000</td>\n",
       "      <td>-0.059892</td>\n",
       "      <td>0.827099</td>\n",
       "      <td>-0.021167</td>\n",
       "    </tr>\n",
       "    <tr>\n",
       "      <th>end_lat</th>\n",
       "      <td>0.056575</td>\n",
       "      <td>0.032274</td>\n",
       "      <td>0.818460</td>\n",
       "      <td>-0.059892</td>\n",
       "      <td>1.000000</td>\n",
       "      <td>-0.073288</td>\n",
       "      <td>-0.021575</td>\n",
       "    </tr>\n",
       "    <tr>\n",
       "      <th>end_lng</th>\n",
       "      <td>0.079817</td>\n",
       "      <td>0.177052</td>\n",
       "      <td>-0.064425</td>\n",
       "      <td>0.827099</td>\n",
       "      <td>-0.073288</td>\n",
       "      <td>1.000000</td>\n",
       "      <td>-0.022142</td>\n",
       "    </tr>\n",
       "    <tr>\n",
       "      <th>duration</th>\n",
       "      <td>0.005281</td>\n",
       "      <td>0.015025</td>\n",
       "      <td>-0.025452</td>\n",
       "      <td>-0.021167</td>\n",
       "      <td>-0.021575</td>\n",
       "      <td>-0.022142</td>\n",
       "      <td>1.000000</td>\n",
       "    </tr>\n",
       "  </tbody>\n",
       "</table>\n",
       "</div>"
      ],
      "text/plain": [
       "                  start_station_id  end_station_id  start_lat  start_lng  \\\n",
       "start_station_id          1.000000        0.485921   0.035452   0.171886   \n",
       "end_station_id            0.485921        1.000000   0.044197   0.079893   \n",
       "start_lat                 0.035452        0.044197   1.000000  -0.077845   \n",
       "start_lng                 0.171886        0.079893  -0.077845   1.000000   \n",
       "end_lat                   0.056575        0.032274   0.818460  -0.059892   \n",
       "end_lng                   0.079817        0.177052  -0.064425   0.827099   \n",
       "duration                  0.005281        0.015025  -0.025452  -0.021167   \n",
       "\n",
       "                   end_lat   end_lng  duration  \n",
       "start_station_id  0.056575  0.079817  0.005281  \n",
       "end_station_id    0.032274  0.177052  0.015025  \n",
       "start_lat         0.818460 -0.064425 -0.025452  \n",
       "start_lng        -0.059892  0.827099 -0.021167  \n",
       "end_lat           1.000000 -0.073288 -0.021575  \n",
       "end_lng          -0.073288  1.000000 -0.022142  \n",
       "duration         -0.021575 -0.022142  1.000000  "
      ]
     },
     "execution_count": 38,
     "metadata": {},
     "output_type": "execute_result"
    }
   ],
   "source": [
    "df.corr()"
   ]
  },
  {
   "cell_type": "code",
   "execution_count": 39,
   "metadata": {},
   "outputs": [
    {
     "data": {
      "text/html": [
       "<div>\n",
       "<style scoped>\n",
       "    .dataframe tbody tr th:only-of-type {\n",
       "        vertical-align: middle;\n",
       "    }\n",
       "\n",
       "    .dataframe tbody tr th {\n",
       "        vertical-align: top;\n",
       "    }\n",
       "\n",
       "    .dataframe thead th {\n",
       "        text-align: right;\n",
       "    }\n",
       "</style>\n",
       "<table border=\"1\" class=\"dataframe\">\n",
       "  <thead>\n",
       "    <tr style=\"text-align: right;\">\n",
       "      <th></th>\n",
       "      <th>start_station_id</th>\n",
       "      <th>end_station_id</th>\n",
       "      <th>start_lat</th>\n",
       "      <th>start_lng</th>\n",
       "      <th>end_lat</th>\n",
       "      <th>end_lng</th>\n",
       "    </tr>\n",
       "  </thead>\n",
       "  <tbody>\n",
       "    <tr>\n",
       "      <th>start_station_id</th>\n",
       "      <td>1.000000</td>\n",
       "      <td>0.485921</td>\n",
       "      <td>0.035452</td>\n",
       "      <td>0.171886</td>\n",
       "      <td>0.056575</td>\n",
       "      <td>0.079817</td>\n",
       "    </tr>\n",
       "    <tr>\n",
       "      <th>end_station_id</th>\n",
       "      <td>0.485921</td>\n",
       "      <td>1.000000</td>\n",
       "      <td>0.044197</td>\n",
       "      <td>0.079893</td>\n",
       "      <td>0.032274</td>\n",
       "      <td>0.177052</td>\n",
       "    </tr>\n",
       "    <tr>\n",
       "      <th>start_lat</th>\n",
       "      <td>0.035452</td>\n",
       "      <td>0.044197</td>\n",
       "      <td>1.000000</td>\n",
       "      <td>-0.077845</td>\n",
       "      <td>0.818460</td>\n",
       "      <td>-0.064425</td>\n",
       "    </tr>\n",
       "    <tr>\n",
       "      <th>start_lng</th>\n",
       "      <td>0.171886</td>\n",
       "      <td>0.079893</td>\n",
       "      <td>-0.077845</td>\n",
       "      <td>1.000000</td>\n",
       "      <td>-0.059892</td>\n",
       "      <td>0.827099</td>\n",
       "    </tr>\n",
       "    <tr>\n",
       "      <th>end_lat</th>\n",
       "      <td>0.056575</td>\n",
       "      <td>0.032274</td>\n",
       "      <td>0.818460</td>\n",
       "      <td>-0.059892</td>\n",
       "      <td>1.000000</td>\n",
       "      <td>-0.073288</td>\n",
       "    </tr>\n",
       "    <tr>\n",
       "      <th>end_lng</th>\n",
       "      <td>0.079817</td>\n",
       "      <td>0.177052</td>\n",
       "      <td>-0.064425</td>\n",
       "      <td>0.827099</td>\n",
       "      <td>-0.073288</td>\n",
       "      <td>1.000000</td>\n",
       "    </tr>\n",
       "  </tbody>\n",
       "</table>\n",
       "</div>"
      ],
      "text/plain": [
       "                  start_station_id  end_station_id  start_lat  start_lng  \\\n",
       "start_station_id          1.000000        0.485921   0.035452   0.171886   \n",
       "end_station_id            0.485921        1.000000   0.044197   0.079893   \n",
       "start_lat                 0.035452        0.044197   1.000000  -0.077845   \n",
       "start_lng                 0.171886        0.079893  -0.077845   1.000000   \n",
       "end_lat                   0.056575        0.032274   0.818460  -0.059892   \n",
       "end_lng                   0.079817        0.177052  -0.064425   0.827099   \n",
       "\n",
       "                   end_lat   end_lng  \n",
       "start_station_id  0.056575  0.079817  \n",
       "end_station_id    0.032274  0.177052  \n",
       "start_lat         0.818460 -0.064425  \n",
       "start_lng        -0.059892  0.827099  \n",
       "end_lat           1.000000 -0.073288  \n",
       "end_lng          -0.073288  1.000000  "
      ]
     },
     "execution_count": 39,
     "metadata": {},
     "output_type": "execute_result"
    }
   ],
   "source": [
    "corr = df.drop(columns=\"duration\").corr()\n",
    "corr"
   ]
  },
  {
   "cell_type": "code",
   "execution_count": 40,
   "metadata": {},
   "outputs": [
    {
     "data": {
      "image/png": "[encoded data removed]",
      "text/plain": [
       "<Figure size 432x288 with 2 Axes>"
      ]
     },
     "metadata": {
      "needs_background": "light"
     },
     "output_type": "display_data"
    }
   ],
   "source": [
    "sns.heatmap(corr);"
   ]
  },
  {
   "cell_type": "code",
   "execution_count": 41,
   "metadata": {},
   "outputs": [
    {
     "data": {
      "text/html": [
       "<div>\n",
       "<style scoped>\n",
       "    .dataframe tbody tr th:only-of-type {\n",
       "        vertical-align: middle;\n",
       "    }\n",
       "\n",
       "    .dataframe tbody tr th {\n",
       "        vertical-align: top;\n",
       "    }\n",
       "\n",
       "    .dataframe thead th {\n",
       "        text-align: right;\n",
       "    }\n",
       "</style>\n",
       "<table border=\"1\" class=\"dataframe\">\n",
       "  <thead>\n",
       "    <tr style=\"text-align: right;\">\n",
       "      <th></th>\n",
       "      <th>ride_id</th>\n",
       "      <th>rideable_type</th>\n",
       "      <th>started_at</th>\n",
       "      <th>ended_at</th>\n",
       "      <th>start_station_name</th>\n",
       "      <th>start_station_id</th>\n",
       "      <th>end_station_name</th>\n",
       "      <th>end_station_id</th>\n",
       "      <th>start_lat</th>\n",
       "      <th>start_lng</th>\n",
       "      <th>end_lat</th>\n",
       "      <th>end_lng</th>\n",
       "      <th>member_casual</th>\n",
       "      <th>duration</th>\n",
       "      <th>start_end_station_combination</th>\n",
       "    </tr>\n",
       "  </thead>\n",
       "  <tbody>\n",
       "    <tr>\n",
       "      <th>0</th>\n",
       "      <td>933DB56B508F5DCD</td>\n",
       "      <td>classic_bike</td>\n",
       "      <td>2022-05-12 18:19:28</td>\n",
       "      <td>2022-05-12 18:26:41</td>\n",
       "      <td>15th &amp; Euclid St NW</td>\n",
       "      <td>31117.0</td>\n",
       "      <td>Park Rd &amp; Holmead Pl NW</td>\n",
       "      <td>31602.0</td>\n",
       "      <td>38.923330</td>\n",
       "      <td>-77.035200</td>\n",
       "      <td>38.930800</td>\n",
       "      <td>-77.031500</td>\n",
       "      <td>member</td>\n",
       "      <td>7.216667</td>\n",
       "      <td>15th &amp; Euclid St NW - Park Rd &amp; Holmead Pl NW</td>\n",
       "    </tr>\n",
       "    <tr>\n",
       "      <th>1</th>\n",
       "      <td>48B50E20E9B24CA7</td>\n",
       "      <td>classic_bike</td>\n",
       "      <td>2022-05-27 16:24:42</td>\n",
       "      <td>2022-05-27 16:51:51</td>\n",
       "      <td>17th St &amp; Massachusetts Ave NW</td>\n",
       "      <td>31267.0</td>\n",
       "      <td>3rd &amp; Tingey St SE</td>\n",
       "      <td>31634.0</td>\n",
       "      <td>38.908142</td>\n",
       "      <td>-77.038359</td>\n",
       "      <td>38.875010</td>\n",
       "      <td>-77.002400</td>\n",
       "      <td>member</td>\n",
       "      <td>27.150000</td>\n",
       "      <td>17th St &amp; Massachusetts Ave NW - 3rd &amp; Tingey ...</td>\n",
       "    </tr>\n",
       "    <tr>\n",
       "      <th>2</th>\n",
       "      <td>96444E8B2485BA6D</td>\n",
       "      <td>classic_bike</td>\n",
       "      <td>2022-05-29 19:16:55</td>\n",
       "      <td>2022-05-29 19:22:31</td>\n",
       "      <td>15th &amp; Euclid St NW</td>\n",
       "      <td>31117.0</td>\n",
       "      <td>Columbia Rd &amp; Belmont St NW</td>\n",
       "      <td>31113.0</td>\n",
       "      <td>38.923330</td>\n",
       "      <td>-77.035200</td>\n",
       "      <td>38.920669</td>\n",
       "      <td>-77.043680</td>\n",
       "      <td>member</td>\n",
       "      <td>5.600000</td>\n",
       "      <td>15th &amp; Euclid St NW - Columbia Rd &amp; Belmont St NW</td>\n",
       "    </tr>\n",
       "    <tr>\n",
       "      <th>3</th>\n",
       "      <td>37FE6E9EB6768E2A</td>\n",
       "      <td>electric_bike</td>\n",
       "      <td>2022-05-11 12:30:58</td>\n",
       "      <td>2022-05-11 12:35:36</td>\n",
       "      <td>17th St &amp; Massachusetts Ave NW</td>\n",
       "      <td>31267.0</td>\n",
       "      <td>15th &amp; W St NW</td>\n",
       "      <td>31125.0</td>\n",
       "      <td>38.908131</td>\n",
       "      <td>-77.038435</td>\n",
       "      <td>38.919018</td>\n",
       "      <td>-77.034449</td>\n",
       "      <td>member</td>\n",
       "      <td>4.633333</td>\n",
       "      <td>17th St &amp; Massachusetts Ave NW - 15th &amp; W St NW</td>\n",
       "    </tr>\n",
       "    <tr>\n",
       "      <th>4</th>\n",
       "      <td>8FD653C76B951755</td>\n",
       "      <td>classic_bike</td>\n",
       "      <td>2022-05-03 19:16:22</td>\n",
       "      <td>2022-05-03 19:50:30</td>\n",
       "      <td>Windham Ln &amp; Amherst Ave</td>\n",
       "      <td>32066.0</td>\n",
       "      <td>Windham Ln &amp; Amherst Ave</td>\n",
       "      <td>32066.0</td>\n",
       "      <td>39.032029</td>\n",
       "      <td>-77.047350</td>\n",
       "      <td>39.032029</td>\n",
       "      <td>-77.047350</td>\n",
       "      <td>casual</td>\n",
       "      <td>34.133333</td>\n",
       "      <td>Windham Ln &amp; Amherst Ave - Windham Ln &amp; Amhers...</td>\n",
       "    </tr>\n",
       "  </tbody>\n",
       "</table>\n",
       "</div>"
      ],
      "text/plain": [
       "            ride_id  rideable_type          started_at            ended_at  \\\n",
       "0  933DB56B508F5DCD   classic_bike 2022-05-12 18:19:28 2022-05-12 18:26:41   \n",
       "1  48B50E20E9B24CA7   classic_bike 2022-05-27 16:24:42 2022-05-27 16:51:51   \n",
       "2  96444E8B2485BA6D   classic_bike 2022-05-29 19:16:55 2022-05-29 19:22:31   \n",
       "3  37FE6E9EB6768E2A  electric_bike 2022-05-11 12:30:58 2022-05-11 12:35:36   \n",
       "4  8FD653C76B951755   classic_bike 2022-05-03 19:16:22 2022-05-03 19:50:30   \n",
       "\n",
       "               start_station_name  start_station_id  \\\n",
       "0             15th & Euclid St NW           31117.0   \n",
       "1  17th St & Massachusetts Ave NW           31267.0   \n",
       "2             15th & Euclid St NW           31117.0   \n",
       "3  17th St & Massachusetts Ave NW           31267.0   \n",
       "4        Windham Ln & Amherst Ave           32066.0   \n",
       "\n",
       "              end_station_name  end_station_id  start_lat  start_lng  \\\n",
       "0      Park Rd & Holmead Pl NW         31602.0  38.923330 -77.035200   \n",
       "1           3rd & Tingey St SE         31634.0  38.908142 -77.038359   \n",
       "2  Columbia Rd & Belmont St NW         31113.0  38.923330 -77.035200   \n",
       "3               15th & W St NW         31125.0  38.908131 -77.038435   \n",
       "4     Windham Ln & Amherst Ave         32066.0  39.032029 -77.047350   \n",
       "\n",
       "     end_lat    end_lng member_casual   duration  \\\n",
       "0  38.930800 -77.031500        member   7.216667   \n",
       "1  38.875010 -77.002400        member  27.150000   \n",
       "2  38.920669 -77.043680        member   5.600000   \n",
       "3  38.919018 -77.034449        member   4.633333   \n",
       "4  39.032029 -77.047350        casual  34.133333   \n",
       "\n",
       "                       start_end_station_combination  \n",
       "0      15th & Euclid St NW - Park Rd & Holmead Pl NW  \n",
       "1  17th St & Massachusetts Ave NW - 3rd & Tingey ...  \n",
       "2  15th & Euclid St NW - Columbia Rd & Belmont St NW  \n",
       "3    17th St & Massachusetts Ave NW - 15th & W St NW  \n",
       "4  Windham Ln & Amherst Ave - Windham Ln & Amhers...  "
      ]
     },
     "execution_count": 41,
     "metadata": {},
     "output_type": "execute_result"
    }
   ],
   "source": [
    "df.head()"
   ]
  },
  {
   "cell_type": "code",
   "execution_count": null,
   "metadata": {},
   "outputs": [],
   "source": []
  },
  {
   "cell_type": "markdown",
   "metadata": {},
   "source": [
    "## Prepare Data"
   ]
  },
  {
   "cell_type": "code",
   "execution_count": 2,
   "metadata": {},
   "outputs": [],
   "source": [
    "def read_data(filepath):\n",
    "    \"\"\"\n",
    "    Returns cleaned dataframe\n",
    "    \"\"\"\n",
    "    # Read csv zip file into dataframe\n",
    "    with zipfile.ZipFile(filepath, \"r\") as f:\n",
    "        for name in f.namelist():\n",
    "            if name.endswith('.csv'):\n",
    "                with f.open(name) as zd:\n",
    "                    df = pd.read_csv(zd)\n",
    "                break\n",
    "    \n",
    "    \n",
    "    return df\n",
    "    "
   ]
  },
  {
   "cell_type": "code",
   "execution_count": 3,
   "metadata": {},
   "outputs": [],
   "source": [
    "def save_to_parquet(df, filepath):\n",
    "    \"\"\"\n",
    "    Saves dataframe to parquet format\n",
    "    \"\"\"\n",
    "    # Generate destination parquet path\n",
    "    dest_path = filepath.split(\".\")\n",
    "    dest_path = f\".{dest_path[1]}.parquet\"\n",
    "    \n",
    "    # Save file destination path\n",
    "    df.to_parquet(dest_path, engine=\"pyarrow\", index=False)\n",
    "    \n",
    "    return dest_path"
   ]
  },
  {
   "cell_type": "code",
   "execution_count": 4,
   "metadata": {},
   "outputs": [],
   "source": [
    "def distance(row):\n",
    "    \"\"\"\n",
    "    Returns distance between two geo-location coordinates\n",
    "    \"\"\"\n",
    "    start = (row[\"start_lat\"], row[\"start_lng\"])\n",
    "    end = (row[\"end_lat\"], row[\"end_lng\"])\n",
    "    distance = haversine(start, end, unit=Unit.MILES)\n",
    "    \n",
    "    return distance"
   ]
  },
  {
   "cell_type": "code",
   "execution_count": 38,
   "metadata": {},
   "outputs": [],
   "source": [
    "def prepare_data(dest_path):\n",
    "    \"\"\"\n",
    "    Wrangle and return cleaned dataframe\n",
    "    \"\"\"\n",
    "    # Read parquet to dataframe\n",
    "    df = pd.read_parquet(dest_path)\n",
    "    \n",
    "    # Change datetime columns to datatime datatype\n",
    "    df.started_at = pd.to_datetime(df.started_at)\n",
    "    df.ended_at = pd.to_datetime(df.ended_at)\n",
    "    \n",
    "    df[\"duration\"] = df.ended_at - df.started_at\n",
    "    df.duration = df.duration.apply(lambda td: td.total_seconds() / 60)\n",
    "    \n",
    "    mask_duration = (df.duration >= 1) & (df.duration <= 60)\n",
    "    df = df[mask_duration]\n",
    "    \n",
    "    # Drop columns\n",
    "    drop_columns = ['ride_id', 'started_at', 'ended_at',\n",
    "       'start_station_name', 'end_station_name', 'member_casual']\n",
    "    df.drop(columns=drop_columns, inplace=True)\n",
    "    \n",
    "    # Calculate trip distance from start and end coordinates\n",
    "    df[\"trip_distance\"] = df.apply(distance, axis=1)\n",
    "    df.drop(columns=['start_lat', 'start_lng', 'end_lat', 'end_lng'], inplace=True)\n",
    "    \n",
    "    # start_end_id\n",
    "    df[[\"start_station_id\", \"end_station_id\"]] = df[[\"start_station_id\", \"end_station_id\"]].astype(str)\n",
    "    df[\"start_end_id\"] = df[\"start_station_id\"] + \"_\" + df[\"end_station_id\"]\n",
    "    df.drop(columns=[\"start_station_id\", \"end_station_id\"], inplace=True)\n",
    "    \n",
    "    return df"
   ]
  },
  {
   "cell_type": "code",
   "execution_count": 39,
   "metadata": {},
   "outputs": [],
   "source": [
    "filepath = \"./data/202205-capitalbikeshare-tripdata.zip\"\n",
    "df = read_data(filepath)"
   ]
  },
  {
   "cell_type": "code",
   "execution_count": 40,
   "metadata": {},
   "outputs": [],
   "source": [
    "dest_parquet_path = save_to_parquet(df, filepath)"
   ]
  },
  {
   "cell_type": "code",
   "execution_count": 41,
   "metadata": {},
   "outputs": [
    {
     "data": {
      "text/html": [
       "<div>\n",
       "<style scoped>\n",
       "    .dataframe tbody tr th:only-of-type {\n",
       "        vertical-align: middle;\n",
       "    }\n",
       "\n",
       "    .dataframe tbody tr th {\n",
       "        vertical-align: top;\n",
       "    }\n",
       "\n",
       "    .dataframe thead th {\n",
       "        text-align: right;\n",
       "    }\n",
       "</style>\n",
       "<table border=\"1\" class=\"dataframe\">\n",
       "  <thead>\n",
       "    <tr style=\"text-align: right;\">\n",
       "      <th></th>\n",
       "      <th>rideable_type</th>\n",
       "      <th>duration</th>\n",
       "      <th>trip_distance</th>\n",
       "      <th>start_end_id</th>\n",
       "    </tr>\n",
       "  </thead>\n",
       "  <tbody>\n",
       "    <tr>\n",
       "      <th>0</th>\n",
       "      <td>classic_bike</td>\n",
       "      <td>7.216667</td>\n",
       "      <td>0.553119</td>\n",
       "      <td>31117.0_31602.0</td>\n",
       "    </tr>\n",
       "    <tr>\n",
       "      <th>1</th>\n",
       "      <td>classic_bike</td>\n",
       "      <td>27.150000</td>\n",
       "      <td>2.996669</td>\n",
       "      <td>31267.0_31634.0</td>\n",
       "    </tr>\n",
       "    <tr>\n",
       "      <th>2</th>\n",
       "      <td>classic_bike</td>\n",
       "      <td>5.600000</td>\n",
       "      <td>0.491523</td>\n",
       "      <td>31117.0_31113.0</td>\n",
       "    </tr>\n",
       "    <tr>\n",
       "      <th>3</th>\n",
       "      <td>electric_bike</td>\n",
       "      <td>4.633333</td>\n",
       "      <td>0.782209</td>\n",
       "      <td>31267.0_31125.0</td>\n",
       "    </tr>\n",
       "    <tr>\n",
       "      <th>4</th>\n",
       "      <td>classic_bike</td>\n",
       "      <td>34.133333</td>\n",
       "      <td>0.000000</td>\n",
       "      <td>32066.0_32066.0</td>\n",
       "    </tr>\n",
       "  </tbody>\n",
       "</table>\n",
       "</div>"
      ],
      "text/plain": [
       "   rideable_type   duration  trip_distance     start_end_id\n",
       "0   classic_bike   7.216667       0.553119  31117.0_31602.0\n",
       "1   classic_bike  27.150000       2.996669  31267.0_31634.0\n",
       "2   classic_bike   5.600000       0.491523  31117.0_31113.0\n",
       "3  electric_bike   4.633333       0.782209  31267.0_31125.0\n",
       "4   classic_bike  34.133333       0.000000  32066.0_32066.0"
      ]
     },
     "execution_count": 41,
     "metadata": {},
     "output_type": "execute_result"
    }
   ],
   "source": [
    "df = prepare_data(dest_parquet_path)\n",
    "df.head()"
   ]
  },
  {
   "cell_type": "code",
   "execution_count": 42,
   "metadata": {},
   "outputs": [
    {
     "data": {
      "text/html": [
       "<div>\n",
       "<style scoped>\n",
       "    .dataframe tbody tr th:only-of-type {\n",
       "        vertical-align: middle;\n",
       "    }\n",
       "\n",
       "    .dataframe tbody tr th {\n",
       "        vertical-align: top;\n",
       "    }\n",
       "\n",
       "    .dataframe thead th {\n",
       "        text-align: right;\n",
       "    }\n",
       "</style>\n",
       "<table border=\"1\" class=\"dataframe\">\n",
       "  <thead>\n",
       "    <tr style=\"text-align: right;\">\n",
       "      <th></th>\n",
       "      <th>duration</th>\n",
       "      <th>trip_distance</th>\n",
       "    </tr>\n",
       "  </thead>\n",
       "  <tbody>\n",
       "    <tr>\n",
       "      <th>count</th>\n",
       "      <td>310389.000000</td>\n",
       "      <td>310356.000000</td>\n",
       "    </tr>\n",
       "    <tr>\n",
       "      <th>mean</th>\n",
       "      <td>15.481160</td>\n",
       "      <td>1.206502</td>\n",
       "    </tr>\n",
       "    <tr>\n",
       "      <th>std</th>\n",
       "      <td>11.611080</td>\n",
       "      <td>0.889049</td>\n",
       "    </tr>\n",
       "    <tr>\n",
       "      <th>min</th>\n",
       "      <td>1.000000</td>\n",
       "      <td>0.000000</td>\n",
       "    </tr>\n",
       "    <tr>\n",
       "      <th>25%</th>\n",
       "      <td>7.116667</td>\n",
       "      <td>0.597681</td>\n",
       "    </tr>\n",
       "    <tr>\n",
       "      <th>50%</th>\n",
       "      <td>12.033333</td>\n",
       "      <td>1.010457</td>\n",
       "    </tr>\n",
       "    <tr>\n",
       "      <th>75%</th>\n",
       "      <td>20.300000</td>\n",
       "      <td>1.601602</td>\n",
       "    </tr>\n",
       "    <tr>\n",
       "      <th>max</th>\n",
       "      <td>60.000000</td>\n",
       "      <td>11.667898</td>\n",
       "    </tr>\n",
       "  </tbody>\n",
       "</table>\n",
       "</div>"
      ],
      "text/plain": [
       "            duration  trip_distance\n",
       "count  310389.000000  310356.000000\n",
       "mean       15.481160       1.206502\n",
       "std        11.611080       0.889049\n",
       "min         1.000000       0.000000\n",
       "25%         7.116667       0.597681\n",
       "50%        12.033333       1.010457\n",
       "75%        20.300000       1.601602\n",
       "max        60.000000      11.667898"
      ]
     },
     "execution_count": 42,
     "metadata": {},
     "output_type": "execute_result"
    }
   ],
   "source": [
    "df.describe()"
   ]
  },
  {
   "cell_type": "code",
   "execution_count": 43,
   "metadata": {},
   "outputs": [
    {
     "data": {
      "text/plain": [
       "(310389, 4)"
      ]
     },
     "execution_count": 43,
     "metadata": {},
     "output_type": "execute_result"
    }
   ],
   "source": [
    "df.shape"
   ]
  },
  {
   "cell_type": "code",
   "execution_count": 44,
   "metadata": {},
   "outputs": [
    {
     "name": "stdout",
     "output_type": "stream",
     "text": [
      "<class 'pandas.core.frame.DataFrame'>\n",
      "Int64Index: 310389 entries, 0 to 332820\n",
      "Data columns (total 4 columns):\n",
      " #   Column         Non-Null Count   Dtype  \n",
      "---  ------         --------------   -----  \n",
      " 0   rideable_type  310389 non-null  object \n",
      " 1   duration       310389 non-null  float64\n",
      " 2   trip_distance  310356 non-null  float64\n",
      " 3   start_end_id   310389 non-null  object \n",
      "dtypes: float64(2), object(2)\n",
      "memory usage: 11.8+ MB\n"
     ]
    }
   ],
   "source": [
    "df.info()"
   ]
  },
  {
   "cell_type": "code",
   "execution_count": 45,
   "metadata": {},
   "outputs": [
    {
     "data": {
      "text/plain": [
       "Index(['rideable_type', 'duration', 'trip_distance', 'start_end_id'], dtype='object')"
      ]
     },
     "execution_count": 45,
     "metadata": {},
     "output_type": "execute_result"
    }
   ],
   "source": [
    "df.columns"
   ]
  },
  {
   "cell_type": "code",
   "execution_count": 46,
   "metadata": {},
   "outputs": [
    {
     "data": {
      "text/plain": [
       "rideable_type     0\n",
       "duration          0\n",
       "trip_distance    33\n",
       "start_end_id      0\n",
       "dtype: int64"
      ]
     },
     "execution_count": 46,
     "metadata": {},
     "output_type": "execute_result"
    }
   ],
   "source": [
    "df.isna().sum()"
   ]
  },
  {
   "cell_type": "markdown",
   "metadata": {},
   "source": [
    "## Split"
   ]
  },
  {
   "cell_type": "code",
   "execution_count": 47,
   "metadata": {},
   "outputs": [],
   "source": [
    "target = \"duration\"\n",
    "features = list(df.drop(columns=target).columns)\n",
    "X = df[features]\n",
    "y = df[target]"
   ]
  },
  {
   "cell_type": "code",
   "execution_count": 48,
   "metadata": {},
   "outputs": [
    {
     "data": {
      "text/plain": [
       "(310389, 3)"
      ]
     },
     "execution_count": 48,
     "metadata": {},
     "output_type": "execute_result"
    }
   ],
   "source": [
    "X.shape"
   ]
  },
  {
   "cell_type": "code",
   "execution_count": 49,
   "metadata": {},
   "outputs": [
    {
     "data": {
      "text/plain": [
       "(310389,)"
      ]
     },
     "execution_count": 49,
     "metadata": {},
     "output_type": "execute_result"
    }
   ],
   "source": [
    "y.shape"
   ]
  },
  {
   "cell_type": "code",
   "execution_count": 50,
   "metadata": {},
   "outputs": [
    {
     "name": "stdout",
     "output_type": "stream",
     "text": [
      "(248311, 3)\n",
      "(248311,)\n",
      "(62078, 3)\n",
      "(62078,)\n"
     ]
    }
   ],
   "source": [
    "X_train, X_test, y_train, y_test = train_test_split(\n",
    "    X, y, test_size=0.2, random_state=42\n",
    ")\n",
    "\n",
    "print(X_train.shape)\n",
    "print(y_train.shape)\n",
    "\n",
    "print(X_test.shape)\n",
    "print(y_test.shape)"
   ]
  },
  {
   "cell_type": "markdown",
   "metadata": {},
   "source": [
    "## Build Model\n",
    "\n",
    "### Baseline"
   ]
  },
  {
   "cell_type": "code",
   "execution_count": 51,
   "metadata": {},
   "outputs": [
    {
     "name": "stdout",
     "output_type": "stream",
     "text": [
      "Mean apt price: 15.48\n",
      "Baseline MAE: 8.87\n",
      "Baseline RMSE: 11.61\n"
     ]
    }
   ],
   "source": [
    "y_mean = y_train.mean()\n",
    "y_pred_baseline = [y_mean] * len(y_train)\n",
    "\n",
    "print(\"Mean apt price:\", round(y_mean, 2))\n",
    "\n",
    "print(\"Baseline MAE:\", mean_absolute_error(y_train, y_pred_baseline).round(2))\n",
    "print(\"Baseline RMSE:\", (mean_squared_error(y_train, y_pred_baseline) ** .5).round(2) )"
   ]
  },
  {
   "cell_type": "markdown",
   "metadata": {},
   "source": [
    "## Iterate\n",
    "\n",
    "###  Ridge Model"
   ]
  },
  {
   "cell_type": "code",
   "execution_count": 52,
   "metadata": {},
   "outputs": [
    {
     "data": {
      "text/plain": [
       "[{'rideable_type': 'classic_bike',\n",
       "  'duration': 7.216666666666667,\n",
       "  'trip_distance': 0.5531190266114605,\n",
       "  'start_end_id': '31117.0_31602.0'},\n",
       " {'rideable_type': 'classic_bike',\n",
       "  'duration': 27.15,\n",
       "  'trip_distance': 2.996669093244379,\n",
       "  'start_end_id': '31267.0_31634.0'}]"
      ]
     },
     "execution_count": 52,
     "metadata": {},
     "output_type": "execute_result"
    }
   ],
   "source": [
    "df.to_dict(orient=\"records\")[:2]"
   ]
  },
  {
   "cell_type": "code",
   "execution_count": 23,
   "metadata": {},
   "outputs": [
    {
     "data": {
      "text/html": [
       "<style>#sk-container-id-1 {color: black;background-color: white;}#sk-container-id-1 pre{padding: 0;}#sk-container-id-1 div.sk-toggleable {background-color: white;}#sk-container-id-1 label.sk-toggleable__label {cursor: pointer;display: block;width: 100%;margin-bottom: 0;padding: 0.3em;box-sizing: border-box;text-align: center;}#sk-container-id-1 label.sk-toggleable__label-arrow:before {content: \"▸\";float: left;margin-right: 0.25em;color: #696969;}#sk-container-id-1 label.sk-toggleable__label-arrow:hover:before {color: black;}#sk-container-id-1 div.sk-estimator:hover label.sk-toggleable__label-arrow:before {color: black;}#sk-container-id-1 div.sk-toggleable__content {max-height: 0;max-width: 0;overflow: hidden;text-align: left;background-color: #f0f8ff;}#sk-container-id-1 div.sk-toggleable__content pre {margin: 0.2em;color: black;border-radius: 0.25em;background-color: #f0f8ff;}#sk-container-id-1 input.sk-toggleable__control:checked~div.sk-toggleable__content {max-height: 200px;max-width: 100%;overflow: auto;}#sk-container-id-1 input.sk-toggleable__control:checked~label.sk-toggleable__label-arrow:before {content: \"▾\";}#sk-container-id-1 div.sk-estimator input.sk-toggleable__control:checked~label.sk-toggleable__label {background-color: #d4ebff;}#sk-container-id-1 div.sk-label input.sk-toggleable__control:checked~label.sk-toggleable__label {background-color: #d4ebff;}#sk-container-id-1 input.sk-hidden--visually {border: 0;clip: rect(1px 1px 1px 1px);clip: rect(1px, 1px, 1px, 1px);height: 1px;margin: -1px;overflow: hidden;padding: 0;position: absolute;width: 1px;}#sk-container-id-1 div.sk-estimator {font-family: monospace;background-color: #f0f8ff;border: 1px dotted black;border-radius: 0.25em;box-sizing: border-box;margin-bottom: 0.5em;}#sk-container-id-1 div.sk-estimator:hover {background-color: #d4ebff;}#sk-container-id-1 div.sk-parallel-item::after {content: \"\";width: 100%;border-bottom: 1px solid gray;flex-grow: 1;}#sk-container-id-1 div.sk-label:hover label.sk-toggleable__label {background-color: #d4ebff;}#sk-container-id-1 div.sk-serial::before {content: \"\";position: absolute;border-left: 1px solid gray;box-sizing: border-box;top: 0;bottom: 0;left: 50%;z-index: 0;}#sk-container-id-1 div.sk-serial {display: flex;flex-direction: column;align-items: center;background-color: white;padding-right: 0.2em;padding-left: 0.2em;position: relative;}#sk-container-id-1 div.sk-item {position: relative;z-index: 1;}#sk-container-id-1 div.sk-parallel {display: flex;align-items: stretch;justify-content: center;background-color: white;position: relative;}#sk-container-id-1 div.sk-item::before, #sk-container-id-1 div.sk-parallel-item::before {content: \"\";position: absolute;border-left: 1px solid gray;box-sizing: border-box;top: 0;bottom: 0;left: 50%;z-index: -1;}#sk-container-id-1 div.sk-parallel-item {display: flex;flex-direction: column;z-index: 1;position: relative;background-color: white;}#sk-container-id-1 div.sk-parallel-item:first-child::after {align-self: flex-end;width: 50%;}#sk-container-id-1 div.sk-parallel-item:last-child::after {align-self: flex-start;width: 50%;}#sk-container-id-1 div.sk-parallel-item:only-child::after {width: 0;}#sk-container-id-1 div.sk-dashed-wrapped {border: 1px dashed gray;margin: 0 0.4em 0.5em 0.4em;box-sizing: border-box;padding-bottom: 0.4em;background-color: white;}#sk-container-id-1 div.sk-label label {font-family: monospace;font-weight: bold;display: inline-block;line-height: 1.2em;}#sk-container-id-1 div.sk-label-container {text-align: center;}#sk-container-id-1 div.sk-container {/* jupyter's `normalize.less` sets `[hidden] { display: none; }` but bootstrap.min.css set `[hidden] { display: none !important; }` so we also need the `!important` here to be able to override the default hidden behavior on the sphinx rendered scikit-learn.org. See: https://github.com/scikit-learn/scikit-learn/issues/21755 */display: inline-block !important;position: relative;}#sk-container-id-1 div.sk-text-repr-fallback {display: none;}</style><div id=\"sk-container-id-1\" class=\"sk-top-container\"><div class=\"sk-text-repr-fallback\"><pre>Pipeline(steps=[(&#x27;dictvectorizer&#x27;, DictVectorizer()),\n",
       "                (&#x27;simpleimputer&#x27;, SimpleImputer()), (&#x27;ridge&#x27;, Ridge())])</pre><b>In a Jupyter environment, please rerun this cell to show the HTML representation or trust the notebook. <br />On GitHub, the HTML representation is unable to render, please try loading this page with nbviewer.org.</b></div><div class=\"sk-container\" hidden><div class=\"sk-item sk-dashed-wrapped\"><div class=\"sk-label-container\"><div class=\"sk-label sk-toggleable\"><input class=\"sk-toggleable__control sk-hidden--visually\" id=\"sk-estimator-id-1\" type=\"checkbox\" ><label for=\"sk-estimator-id-1\" class=\"sk-toggleable__label sk-toggleable__label-arrow\">Pipeline</label><div class=\"sk-toggleable__content\"><pre>Pipeline(steps=[(&#x27;dictvectorizer&#x27;, DictVectorizer()),\n",
       "                (&#x27;simpleimputer&#x27;, SimpleImputer()), (&#x27;ridge&#x27;, Ridge())])</pre></div></div></div><div class=\"sk-serial\"><div class=\"sk-item\"><div class=\"sk-estimator sk-toggleable\"><input class=\"sk-toggleable__control sk-hidden--visually\" id=\"sk-estimator-id-2\" type=\"checkbox\" ><label for=\"sk-estimator-id-2\" class=\"sk-toggleable__label sk-toggleable__label-arrow\">DictVectorizer</label><div class=\"sk-toggleable__content\"><pre>DictVectorizer()</pre></div></div></div><div class=\"sk-item\"><div class=\"sk-estimator sk-toggleable\"><input class=\"sk-toggleable__control sk-hidden--visually\" id=\"sk-estimator-id-3\" type=\"checkbox\" ><label for=\"sk-estimator-id-3\" class=\"sk-toggleable__label sk-toggleable__label-arrow\">SimpleImputer</label><div class=\"sk-toggleable__content\"><pre>SimpleImputer()</pre></div></div></div><div class=\"sk-item\"><div class=\"sk-estimator sk-toggleable\"><input class=\"sk-toggleable__control sk-hidden--visually\" id=\"sk-estimator-id-4\" type=\"checkbox\" ><label for=\"sk-estimator-id-4\" class=\"sk-toggleable__label sk-toggleable__label-arrow\">Ridge</label><div class=\"sk-toggleable__content\"><pre>Ridge()</pre></div></div></div></div></div></div></div>"
      ],
      "text/plain": [
       "Pipeline(steps=[('dictvectorizer', DictVectorizer()),\n",
       "                ('simpleimputer', SimpleImputer()), ('ridge', Ridge())])"
      ]
     },
     "execution_count": 23,
     "metadata": {},
     "output_type": "execute_result"
    }
   ],
   "source": [
    "# Build and Train model\n",
    "model = make_pipeline(\n",
    "    DictVectorizer(),\n",
    "    SimpleImputer(),\n",
    "    Ridge()\n",
    ")\n",
    "model"
   ]
  },
  {
   "cell_type": "code",
   "execution_count": 54,
   "metadata": {},
   "outputs": [
    {
     "data": {
      "text/html": [
       "<style>#sk-container-id-7 {color: black;background-color: white;}#sk-container-id-7 pre{padding: 0;}#sk-container-id-7 div.sk-toggleable {background-color: white;}#sk-container-id-7 label.sk-toggleable__label {cursor: pointer;display: block;width: 100%;margin-bottom: 0;padding: 0.3em;box-sizing: border-box;text-align: center;}#sk-container-id-7 label.sk-toggleable__label-arrow:before {content: \"▸\";float: left;margin-right: 0.25em;color: #696969;}#sk-container-id-7 label.sk-toggleable__label-arrow:hover:before {color: black;}#sk-container-id-7 div.sk-estimator:hover label.sk-toggleable__label-arrow:before {color: black;}#sk-container-id-7 div.sk-toggleable__content {max-height: 0;max-width: 0;overflow: hidden;text-align: left;background-color: #f0f8ff;}#sk-container-id-7 div.sk-toggleable__content pre {margin: 0.2em;color: black;border-radius: 0.25em;background-color: #f0f8ff;}#sk-container-id-7 input.sk-toggleable__control:checked~div.sk-toggleable__content {max-height: 200px;max-width: 100%;overflow: auto;}#sk-container-id-7 input.sk-toggleable__control:checked~label.sk-toggleable__label-arrow:before {content: \"▾\";}#sk-container-id-7 div.sk-estimator input.sk-toggleable__control:checked~label.sk-toggleable__label {background-color: #d4ebff;}#sk-container-id-7 div.sk-label input.sk-toggleable__control:checked~label.sk-toggleable__label {background-color: #d4ebff;}#sk-container-id-7 input.sk-hidden--visually {border: 0;clip: rect(1px 1px 1px 1px);clip: rect(1px, 1px, 1px, 1px);height: 1px;margin: -1px;overflow: hidden;padding: 0;position: absolute;width: 1px;}#sk-container-id-7 div.sk-estimator {font-family: monospace;background-color: #f0f8ff;border: 1px dotted black;border-radius: 0.25em;box-sizing: border-box;margin-bottom: 0.5em;}#sk-container-id-7 div.sk-estimator:hover {background-color: #d4ebff;}#sk-container-id-7 div.sk-parallel-item::after {content: \"\";width: 100%;border-bottom: 1px solid gray;flex-grow: 1;}#sk-container-id-7 div.sk-label:hover label.sk-toggleable__label {background-color: #d4ebff;}#sk-container-id-7 div.sk-serial::before {content: \"\";position: absolute;border-left: 1px solid gray;box-sizing: border-box;top: 0;bottom: 0;left: 50%;z-index: 0;}#sk-container-id-7 div.sk-serial {display: flex;flex-direction: column;align-items: center;background-color: white;padding-right: 0.2em;padding-left: 0.2em;position: relative;}#sk-container-id-7 div.sk-item {position: relative;z-index: 1;}#sk-container-id-7 div.sk-parallel {display: flex;align-items: stretch;justify-content: center;background-color: white;position: relative;}#sk-container-id-7 div.sk-item::before, #sk-container-id-7 div.sk-parallel-item::before {content: \"\";position: absolute;border-left: 1px solid gray;box-sizing: border-box;top: 0;bottom: 0;left: 50%;z-index: -1;}#sk-container-id-7 div.sk-parallel-item {display: flex;flex-direction: column;z-index: 1;position: relative;background-color: white;}#sk-container-id-7 div.sk-parallel-item:first-child::after {align-self: flex-end;width: 50%;}#sk-container-id-7 div.sk-parallel-item:last-child::after {align-self: flex-start;width: 50%;}#sk-container-id-7 div.sk-parallel-item:only-child::after {width: 0;}#sk-container-id-7 div.sk-dashed-wrapped {border: 1px dashed gray;margin: 0 0.4em 0.5em 0.4em;box-sizing: border-box;padding-bottom: 0.4em;background-color: white;}#sk-container-id-7 div.sk-label label {font-family: monospace;font-weight: bold;display: inline-block;line-height: 1.2em;}#sk-container-id-7 div.sk-label-container {text-align: center;}#sk-container-id-7 div.sk-container {/* jupyter's `normalize.less` sets `[hidden] { display: none; }` but bootstrap.min.css set `[hidden] { display: none !important; }` so we also need the `!important` here to be able to override the default hidden behavior on the sphinx rendered scikit-learn.org. See: https://github.com/scikit-learn/scikit-learn/issues/21755 */display: inline-block !important;position: relative;}#sk-container-id-7 div.sk-text-repr-fallback {display: none;}</style><div id=\"sk-container-id-7\" class=\"sk-top-container\"><div class=\"sk-text-repr-fallback\"><pre>Pipeline(steps=[(&#x27;dictvectorizer&#x27;, DictVectorizer()),\n",
       "                (&#x27;simpleimputer&#x27;, SimpleImputer()), (&#x27;ridge&#x27;, Ridge())])</pre><b>In a Jupyter environment, please rerun this cell to show the HTML representation or trust the notebook. <br />On GitHub, the HTML representation is unable to render, please try loading this page with nbviewer.org.</b></div><div class=\"sk-container\" hidden><div class=\"sk-item sk-dashed-wrapped\"><div class=\"sk-label-container\"><div class=\"sk-label sk-toggleable\"><input class=\"sk-toggleable__control sk-hidden--visually\" id=\"sk-estimator-id-19\" type=\"checkbox\" ><label for=\"sk-estimator-id-19\" class=\"sk-toggleable__label sk-toggleable__label-arrow\">Pipeline</label><div class=\"sk-toggleable__content\"><pre>Pipeline(steps=[(&#x27;dictvectorizer&#x27;, DictVectorizer()),\n",
       "                (&#x27;simpleimputer&#x27;, SimpleImputer()), (&#x27;ridge&#x27;, Ridge())])</pre></div></div></div><div class=\"sk-serial\"><div class=\"sk-item\"><div class=\"sk-estimator sk-toggleable\"><input class=\"sk-toggleable__control sk-hidden--visually\" id=\"sk-estimator-id-20\" type=\"checkbox\" ><label for=\"sk-estimator-id-20\" class=\"sk-toggleable__label sk-toggleable__label-arrow\">DictVectorizer</label><div class=\"sk-toggleable__content\"><pre>DictVectorizer()</pre></div></div></div><div class=\"sk-item\"><div class=\"sk-estimator sk-toggleable\"><input class=\"sk-toggleable__control sk-hidden--visually\" id=\"sk-estimator-id-21\" type=\"checkbox\" ><label for=\"sk-estimator-id-21\" class=\"sk-toggleable__label sk-toggleable__label-arrow\">SimpleImputer</label><div class=\"sk-toggleable__content\"><pre>SimpleImputer()</pre></div></div></div><div class=\"sk-item\"><div class=\"sk-estimator sk-toggleable\"><input class=\"sk-toggleable__control sk-hidden--visually\" id=\"sk-estimator-id-22\" type=\"checkbox\" ><label for=\"sk-estimator-id-22\" class=\"sk-toggleable__label sk-toggleable__label-arrow\">Ridge</label><div class=\"sk-toggleable__content\"><pre>Ridge()</pre></div></div></div></div></div></div></div>"
      ],
      "text/plain": [
       "Pipeline(steps=[('dictvectorizer', DictVectorizer()),\n",
       "                ('simpleimputer', SimpleImputer()), ('ridge', Ridge())])"
      ]
     },
     "execution_count": 54,
     "metadata": {},
     "output_type": "execute_result"
    }
   ],
   "source": [
    "model.fit(X_train.to_dict(orient=\"records\"), y_train)"
   ]
  },
  {
   "cell_type": "markdown",
   "metadata": {},
   "source": [
    "### Evaluate"
   ]
  },
  {
   "cell_type": "code",
   "execution_count": 55,
   "metadata": {},
   "outputs": [
    {
     "name": "stdout",
     "output_type": "stream",
     "text": [
      "Training MAE: 4.41\n",
      "Training RMSE: 7.11\n"
     ]
    }
   ],
   "source": [
    "y_pred_training = model.predict(X_train.to_dict(orient=\"records\"))\n",
    "mae_training = mean_absolute_error(y_train, y_pred_training)\n",
    "rmse_training = (mean_squared_error(y_train, y_pred_training)) ** 0.5\n",
    "\n",
    "print(\"Training MAE:\", round(mae_training, 2))\n",
    "print(\"Training RMSE:\", round(rmse_training, 2))"
   ]
  },
  {
   "cell_type": "code",
   "execution_count": 56,
   "metadata": {},
   "outputs": [
    {
     "name": "stdout",
     "output_type": "stream",
     "text": [
      "Test MAE: 5.17\n",
      "Test RMSE: 5.17\n"
     ]
    }
   ],
   "source": [
    "y_pred_test = model.predict(X_test.to_dict(orient=\"records\"))\n",
    "mae_test = mean_absolute_error(y_test, y_pred_test)\n",
    "rmse_test = (mean_squared_error(y_test, y_pred_test)) ** 0.5\n",
    "\n",
    "print(\"Test MAE:\", round(mae_test, 2))\n",
    "print(\"Test RMSE:\", round(mae_test, 2))"
   ]
  },
  {
   "cell_type": "code",
   "execution_count": 57,
   "metadata": {},
   "outputs": [
    {
     "data": {
      "text/plain": [
       "array([ 3.65804349,  5.7125158 , 22.83842452, 10.36956981, 31.77688307])"
      ]
     },
     "execution_count": 57,
     "metadata": {},
     "output_type": "execute_result"
    }
   ],
   "source": [
    "y_pred_test[:5]"
   ]
  },
  {
   "cell_type": "markdown",
   "metadata": {},
   "source": [
    "### RandomForestRegressor Model"
   ]
  },
  {
   "cell_type": "code",
   "execution_count": 24,
   "metadata": {},
   "outputs": [
    {
     "data": {
      "text/html": [
       "<style>#sk-container-id-2 {color: black;background-color: white;}#sk-container-id-2 pre{padding: 0;}#sk-container-id-2 div.sk-toggleable {background-color: white;}#sk-container-id-2 label.sk-toggleable__label {cursor: pointer;display: block;width: 100%;margin-bottom: 0;padding: 0.3em;box-sizing: border-box;text-align: center;}#sk-container-id-2 label.sk-toggleable__label-arrow:before {content: \"▸\";float: left;margin-right: 0.25em;color: #696969;}#sk-container-id-2 label.sk-toggleable__label-arrow:hover:before {color: black;}#sk-container-id-2 div.sk-estimator:hover label.sk-toggleable__label-arrow:before {color: black;}#sk-container-id-2 div.sk-toggleable__content {max-height: 0;max-width: 0;overflow: hidden;text-align: left;background-color: #f0f8ff;}#sk-container-id-2 div.sk-toggleable__content pre {margin: 0.2em;color: black;border-radius: 0.25em;background-color: #f0f8ff;}#sk-container-id-2 input.sk-toggleable__control:checked~div.sk-toggleable__content {max-height: 200px;max-width: 100%;overflow: auto;}#sk-container-id-2 input.sk-toggleable__control:checked~label.sk-toggleable__label-arrow:before {content: \"▾\";}#sk-container-id-2 div.sk-estimator input.sk-toggleable__control:checked~label.sk-toggleable__label {background-color: #d4ebff;}#sk-container-id-2 div.sk-label input.sk-toggleable__control:checked~label.sk-toggleable__label {background-color: #d4ebff;}#sk-container-id-2 input.sk-hidden--visually {border: 0;clip: rect(1px 1px 1px 1px);clip: rect(1px, 1px, 1px, 1px);height: 1px;margin: -1px;overflow: hidden;padding: 0;position: absolute;width: 1px;}#sk-container-id-2 div.sk-estimator {font-family: monospace;background-color: #f0f8ff;border: 1px dotted black;border-radius: 0.25em;box-sizing: border-box;margin-bottom: 0.5em;}#sk-container-id-2 div.sk-estimator:hover {background-color: #d4ebff;}#sk-container-id-2 div.sk-parallel-item::after {content: \"\";width: 100%;border-bottom: 1px solid gray;flex-grow: 1;}#sk-container-id-2 div.sk-label:hover label.sk-toggleable__label {background-color: #d4ebff;}#sk-container-id-2 div.sk-serial::before {content: \"\";position: absolute;border-left: 1px solid gray;box-sizing: border-box;top: 0;bottom: 0;left: 50%;z-index: 0;}#sk-container-id-2 div.sk-serial {display: flex;flex-direction: column;align-items: center;background-color: white;padding-right: 0.2em;padding-left: 0.2em;position: relative;}#sk-container-id-2 div.sk-item {position: relative;z-index: 1;}#sk-container-id-2 div.sk-parallel {display: flex;align-items: stretch;justify-content: center;background-color: white;position: relative;}#sk-container-id-2 div.sk-item::before, #sk-container-id-2 div.sk-parallel-item::before {content: \"\";position: absolute;border-left: 1px solid gray;box-sizing: border-box;top: 0;bottom: 0;left: 50%;z-index: -1;}#sk-container-id-2 div.sk-parallel-item {display: flex;flex-direction: column;z-index: 1;position: relative;background-color: white;}#sk-container-id-2 div.sk-parallel-item:first-child::after {align-self: flex-end;width: 50%;}#sk-container-id-2 div.sk-parallel-item:last-child::after {align-self: flex-start;width: 50%;}#sk-container-id-2 div.sk-parallel-item:only-child::after {width: 0;}#sk-container-id-2 div.sk-dashed-wrapped {border: 1px dashed gray;margin: 0 0.4em 0.5em 0.4em;box-sizing: border-box;padding-bottom: 0.4em;background-color: white;}#sk-container-id-2 div.sk-label label {font-family: monospace;font-weight: bold;display: inline-block;line-height: 1.2em;}#sk-container-id-2 div.sk-label-container {text-align: center;}#sk-container-id-2 div.sk-container {/* jupyter's `normalize.less` sets `[hidden] { display: none; }` but bootstrap.min.css set `[hidden] { display: none !important; }` so we also need the `!important` here to be able to override the default hidden behavior on the sphinx rendered scikit-learn.org. See: https://github.com/scikit-learn/scikit-learn/issues/21755 */display: inline-block !important;position: relative;}#sk-container-id-2 div.sk-text-repr-fallback {display: none;}</style><div id=\"sk-container-id-2\" class=\"sk-top-container\"><div class=\"sk-text-repr-fallback\"><pre>Pipeline(steps=[(&#x27;dictvectorizer&#x27;, DictVectorizer()),\n",
       "                (&#x27;simpleimputer&#x27;, SimpleImputer()),\n",
       "                (&#x27;randomforestregressor&#x27;,\n",
       "                 RandomForestRegressor(random_state=42))])</pre><b>In a Jupyter environment, please rerun this cell to show the HTML representation or trust the notebook. <br />On GitHub, the HTML representation is unable to render, please try loading this page with nbviewer.org.</b></div><div class=\"sk-container\" hidden><div class=\"sk-item sk-dashed-wrapped\"><div class=\"sk-label-container\"><div class=\"sk-label sk-toggleable\"><input class=\"sk-toggleable__control sk-hidden--visually\" id=\"sk-estimator-id-5\" type=\"checkbox\" ><label for=\"sk-estimator-id-5\" class=\"sk-toggleable__label sk-toggleable__label-arrow\">Pipeline</label><div class=\"sk-toggleable__content\"><pre>Pipeline(steps=[(&#x27;dictvectorizer&#x27;, DictVectorizer()),\n",
       "                (&#x27;simpleimputer&#x27;, SimpleImputer()),\n",
       "                (&#x27;randomforestregressor&#x27;,\n",
       "                 RandomForestRegressor(random_state=42))])</pre></div></div></div><div class=\"sk-serial\"><div class=\"sk-item\"><div class=\"sk-estimator sk-toggleable\"><input class=\"sk-toggleable__control sk-hidden--visually\" id=\"sk-estimator-id-6\" type=\"checkbox\" ><label for=\"sk-estimator-id-6\" class=\"sk-toggleable__label sk-toggleable__label-arrow\">DictVectorizer</label><div class=\"sk-toggleable__content\"><pre>DictVectorizer()</pre></div></div></div><div class=\"sk-item\"><div class=\"sk-estimator sk-toggleable\"><input class=\"sk-toggleable__control sk-hidden--visually\" id=\"sk-estimator-id-7\" type=\"checkbox\" ><label for=\"sk-estimator-id-7\" class=\"sk-toggleable__label sk-toggleable__label-arrow\">SimpleImputer</label><div class=\"sk-toggleable__content\"><pre>SimpleImputer()</pre></div></div></div><div class=\"sk-item\"><div class=\"sk-estimator sk-toggleable\"><input class=\"sk-toggleable__control sk-hidden--visually\" id=\"sk-estimator-id-8\" type=\"checkbox\" ><label for=\"sk-estimator-id-8\" class=\"sk-toggleable__label sk-toggleable__label-arrow\">RandomForestRegressor</label><div class=\"sk-toggleable__content\"><pre>RandomForestRegressor(random_state=42)</pre></div></div></div></div></div></div></div>"
      ],
      "text/plain": [
       "Pipeline(steps=[('dictvectorizer', DictVectorizer()),\n",
       "                ('simpleimputer', SimpleImputer()),\n",
       "                ('randomforestregressor',\n",
       "                 RandomForestRegressor(random_state=42))])"
      ]
     },
     "execution_count": 24,
     "metadata": {},
     "output_type": "execute_result"
    }
   ],
   "source": [
    "rgr = make_pipeline(\n",
    "    DictVectorizer(),\n",
    "    SimpleImputer(),\n",
    "    RandomForestRegressor(random_state=42)\n",
    ")\n",
    "rgr"
   ]
  },
  {
   "cell_type": "code",
   "execution_count": 59,
   "metadata": {},
   "outputs": [
    {
     "data": {
      "text/plain": [
       "{'simpleimputer__strategy': ['mean', 'median'],\n",
       " 'randomforestregressor__n_estimators': range(25, 100, 25),\n",
       " 'randomforestregressor__max_depth': range(10, 50, 10)}"
      ]
     },
     "execution_count": 59,
     "metadata": {},
     "output_type": "execute_result"
    }
   ],
   "source": [
    "params = {\n",
    "    \"simpleimputer__strategy\": [\"mean\", \"median\"],\n",
    "    \"randomforestregressor__n_estimators\": range(25, 100, 25),\n",
    "    \"randomforestregressor__max_depth\": range(10, 50, 10)\n",
    "    \n",
    "}\n",
    "params"
   ]
  },
  {
   "cell_type": "code",
   "execution_count": 60,
   "metadata": {},
   "outputs": [
    {
     "data": {
      "text/html": [
       "<style>#sk-container-id-9 {color: black;background-color: white;}#sk-container-id-9 pre{padding: 0;}#sk-container-id-9 div.sk-toggleable {background-color: white;}#sk-container-id-9 label.sk-toggleable__label {cursor: pointer;display: block;width: 100%;margin-bottom: 0;padding: 0.3em;box-sizing: border-box;text-align: center;}#sk-container-id-9 label.sk-toggleable__label-arrow:before {content: \"▸\";float: left;margin-right: 0.25em;color: #696969;}#sk-container-id-9 label.sk-toggleable__label-arrow:hover:before {color: black;}#sk-container-id-9 div.sk-estimator:hover label.sk-toggleable__label-arrow:before {color: black;}#sk-container-id-9 div.sk-toggleable__content {max-height: 0;max-width: 0;overflow: hidden;text-align: left;background-color: #f0f8ff;}#sk-container-id-9 div.sk-toggleable__content pre {margin: 0.2em;color: black;border-radius: 0.25em;background-color: #f0f8ff;}#sk-container-id-9 input.sk-toggleable__control:checked~div.sk-toggleable__content {max-height: 200px;max-width: 100%;overflow: auto;}#sk-container-id-9 input.sk-toggleable__control:checked~label.sk-toggleable__label-arrow:before {content: \"▾\";}#sk-container-id-9 div.sk-estimator input.sk-toggleable__control:checked~label.sk-toggleable__label {background-color: #d4ebff;}#sk-container-id-9 div.sk-label input.sk-toggleable__control:checked~label.sk-toggleable__label {background-color: #d4ebff;}#sk-container-id-9 input.sk-hidden--visually {border: 0;clip: rect(1px 1px 1px 1px);clip: rect(1px, 1px, 1px, 1px);height: 1px;margin: -1px;overflow: hidden;padding: 0;position: absolute;width: 1px;}#sk-container-id-9 div.sk-estimator {font-family: monospace;background-color: #f0f8ff;border: 1px dotted black;border-radius: 0.25em;box-sizing: border-box;margin-bottom: 0.5em;}#sk-container-id-9 div.sk-estimator:hover {background-color: #d4ebff;}#sk-container-id-9 div.sk-parallel-item::after {content: \"\";width: 100%;border-bottom: 1px solid gray;flex-grow: 1;}#sk-container-id-9 div.sk-label:hover label.sk-toggleable__label {background-color: #d4ebff;}#sk-container-id-9 div.sk-serial::before {content: \"\";position: absolute;border-left: 1px solid gray;box-sizing: border-box;top: 0;bottom: 0;left: 50%;z-index: 0;}#sk-container-id-9 div.sk-serial {display: flex;flex-direction: column;align-items: center;background-color: white;padding-right: 0.2em;padding-left: 0.2em;position: relative;}#sk-container-id-9 div.sk-item {position: relative;z-index: 1;}#sk-container-id-9 div.sk-parallel {display: flex;align-items: stretch;justify-content: center;background-color: white;position: relative;}#sk-container-id-9 div.sk-item::before, #sk-container-id-9 div.sk-parallel-item::before {content: \"\";position: absolute;border-left: 1px solid gray;box-sizing: border-box;top: 0;bottom: 0;left: 50%;z-index: -1;}#sk-container-id-9 div.sk-parallel-item {display: flex;flex-direction: column;z-index: 1;position: relative;background-color: white;}#sk-container-id-9 div.sk-parallel-item:first-child::after {align-self: flex-end;width: 50%;}#sk-container-id-9 div.sk-parallel-item:last-child::after {align-self: flex-start;width: 50%;}#sk-container-id-9 div.sk-parallel-item:only-child::after {width: 0;}#sk-container-id-9 div.sk-dashed-wrapped {border: 1px dashed gray;margin: 0 0.4em 0.5em 0.4em;box-sizing: border-box;padding-bottom: 0.4em;background-color: white;}#sk-container-id-9 div.sk-label label {font-family: monospace;font-weight: bold;display: inline-block;line-height: 1.2em;}#sk-container-id-9 div.sk-label-container {text-align: center;}#sk-container-id-9 div.sk-container {/* jupyter's `normalize.less` sets `[hidden] { display: none; }` but bootstrap.min.css set `[hidden] { display: none !important; }` so we also need the `!important` here to be able to override the default hidden behavior on the sphinx rendered scikit-learn.org. See: https://github.com/scikit-learn/scikit-learn/issues/21755 */display: inline-block !important;position: relative;}#sk-container-id-9 div.sk-text-repr-fallback {display: none;}</style><div id=\"sk-container-id-9\" class=\"sk-top-container\"><div class=\"sk-text-repr-fallback\"><pre>GridSearchCV(cv=5,\n",
       "             estimator=Pipeline(steps=[(&#x27;dictvectorizer&#x27;, DictVectorizer()),\n",
       "                                       (&#x27;simpleimputer&#x27;, SimpleImputer()),\n",
       "                                       (&#x27;randomforestregressor&#x27;,\n",
       "                                        RandomForestRegressor(random_state=42))]),\n",
       "             n_jobs=-1,\n",
       "             param_grid={&#x27;randomforestregressor__max_depth&#x27;: range(10, 50, 10),\n",
       "                         &#x27;randomforestregressor__n_estimators&#x27;: range(25, 100, 25),\n",
       "                         &#x27;simpleimputer__strategy&#x27;: [&#x27;mean&#x27;, &#x27;median&#x27;]},\n",
       "             verbose=1)</pre><b>In a Jupyter environment, please rerun this cell to show the HTML representation or trust the notebook. <br />On GitHub, the HTML representation is unable to render, please try loading this page with nbviewer.org.</b></div><div class=\"sk-container\" hidden><div class=\"sk-item sk-dashed-wrapped\"><div class=\"sk-label-container\"><div class=\"sk-label sk-toggleable\"><input class=\"sk-toggleable__control sk-hidden--visually\" id=\"sk-estimator-id-27\" type=\"checkbox\" ><label for=\"sk-estimator-id-27\" class=\"sk-toggleable__label sk-toggleable__label-arrow\">GridSearchCV</label><div class=\"sk-toggleable__content\"><pre>GridSearchCV(cv=5,\n",
       "             estimator=Pipeline(steps=[(&#x27;dictvectorizer&#x27;, DictVectorizer()),\n",
       "                                       (&#x27;simpleimputer&#x27;, SimpleImputer()),\n",
       "                                       (&#x27;randomforestregressor&#x27;,\n",
       "                                        RandomForestRegressor(random_state=42))]),\n",
       "             n_jobs=-1,\n",
       "             param_grid={&#x27;randomforestregressor__max_depth&#x27;: range(10, 50, 10),\n",
       "                         &#x27;randomforestregressor__n_estimators&#x27;: range(25, 100, 25),\n",
       "                         &#x27;simpleimputer__strategy&#x27;: [&#x27;mean&#x27;, &#x27;median&#x27;]},\n",
       "             verbose=1)</pre></div></div></div><div class=\"sk-parallel\"><div class=\"sk-parallel-item\"><div class=\"sk-item\"><div class=\"sk-label-container\"><div class=\"sk-label sk-toggleable\"><input class=\"sk-toggleable__control sk-hidden--visually\" id=\"sk-estimator-id-28\" type=\"checkbox\" ><label for=\"sk-estimator-id-28\" class=\"sk-toggleable__label sk-toggleable__label-arrow\">estimator: Pipeline</label><div class=\"sk-toggleable__content\"><pre>Pipeline(steps=[(&#x27;dictvectorizer&#x27;, DictVectorizer()),\n",
       "                (&#x27;simpleimputer&#x27;, SimpleImputer()),\n",
       "                (&#x27;randomforestregressor&#x27;,\n",
       "                 RandomForestRegressor(random_state=42))])</pre></div></div></div><div class=\"sk-serial\"><div class=\"sk-item\"><div class=\"sk-serial\"><div class=\"sk-item\"><div class=\"sk-estimator sk-toggleable\"><input class=\"sk-toggleable__control sk-hidden--visually\" id=\"sk-estimator-id-29\" type=\"checkbox\" ><label for=\"sk-estimator-id-29\" class=\"sk-toggleable__label sk-toggleable__label-arrow\">DictVectorizer</label><div class=\"sk-toggleable__content\"><pre>DictVectorizer()</pre></div></div></div><div class=\"sk-item\"><div class=\"sk-estimator sk-toggleable\"><input class=\"sk-toggleable__control sk-hidden--visually\" id=\"sk-estimator-id-30\" type=\"checkbox\" ><label for=\"sk-estimator-id-30\" class=\"sk-toggleable__label sk-toggleable__label-arrow\">SimpleImputer</label><div class=\"sk-toggleable__content\"><pre>SimpleImputer()</pre></div></div></div><div class=\"sk-item\"><div class=\"sk-estimator sk-toggleable\"><input class=\"sk-toggleable__control sk-hidden--visually\" id=\"sk-estimator-id-31\" type=\"checkbox\" ><label for=\"sk-estimator-id-31\" class=\"sk-toggleable__label sk-toggleable__label-arrow\">RandomForestRegressor</label><div class=\"sk-toggleable__content\"><pre>RandomForestRegressor(random_state=42)</pre></div></div></div></div></div></div></div></div></div></div></div></div>"
      ],
      "text/plain": [
       "GridSearchCV(cv=5,\n",
       "             estimator=Pipeline(steps=[('dictvectorizer', DictVectorizer()),\n",
       "                                       ('simpleimputer', SimpleImputer()),\n",
       "                                       ('randomforestregressor',\n",
       "                                        RandomForestRegressor(random_state=42))]),\n",
       "             n_jobs=-1,\n",
       "             param_grid={'randomforestregressor__max_depth': range(10, 50, 10),\n",
       "                         'randomforestregressor__n_estimators': range(25, 100, 25),\n",
       "                         'simpleimputer__strategy': ['mean', 'median']},\n",
       "             verbose=1)"
      ]
     },
     "execution_count": 60,
     "metadata": {},
     "output_type": "execute_result"
    }
   ],
   "source": [
    "model = GridSearchCV(\n",
    "    rgr,\n",
    "    param_grid=params,\n",
    "    cv=5,\n",
    "    n_jobs=-1,\n",
    "    verbose=1\n",
    ")\n",
    "model"
   ]
  },
  {
   "cell_type": "code",
   "execution_count": 61,
   "metadata": {},
   "outputs": [
    {
     "name": "stdout",
     "output_type": "stream",
     "text": [
      "Fitting 5 folds for each of 24 candidates, totalling 120 fits\n"
     ]
    },
    {
     "data": {
      "text/html": [
       "<style>#sk-container-id-10 {color: black;background-color: white;}#sk-container-id-10 pre{padding: 0;}#sk-container-id-10 div.sk-toggleable {background-color: white;}#sk-container-id-10 label.sk-toggleable__label {cursor: pointer;display: block;width: 100%;margin-bottom: 0;padding: 0.3em;box-sizing: border-box;text-align: center;}#sk-container-id-10 label.sk-toggleable__label-arrow:before {content: \"▸\";float: left;margin-right: 0.25em;color: #696969;}#sk-container-id-10 label.sk-toggleable__label-arrow:hover:before {color: black;}#sk-container-id-10 div.sk-estimator:hover label.sk-toggleable__label-arrow:before {color: black;}#sk-container-id-10 div.sk-toggleable__content {max-height: 0;max-width: 0;overflow: hidden;text-align: left;background-color: #f0f8ff;}#sk-container-id-10 div.sk-toggleable__content pre {margin: 0.2em;color: black;border-radius: 0.25em;background-color: #f0f8ff;}#sk-container-id-10 input.sk-toggleable__control:checked~div.sk-toggleable__content {max-height: 200px;max-width: 100%;overflow: auto;}#sk-container-id-10 input.sk-toggleable__control:checked~label.sk-toggleable__label-arrow:before {content: \"▾\";}#sk-container-id-10 div.sk-estimator input.sk-toggleable__control:checked~label.sk-toggleable__label {background-color: #d4ebff;}#sk-container-id-10 div.sk-label input.sk-toggleable__control:checked~label.sk-toggleable__label {background-color: #d4ebff;}#sk-container-id-10 input.sk-hidden--visually {border: 0;clip: rect(1px 1px 1px 1px);clip: rect(1px, 1px, 1px, 1px);height: 1px;margin: -1px;overflow: hidden;padding: 0;position: absolute;width: 1px;}#sk-container-id-10 div.sk-estimator {font-family: monospace;background-color: #f0f8ff;border: 1px dotted black;border-radius: 0.25em;box-sizing: border-box;margin-bottom: 0.5em;}#sk-container-id-10 div.sk-estimator:hover {background-color: #d4ebff;}#sk-container-id-10 div.sk-parallel-item::after {content: \"\";width: 100%;border-bottom: 1px solid gray;flex-grow: 1;}#sk-container-id-10 div.sk-label:hover label.sk-toggleable__label {background-color: #d4ebff;}#sk-container-id-10 div.sk-serial::before {content: \"\";position: absolute;border-left: 1px solid gray;box-sizing: border-box;top: 0;bottom: 0;left: 50%;z-index: 0;}#sk-container-id-10 div.sk-serial {display: flex;flex-direction: column;align-items: center;background-color: white;padding-right: 0.2em;padding-left: 0.2em;position: relative;}#sk-container-id-10 div.sk-item {position: relative;z-index: 1;}#sk-container-id-10 div.sk-parallel {display: flex;align-items: stretch;justify-content: center;background-color: white;position: relative;}#sk-container-id-10 div.sk-item::before, #sk-container-id-10 div.sk-parallel-item::before {content: \"\";position: absolute;border-left: 1px solid gray;box-sizing: border-box;top: 0;bottom: 0;left: 50%;z-index: -1;}#sk-container-id-10 div.sk-parallel-item {display: flex;flex-direction: column;z-index: 1;position: relative;background-color: white;}#sk-container-id-10 div.sk-parallel-item:first-child::after {align-self: flex-end;width: 50%;}#sk-container-id-10 div.sk-parallel-item:last-child::after {align-self: flex-start;width: 50%;}#sk-container-id-10 div.sk-parallel-item:only-child::after {width: 0;}#sk-container-id-10 div.sk-dashed-wrapped {border: 1px dashed gray;margin: 0 0.4em 0.5em 0.4em;box-sizing: border-box;padding-bottom: 0.4em;background-color: white;}#sk-container-id-10 div.sk-label label {font-family: monospace;font-weight: bold;display: inline-block;line-height: 1.2em;}#sk-container-id-10 div.sk-label-container {text-align: center;}#sk-container-id-10 div.sk-container {/* jupyter's `normalize.less` sets `[hidden] { display: none; }` but bootstrap.min.css set `[hidden] { display: none !important; }` so we also need the `!important` here to be able to override the default hidden behavior on the sphinx rendered scikit-learn.org. See: https://github.com/scikit-learn/scikit-learn/issues/21755 */display: inline-block !important;position: relative;}#sk-container-id-10 div.sk-text-repr-fallback {display: none;}</style><div id=\"sk-container-id-10\" class=\"sk-top-container\"><div class=\"sk-text-repr-fallback\"><pre>GridSearchCV(cv=5,\n",
       "             estimator=Pipeline(steps=[(&#x27;dictvectorizer&#x27;, DictVectorizer()),\n",
       "                                       (&#x27;simpleimputer&#x27;, SimpleImputer()),\n",
       "                                       (&#x27;randomforestregressor&#x27;,\n",
       "                                        RandomForestRegressor(random_state=42))]),\n",
       "             n_jobs=-1,\n",
       "             param_grid={&#x27;randomforestregressor__max_depth&#x27;: range(10, 50, 10),\n",
       "                         &#x27;randomforestregressor__n_estimators&#x27;: range(25, 100, 25),\n",
       "                         &#x27;simpleimputer__strategy&#x27;: [&#x27;mean&#x27;, &#x27;median&#x27;]},\n",
       "             verbose=1)</pre><b>In a Jupyter environment, please rerun this cell to show the HTML representation or trust the notebook. <br />On GitHub, the HTML representation is unable to render, please try loading this page with nbviewer.org.</b></div><div class=\"sk-container\" hidden><div class=\"sk-item sk-dashed-wrapped\"><div class=\"sk-label-container\"><div class=\"sk-label sk-toggleable\"><input class=\"sk-toggleable__control sk-hidden--visually\" id=\"sk-estimator-id-32\" type=\"checkbox\" ><label for=\"sk-estimator-id-32\" class=\"sk-toggleable__label sk-toggleable__label-arrow\">GridSearchCV</label><div class=\"sk-toggleable__content\"><pre>GridSearchCV(cv=5,\n",
       "             estimator=Pipeline(steps=[(&#x27;dictvectorizer&#x27;, DictVectorizer()),\n",
       "                                       (&#x27;simpleimputer&#x27;, SimpleImputer()),\n",
       "                                       (&#x27;randomforestregressor&#x27;,\n",
       "                                        RandomForestRegressor(random_state=42))]),\n",
       "             n_jobs=-1,\n",
       "             param_grid={&#x27;randomforestregressor__max_depth&#x27;: range(10, 50, 10),\n",
       "                         &#x27;randomforestregressor__n_estimators&#x27;: range(25, 100, 25),\n",
       "                         &#x27;simpleimputer__strategy&#x27;: [&#x27;mean&#x27;, &#x27;median&#x27;]},\n",
       "             verbose=1)</pre></div></div></div><div class=\"sk-parallel\"><div class=\"sk-parallel-item\"><div class=\"sk-item\"><div class=\"sk-label-container\"><div class=\"sk-label sk-toggleable\"><input class=\"sk-toggleable__control sk-hidden--visually\" id=\"sk-estimator-id-33\" type=\"checkbox\" ><label for=\"sk-estimator-id-33\" class=\"sk-toggleable__label sk-toggleable__label-arrow\">estimator: Pipeline</label><div class=\"sk-toggleable__content\"><pre>Pipeline(steps=[(&#x27;dictvectorizer&#x27;, DictVectorizer()),\n",
       "                (&#x27;simpleimputer&#x27;, SimpleImputer()),\n",
       "                (&#x27;randomforestregressor&#x27;,\n",
       "                 RandomForestRegressor(random_state=42))])</pre></div></div></div><div class=\"sk-serial\"><div class=\"sk-item\"><div class=\"sk-serial\"><div class=\"sk-item\"><div class=\"sk-estimator sk-toggleable\"><input class=\"sk-toggleable__control sk-hidden--visually\" id=\"sk-estimator-id-34\" type=\"checkbox\" ><label for=\"sk-estimator-id-34\" class=\"sk-toggleable__label sk-toggleable__label-arrow\">DictVectorizer</label><div class=\"sk-toggleable__content\"><pre>DictVectorizer()</pre></div></div></div><div class=\"sk-item\"><div class=\"sk-estimator sk-toggleable\"><input class=\"sk-toggleable__control sk-hidden--visually\" id=\"sk-estimator-id-35\" type=\"checkbox\" ><label for=\"sk-estimator-id-35\" class=\"sk-toggleable__label sk-toggleable__label-arrow\">SimpleImputer</label><div class=\"sk-toggleable__content\"><pre>SimpleImputer()</pre></div></div></div><div class=\"sk-item\"><div class=\"sk-estimator sk-toggleable\"><input class=\"sk-toggleable__control sk-hidden--visually\" id=\"sk-estimator-id-36\" type=\"checkbox\" ><label for=\"sk-estimator-id-36\" class=\"sk-toggleable__label sk-toggleable__label-arrow\">RandomForestRegressor</label><div class=\"sk-toggleable__content\"><pre>RandomForestRegressor(random_state=42)</pre></div></div></div></div></div></div></div></div></div></div></div></div>"
      ],
      "text/plain": [
       "GridSearchCV(cv=5,\n",
       "             estimator=Pipeline(steps=[('dictvectorizer', DictVectorizer()),\n",
       "                                       ('simpleimputer', SimpleImputer()),\n",
       "                                       ('randomforestregressor',\n",
       "                                        RandomForestRegressor(random_state=42))]),\n",
       "             n_jobs=-1,\n",
       "             param_grid={'randomforestregressor__max_depth': range(10, 50, 10),\n",
       "                         'randomforestregressor__n_estimators': range(25, 100, 25),\n",
       "                         'simpleimputer__strategy': ['mean', 'median']},\n",
       "             verbose=1)"
      ]
     },
     "execution_count": 61,
     "metadata": {},
     "output_type": "execute_result"
    }
   ],
   "source": [
    "# Train model\n",
    "model.fit(X_train.to_dict(orient=\"records\"), y_train)"
   ]
  },
  {
   "cell_type": "code",
   "execution_count": 62,
   "metadata": {},
   "outputs": [
    {
     "data": {
      "text/plain": [
       "{'randomforestregressor__max_depth': 40,\n",
       " 'randomforestregressor__n_estimators': 75,\n",
       " 'simpleimputer__strategy': 'median'}"
      ]
     },
     "execution_count": 62,
     "metadata": {},
     "output_type": "execute_result"
    }
   ],
   "source": [
    "model.best_params_"
   ]
  },
  {
   "cell_type": "code",
   "execution_count": 63,
   "metadata": {},
   "outputs": [
    {
     "data": {
      "text/plain": [
       "0.453780772309862"
      ]
     },
     "execution_count": 63,
     "metadata": {},
     "output_type": "execute_result"
    }
   ],
   "source": [
    "model.best_score_"
   ]
  },
  {
   "cell_type": "code",
   "execution_count": 64,
   "metadata": {},
   "outputs": [
    {
     "name": "stdout",
     "output_type": "stream",
     "text": [
      "Training MAE: 5.3\n",
      "Training RMSE: 8.0\n"
     ]
    }
   ],
   "source": [
    "y_pred_training = model.predict(X_train.to_dict(orient=\"records\"))\n",
    "mae_training = mean_absolute_error(y_train, y_pred_training)\n",
    "rmse_training = (mean_squared_error(y_train, y_pred_training)) ** 0.5\n",
    "\n",
    "print(\"Training MAE:\", round(mae_training, 2))\n",
    "print(\"Training RMSE:\", round(rmse_training, 2))"
   ]
  },
  {
   "cell_type": "code",
   "execution_count": 66,
   "metadata": {},
   "outputs": [
    {
     "name": "stdout",
     "output_type": "stream",
     "text": [
      "Test MAE: 5.57\n",
      "Test RMSE: 5.57\n"
     ]
    }
   ],
   "source": [
    "y_pred_test = model.predict(X_test.to_dict(orient=\"records\"))\n",
    "mae_test = mean_absolute_error(y_test, y_pred_test)\n",
    "rmse_test = (mean_squared_error(y_test, y_pred_test)) ** 0.5\n",
    "\n",
    "print(\"Test MAE:\", round(mae_test, 2))\n",
    "print(\"Test RMSE:\", round(mae_test, 2))"
   ]
  },
  {
   "cell_type": "code",
   "execution_count": null,
   "metadata": {},
   "outputs": [],
   "source": []
  },
  {
   "cell_type": "markdown",
   "metadata": {},
   "source": [
    "### GradientBoostingRegressor"
   ]
  },
  {
   "cell_type": "code",
   "execution_count": 25,
   "metadata": {},
   "outputs": [
    {
     "data": {
      "text/html": [
       "<style>#sk-container-id-3 {color: black;background-color: white;}#sk-container-id-3 pre{padding: 0;}#sk-container-id-3 div.sk-toggleable {background-color: white;}#sk-container-id-3 label.sk-toggleable__label {cursor: pointer;display: block;width: 100%;margin-bottom: 0;padding: 0.3em;box-sizing: border-box;text-align: center;}#sk-container-id-3 label.sk-toggleable__label-arrow:before {content: \"▸\";float: left;margin-right: 0.25em;color: #696969;}#sk-container-id-3 label.sk-toggleable__label-arrow:hover:before {color: black;}#sk-container-id-3 div.sk-estimator:hover label.sk-toggleable__label-arrow:before {color: black;}#sk-container-id-3 div.sk-toggleable__content {max-height: 0;max-width: 0;overflow: hidden;text-align: left;background-color: #f0f8ff;}#sk-container-id-3 div.sk-toggleable__content pre {margin: 0.2em;color: black;border-radius: 0.25em;background-color: #f0f8ff;}#sk-container-id-3 input.sk-toggleable__control:checked~div.sk-toggleable__content {max-height: 200px;max-width: 100%;overflow: auto;}#sk-container-id-3 input.sk-toggleable__control:checked~label.sk-toggleable__label-arrow:before {content: \"▾\";}#sk-container-id-3 div.sk-estimator input.sk-toggleable__control:checked~label.sk-toggleable__label {background-color: #d4ebff;}#sk-container-id-3 div.sk-label input.sk-toggleable__control:checked~label.sk-toggleable__label {background-color: #d4ebff;}#sk-container-id-3 input.sk-hidden--visually {border: 0;clip: rect(1px 1px 1px 1px);clip: rect(1px, 1px, 1px, 1px);height: 1px;margin: -1px;overflow: hidden;padding: 0;position: absolute;width: 1px;}#sk-container-id-3 div.sk-estimator {font-family: monospace;background-color: #f0f8ff;border: 1px dotted black;border-radius: 0.25em;box-sizing: border-box;margin-bottom: 0.5em;}#sk-container-id-3 div.sk-estimator:hover {background-color: #d4ebff;}#sk-container-id-3 div.sk-parallel-item::after {content: \"\";width: 100%;border-bottom: 1px solid gray;flex-grow: 1;}#sk-container-id-3 div.sk-label:hover label.sk-toggleable__label {background-color: #d4ebff;}#sk-container-id-3 div.sk-serial::before {content: \"\";position: absolute;border-left: 1px solid gray;box-sizing: border-box;top: 0;bottom: 0;left: 50%;z-index: 0;}#sk-container-id-3 div.sk-serial {display: flex;flex-direction: column;align-items: center;background-color: white;padding-right: 0.2em;padding-left: 0.2em;position: relative;}#sk-container-id-3 div.sk-item {position: relative;z-index: 1;}#sk-container-id-3 div.sk-parallel {display: flex;align-items: stretch;justify-content: center;background-color: white;position: relative;}#sk-container-id-3 div.sk-item::before, #sk-container-id-3 div.sk-parallel-item::before {content: \"\";position: absolute;border-left: 1px solid gray;box-sizing: border-box;top: 0;bottom: 0;left: 50%;z-index: -1;}#sk-container-id-3 div.sk-parallel-item {display: flex;flex-direction: column;z-index: 1;position: relative;background-color: white;}#sk-container-id-3 div.sk-parallel-item:first-child::after {align-self: flex-end;width: 50%;}#sk-container-id-3 div.sk-parallel-item:last-child::after {align-self: flex-start;width: 50%;}#sk-container-id-3 div.sk-parallel-item:only-child::after {width: 0;}#sk-container-id-3 div.sk-dashed-wrapped {border: 1px dashed gray;margin: 0 0.4em 0.5em 0.4em;box-sizing: border-box;padding-bottom: 0.4em;background-color: white;}#sk-container-id-3 div.sk-label label {font-family: monospace;font-weight: bold;display: inline-block;line-height: 1.2em;}#sk-container-id-3 div.sk-label-container {text-align: center;}#sk-container-id-3 div.sk-container {/* jupyter's `normalize.less` sets `[hidden] { display: none; }` but bootstrap.min.css set `[hidden] { display: none !important; }` so we also need the `!important` here to be able to override the default hidden behavior on the sphinx rendered scikit-learn.org. See: https://github.com/scikit-learn/scikit-learn/issues/21755 */display: inline-block !important;position: relative;}#sk-container-id-3 div.sk-text-repr-fallback {display: none;}</style><div id=\"sk-container-id-3\" class=\"sk-top-container\"><div class=\"sk-text-repr-fallback\"><pre>Pipeline(steps=[(&#x27;dictvectorizer&#x27;, DictVectorizer()),\n",
       "                (&#x27;simpleimputer&#x27;, SimpleImputer()),\n",
       "                (&#x27;gradientboostingregressor&#x27;,\n",
       "                 GradientBoostingRegressor(random_state=42))])</pre><b>In a Jupyter environment, please rerun this cell to show the HTML representation or trust the notebook. <br />On GitHub, the HTML representation is unable to render, please try loading this page with nbviewer.org.</b></div><div class=\"sk-container\" hidden><div class=\"sk-item sk-dashed-wrapped\"><div class=\"sk-label-container\"><div class=\"sk-label sk-toggleable\"><input class=\"sk-toggleable__control sk-hidden--visually\" id=\"sk-estimator-id-9\" type=\"checkbox\" ><label for=\"sk-estimator-id-9\" class=\"sk-toggleable__label sk-toggleable__label-arrow\">Pipeline</label><div class=\"sk-toggleable__content\"><pre>Pipeline(steps=[(&#x27;dictvectorizer&#x27;, DictVectorizer()),\n",
       "                (&#x27;simpleimputer&#x27;, SimpleImputer()),\n",
       "                (&#x27;gradientboostingregressor&#x27;,\n",
       "                 GradientBoostingRegressor(random_state=42))])</pre></div></div></div><div class=\"sk-serial\"><div class=\"sk-item\"><div class=\"sk-estimator sk-toggleable\"><input class=\"sk-toggleable__control sk-hidden--visually\" id=\"sk-estimator-id-10\" type=\"checkbox\" ><label for=\"sk-estimator-id-10\" class=\"sk-toggleable__label sk-toggleable__label-arrow\">DictVectorizer</label><div class=\"sk-toggleable__content\"><pre>DictVectorizer()</pre></div></div></div><div class=\"sk-item\"><div class=\"sk-estimator sk-toggleable\"><input class=\"sk-toggleable__control sk-hidden--visually\" id=\"sk-estimator-id-11\" type=\"checkbox\" ><label for=\"sk-estimator-id-11\" class=\"sk-toggleable__label sk-toggleable__label-arrow\">SimpleImputer</label><div class=\"sk-toggleable__content\"><pre>SimpleImputer()</pre></div></div></div><div class=\"sk-item\"><div class=\"sk-estimator sk-toggleable\"><input class=\"sk-toggleable__control sk-hidden--visually\" id=\"sk-estimator-id-12\" type=\"checkbox\" ><label for=\"sk-estimator-id-12\" class=\"sk-toggleable__label sk-toggleable__label-arrow\">GradientBoostingRegressor</label><div class=\"sk-toggleable__content\"><pre>GradientBoostingRegressor(random_state=42)</pre></div></div></div></div></div></div></div>"
      ],
      "text/plain": [
       "Pipeline(steps=[('dictvectorizer', DictVectorizer()),\n",
       "                ('simpleimputer', SimpleImputer()),\n",
       "                ('gradientboostingregressor',\n",
       "                 GradientBoostingRegressor(random_state=42))])"
      ]
     },
     "execution_count": 25,
     "metadata": {},
     "output_type": "execute_result"
    }
   ],
   "source": [
    "gbr = make_pipeline(\n",
    "    DictVectorizer(),\n",
    "    SimpleImputer(),\n",
    "    GradientBoostingRegressor(random_state=42)\n",
    ")\n",
    "gbr"
   ]
  },
  {
   "cell_type": "code",
   "execution_count": 74,
   "metadata": {},
   "outputs": [
    {
     "data": {
      "text/plain": [
       "{'simpleimputer__strategy': ['mean', 'median'],\n",
       " 'gradientboostingregressor__n_estimators': range(25, 100, 25),\n",
       " 'gradientboostingregressor__max_depth': range(10, 50, 10)}"
      ]
     },
     "execution_count": 74,
     "metadata": {},
     "output_type": "execute_result"
    }
   ],
   "source": [
    "params = {\n",
    "    \"simpleimputer__strategy\": [\"mean\", \"median\"],\n",
    "    \"gradientboostingregressor__n_estimators\": range(25, 100, 25),\n",
    "    \"gradientboostingregressor__max_depth\": range(10, 50, 10),\n",
    "}\n",
    "params"
   ]
  },
  {
   "cell_type": "code",
   "execution_count": 75,
   "metadata": {},
   "outputs": [
    {
     "data": {
      "text/html": [
       "<style>#sk-container-id-13 {color: black;background-color: white;}#sk-container-id-13 pre{padding: 0;}#sk-container-id-13 div.sk-toggleable {background-color: white;}#sk-container-id-13 label.sk-toggleable__label {cursor: pointer;display: block;width: 100%;margin-bottom: 0;padding: 0.3em;box-sizing: border-box;text-align: center;}#sk-container-id-13 label.sk-toggleable__label-arrow:before {content: \"▸\";float: left;margin-right: 0.25em;color: #696969;}#sk-container-id-13 label.sk-toggleable__label-arrow:hover:before {color: black;}#sk-container-id-13 div.sk-estimator:hover label.sk-toggleable__label-arrow:before {color: black;}#sk-container-id-13 div.sk-toggleable__content {max-height: 0;max-width: 0;overflow: hidden;text-align: left;background-color: #f0f8ff;}#sk-container-id-13 div.sk-toggleable__content pre {margin: 0.2em;color: black;border-radius: 0.25em;background-color: #f0f8ff;}#sk-container-id-13 input.sk-toggleable__control:checked~div.sk-toggleable__content {max-height: 200px;max-width: 100%;overflow: auto;}#sk-container-id-13 input.sk-toggleable__control:checked~label.sk-toggleable__label-arrow:before {content: \"▾\";}#sk-container-id-13 div.sk-estimator input.sk-toggleable__control:checked~label.sk-toggleable__label {background-color: #d4ebff;}#sk-container-id-13 div.sk-label input.sk-toggleable__control:checked~label.sk-toggleable__label {background-color: #d4ebff;}#sk-container-id-13 input.sk-hidden--visually {border: 0;clip: rect(1px 1px 1px 1px);clip: rect(1px, 1px, 1px, 1px);height: 1px;margin: -1px;overflow: hidden;padding: 0;position: absolute;width: 1px;}#sk-container-id-13 div.sk-estimator {font-family: monospace;background-color: #f0f8ff;border: 1px dotted black;border-radius: 0.25em;box-sizing: border-box;margin-bottom: 0.5em;}#sk-container-id-13 div.sk-estimator:hover {background-color: #d4ebff;}#sk-container-id-13 div.sk-parallel-item::after {content: \"\";width: 100%;border-bottom: 1px solid gray;flex-grow: 1;}#sk-container-id-13 div.sk-label:hover label.sk-toggleable__label {background-color: #d4ebff;}#sk-container-id-13 div.sk-serial::before {content: \"\";position: absolute;border-left: 1px solid gray;box-sizing: border-box;top: 0;bottom: 0;left: 50%;z-index: 0;}#sk-container-id-13 div.sk-serial {display: flex;flex-direction: column;align-items: center;background-color: white;padding-right: 0.2em;padding-left: 0.2em;position: relative;}#sk-container-id-13 div.sk-item {position: relative;z-index: 1;}#sk-container-id-13 div.sk-parallel {display: flex;align-items: stretch;justify-content: center;background-color: white;position: relative;}#sk-container-id-13 div.sk-item::before, #sk-container-id-13 div.sk-parallel-item::before {content: \"\";position: absolute;border-left: 1px solid gray;box-sizing: border-box;top: 0;bottom: 0;left: 50%;z-index: -1;}#sk-container-id-13 div.sk-parallel-item {display: flex;flex-direction: column;z-index: 1;position: relative;background-color: white;}#sk-container-id-13 div.sk-parallel-item:first-child::after {align-self: flex-end;width: 50%;}#sk-container-id-13 div.sk-parallel-item:last-child::after {align-self: flex-start;width: 50%;}#sk-container-id-13 div.sk-parallel-item:only-child::after {width: 0;}#sk-container-id-13 div.sk-dashed-wrapped {border: 1px dashed gray;margin: 0 0.4em 0.5em 0.4em;box-sizing: border-box;padding-bottom: 0.4em;background-color: white;}#sk-container-id-13 div.sk-label label {font-family: monospace;font-weight: bold;display: inline-block;line-height: 1.2em;}#sk-container-id-13 div.sk-label-container {text-align: center;}#sk-container-id-13 div.sk-container {/* jupyter's `normalize.less` sets `[hidden] { display: none; }` but bootstrap.min.css set `[hidden] { display: none !important; }` so we also need the `!important` here to be able to override the default hidden behavior on the sphinx rendered scikit-learn.org. See: https://github.com/scikit-learn/scikit-learn/issues/21755 */display: inline-block !important;position: relative;}#sk-container-id-13 div.sk-text-repr-fallback {display: none;}</style><div id=\"sk-container-id-13\" class=\"sk-top-container\"><div class=\"sk-text-repr-fallback\"><pre>GridSearchCV(cv=5,\n",
       "             estimator=Pipeline(steps=[(&#x27;dictvectorizer&#x27;, DictVectorizer()),\n",
       "                                       (&#x27;simpleimputer&#x27;, SimpleImputer()),\n",
       "                                       (&#x27;gradientboostingregressor&#x27;,\n",
       "                                        GradientBoostingRegressor(random_state=42))]),\n",
       "             n_jobs=-1,\n",
       "             param_grid={&#x27;gradientboostingregressor__max_depth&#x27;: range(10, 50, 10),\n",
       "                         &#x27;gradientboostingregressor__n_estimators&#x27;: range(25, 100, 25),\n",
       "                         &#x27;simpleimputer__strategy&#x27;: [&#x27;mean&#x27;, &#x27;median&#x27;]},\n",
       "             verbose=1)</pre><b>In a Jupyter environment, please rerun this cell to show the HTML representation or trust the notebook. <br />On GitHub, the HTML representation is unable to render, please try loading this page with nbviewer.org.</b></div><div class=\"sk-container\" hidden><div class=\"sk-item sk-dashed-wrapped\"><div class=\"sk-label-container\"><div class=\"sk-label sk-toggleable\"><input class=\"sk-toggleable__control sk-hidden--visually\" id=\"sk-estimator-id-46\" type=\"checkbox\" ><label for=\"sk-estimator-id-46\" class=\"sk-toggleable__label sk-toggleable__label-arrow\">GridSearchCV</label><div class=\"sk-toggleable__content\"><pre>GridSearchCV(cv=5,\n",
       "             estimator=Pipeline(steps=[(&#x27;dictvectorizer&#x27;, DictVectorizer()),\n",
       "                                       (&#x27;simpleimputer&#x27;, SimpleImputer()),\n",
       "                                       (&#x27;gradientboostingregressor&#x27;,\n",
       "                                        GradientBoostingRegressor(random_state=42))]),\n",
       "             n_jobs=-1,\n",
       "             param_grid={&#x27;gradientboostingregressor__max_depth&#x27;: range(10, 50, 10),\n",
       "                         &#x27;gradientboostingregressor__n_estimators&#x27;: range(25, 100, 25),\n",
       "                         &#x27;simpleimputer__strategy&#x27;: [&#x27;mean&#x27;, &#x27;median&#x27;]},\n",
       "             verbose=1)</pre></div></div></div><div class=\"sk-parallel\"><div class=\"sk-parallel-item\"><div class=\"sk-item\"><div class=\"sk-label-container\"><div class=\"sk-label sk-toggleable\"><input class=\"sk-toggleable__control sk-hidden--visually\" id=\"sk-estimator-id-47\" type=\"checkbox\" ><label for=\"sk-estimator-id-47\" class=\"sk-toggleable__label sk-toggleable__label-arrow\">estimator: Pipeline</label><div class=\"sk-toggleable__content\"><pre>Pipeline(steps=[(&#x27;dictvectorizer&#x27;, DictVectorizer()),\n",
       "                (&#x27;simpleimputer&#x27;, SimpleImputer()),\n",
       "                (&#x27;gradientboostingregressor&#x27;,\n",
       "                 GradientBoostingRegressor(random_state=42))])</pre></div></div></div><div class=\"sk-serial\"><div class=\"sk-item\"><div class=\"sk-serial\"><div class=\"sk-item\"><div class=\"sk-estimator sk-toggleable\"><input class=\"sk-toggleable__control sk-hidden--visually\" id=\"sk-estimator-id-48\" type=\"checkbox\" ><label for=\"sk-estimator-id-48\" class=\"sk-toggleable__label sk-toggleable__label-arrow\">DictVectorizer</label><div class=\"sk-toggleable__content\"><pre>DictVectorizer()</pre></div></div></div><div class=\"sk-item\"><div class=\"sk-estimator sk-toggleable\"><input class=\"sk-toggleable__control sk-hidden--visually\" id=\"sk-estimator-id-49\" type=\"checkbox\" ><label for=\"sk-estimator-id-49\" class=\"sk-toggleable__label sk-toggleable__label-arrow\">SimpleImputer</label><div class=\"sk-toggleable__content\"><pre>SimpleImputer()</pre></div></div></div><div class=\"sk-item\"><div class=\"sk-estimator sk-toggleable\"><input class=\"sk-toggleable__control sk-hidden--visually\" id=\"sk-estimator-id-50\" type=\"checkbox\" ><label for=\"sk-estimator-id-50\" class=\"sk-toggleable__label sk-toggleable__label-arrow\">GradientBoostingRegressor</label><div class=\"sk-toggleable__content\"><pre>GradientBoostingRegressor(random_state=42)</pre></div></div></div></div></div></div></div></div></div></div></div></div>"
      ],
      "text/plain": [
       "GridSearchCV(cv=5,\n",
       "             estimator=Pipeline(steps=[('dictvectorizer', DictVectorizer()),\n",
       "                                       ('simpleimputer', SimpleImputer()),\n",
       "                                       ('gradientboostingregressor',\n",
       "                                        GradientBoostingRegressor(random_state=42))]),\n",
       "             n_jobs=-1,\n",
       "             param_grid={'gradientboostingregressor__max_depth': range(10, 50, 10),\n",
       "                         'gradientboostingregressor__n_estimators': range(25, 100, 25),\n",
       "                         'simpleimputer__strategy': ['mean', 'median']},\n",
       "             verbose=1)"
      ]
     },
     "execution_count": 75,
     "metadata": {},
     "output_type": "execute_result"
    }
   ],
   "source": [
    "model = GridSearchCV(\n",
    "    gbr,\n",
    "    param_grid=params,\n",
    "    cv=5,\n",
    "    n_jobs=-1,\n",
    "    verbose=1\n",
    ")\n",
    "model"
   ]
  },
  {
   "cell_type": "code",
   "execution_count": 21,
   "metadata": {},
   "outputs": [],
   "source": [
    "# Train model\n",
    "# model.fit(X_train.to_dict(orient=\"records\"), y_train)"
   ]
  },
  {
   "cell_type": "code",
   "execution_count": null,
   "metadata": {},
   "outputs": [],
   "source": [
    "model.best_params_"
   ]
  },
  {
   "cell_type": "code",
   "execution_count": null,
   "metadata": {},
   "outputs": [],
   "source": [
    "model.best_score_"
   ]
  },
  {
   "cell_type": "code",
   "execution_count": null,
   "metadata": {},
   "outputs": [],
   "source": [
    "y_pred_training = model.predict(X_train.to_dict(orient=\"records\"))\n",
    "mae_training = mean_absolute_error(y_train, y_pred_training)\n",
    "rmse_training = (mean_squared_error(y_train, y_pred_training)) ** 0.5\n",
    "\n",
    "print(\"Training MAE:\", round(mae_training, 2))\n",
    "print(\"Training RMSE:\", round(rmse_training, 2))"
   ]
  },
  {
   "cell_type": "code",
   "execution_count": null,
   "metadata": {},
   "outputs": [],
   "source": [
    "y_pred_test = model.predict(X_test.to_dict(orient=\"records\"))\n",
    "mae_test = mean_absolute_error(y_test, y_pred_test)\n",
    "rmse_test = (mean_squared_error(y_test, y_pred_test)) ** 0.5\n",
    "\n",
    "print(\"Test MAE:\", round(mae_test, 2))\n",
    "print(\"Test RMSE:\", round(mae_test, 2))"
   ]
  },
  {
   "cell_type": "code",
   "execution_count": null,
   "metadata": {},
   "outputs": [],
   "source": []
  },
  {
   "cell_type": "code",
   "execution_count": null,
   "metadata": {},
   "outputs": [],
   "source": [
    "files = [\n",
    "        (\"202206-capitalbikeshare-tripdata.zip\", \"./data\"),\n",
    "        (\"202205-capitalbikeshare-tripdata.zip\", \"./data\"),\n",
    "    ]\n",
    "train_filepath = (\"/\").join((files[0][1], files[0][0])\n",
    "train_filepath = (\"/\").join((files[0][1], files[0][0])                            "
   ]
  },
  {
   "cell_type": "code",
   "execution_count": null,
   "metadata": {},
   "outputs": [],
   "source": []
  },
  {
   "cell_type": "markdown",
   "metadata": {},
   "source": [
    "## Mlflow"
   ]
  },
  {
   "cell_type": "code",
   "execution_count": 1,
   "metadata": {},
   "outputs": [],
   "source": [
    "import mlflow\n",
    "from mlflow.tracking import MlflowClient\n",
    "from mlflow.entities import ViewType"
   ]
  },
  {
   "cell_type": "code",
   "execution_count": 3,
   "metadata": {},
   "outputs": [],
   "source": [
    "MLFLOW_TRACKING_URI = \"http://127.0.0.1:5000\"\n",
    "EXPERIMENT_NAME = \"citibikes-experiment-2022-07-31\"\n",
    "\n",
    "client = MlflowClient(tracking_uri=MLFLOW_TRACKING_URI)\n",
    "candidates = client.search_runs(\n",
    "    experiment_ids=client.get_experiment_by_name(EXPERIMENT_NAME).experiment_id,\n",
    "    # filter_string='metrics.rmse_valid < 6.5 and metrics.inference_time < 20e-6',\n",
    "    run_view_type=ViewType.ACTIVE_ONLY,\n",
    "    max_results=5,\n",
    "    order_by=[\"metrics.rmse_valid ASC\"],\n",
    ")\n",
    "\n",
    "# candidates"
   ]
  },
  {
   "cell_type": "code",
   "execution_count": 4,
   "metadata": {},
   "outputs": [
    {
     "data": {
      "text/plain": [
       "<Run: data=<RunData: metrics={'inference_time': 5.8704143593324586e-06,\n",
       " 'mae_train': 4.428574629029708,\n",
       " 'mae_valid': 5.450461825419659,\n",
       " 'rmse_train': 7.156376019478943,\n",
       " 'rmse_valid': 8.616102120671593,\n",
       " 'training_mae': 4.428574629029708,\n",
       " 'training_mse': 51.21371773217327,\n",
       " 'training_r2_score': 0.6284647219622371,\n",
       " 'training_rmse': 7.156376019478943,\n",
       " 'training_score': 0.6284647219622371}, params={'dictvectorizer': 'DictVectorizer()',\n",
       " 'dictvectorizer__dtype': \"<class 'numpy.float64'>\",\n",
       " 'dictvectorizer__separator': '=',\n",
       " 'dictvectorizer__sort': 'True',\n",
       " 'dictvectorizer__sparse': 'True',\n",
       " 'memory': 'None',\n",
       " 'ridge': 'Ridge(random_state=42)',\n",
       " 'ridge__alpha': '1.0',\n",
       " 'ridge__copy_X': 'True',\n",
       " 'ridge__fit_intercept': 'True',\n",
       " 'ridge__max_iter': 'None',\n",
       " 'ridge__normalize': 'deprecated',\n",
       " 'ridge__positive': 'False',\n",
       " 'ridge__random_state': '42',\n",
       " 'ridge__solver': 'auto',\n",
       " 'ridge__tol': '0.001',\n",
       " 'simpleimputer': 'SimpleImputer()',\n",
       " 'simpleimputer__add_indicator': 'False',\n",
       " 'simpleimputer__copy': 'True',\n",
       " 'simpleimputer__fill_value': 'None',\n",
       " 'simpleimputer__missing_values': 'nan',\n",
       " 'simpleimputer__strategy': 'mean',\n",
       " 'simpleimputer__verbose': 'deprecated',\n",
       " 'steps': \"[('dictvectorizer', DictVectorizer()), ('simpleimputer', \"\n",
       "          \"SimpleImputer()), ('ridge', Ridge(random_state=42))]\",\n",
       " 'verbose': 'False'}, tags={'Model': \"<class 'sklearn.linear_model._ridge.Ridge'>\",\n",
       " 'author/developer': 'PatrickCmd',\n",
       " 'estimator_class': 'sklearn.pipeline.Pipeline',\n",
       " 'estimator_name': 'Pipeline',\n",
       " 'mlflow.log-model.history': '[{\"run_id\": \"e51b2dbb72514425bd2710ecff006456\", '\n",
       "                             '\"artifact_path\": \"model\", \"utc_time_created\": '\n",
       "                             '\"2022-07-31 20:29:33.708842\", \"flavors\": '\n",
       "                             '{\"python_function\": {\"model_path\": \"model.pkl\", '\n",
       "                             '\"loader_module\": \"mlflow.sklearn\", '\n",
       "                             '\"python_version\": \"3.9.12\", \"env\": '\n",
       "                             '\"conda.yaml\"}, \"sklearn\": {\"pickled_model\": '\n",
       "                             '\"model.pkl\", \"sklearn_version\": \"1.1.1\", '\n",
       "                             '\"serialization_format\": \"cloudpickle\", \"code\": '\n",
       "                             'null}}, \"model_uuid\": '\n",
       "                             '\"7031004c587745a789cfdd7c4771ca99\", '\n",
       "                             '\"mlflow_version\": \"1.27.0\"}]',\n",
       " 'mlflow.source.name': 'main.py',\n",
       " 'mlflow.source.type': 'LOCAL',\n",
       " 'mlflow.user': 'patrickwalukagga'}>, info=<RunInfo: artifact_uri='s3://mlflow-models-artifact-store-cmd/1/e51b2dbb72514425bd2710ecff006456/artifacts', end_time=1659299442666, experiment_id='1', lifecycle_stage='active', run_id='e51b2dbb72514425bd2710ecff006456', run_uuid='e51b2dbb72514425bd2710ecff006456', start_time=1659299365154, status='FINISHED', user_id='patrickwalukagga'>>"
      ]
     },
     "execution_count": 4,
     "metadata": {},
     "output_type": "execute_result"
    }
   ],
   "source": [
    "# Register and stage best model\n",
    "best_model = candidates[0]\n",
    "best_model"
   ]
  },
  {
   "cell_type": "code",
   "execution_count": 5,
   "metadata": {},
   "outputs": [
    {
     "data": {
      "text/plain": [
       "<RunInfo: artifact_uri='s3://mlflow-models-artifact-store-cmd/1/e51b2dbb72514425bd2710ecff006456/artifacts', end_time=1659299442666, experiment_id='1', lifecycle_stage='active', run_id='e51b2dbb72514425bd2710ecff006456', run_uuid='e51b2dbb72514425bd2710ecff006456', start_time=1659299365154, status='FINISHED', user_id='patrickwalukagga'>"
      ]
     },
     "execution_count": 5,
     "metadata": {},
     "output_type": "execute_result"
    }
   ],
   "source": [
    "best_model.info"
   ]
  },
  {
   "cell_type": "code",
   "execution_count": 6,
   "metadata": {},
   "outputs": [
    {
     "data": {
      "text/plain": [
       "'e51b2dbb72514425bd2710ecff006456'"
      ]
     },
     "execution_count": 6,
     "metadata": {},
     "output_type": "execute_result"
    }
   ],
   "source": [
    "best_model.info.run_id"
   ]
  },
  {
   "cell_type": "code",
   "execution_count": 7,
   "metadata": {},
   "outputs": [
    {
     "data": {
      "text/plain": [
       "'1'"
      ]
     },
     "execution_count": 7,
     "metadata": {},
     "output_type": "execute_result"
    }
   ],
   "source": [
    "best_model.info.experiment_id"
   ]
  },
  {
   "cell_type": "code",
   "execution_count": 13,
   "metadata": {},
   "outputs": [
    {
     "data": {
      "text/plain": [
       "{'memory': 'None',\n",
       " 'steps': \"[('dictvectorizer', DictVectorizer()), ('simpleimputer', SimpleImputer()), ('ridge', Ridge(random_state=42))]\",\n",
       " 'verbose': 'False',\n",
       " 'dictvectorizer': 'DictVectorizer()',\n",
       " 'simpleimputer': 'SimpleImputer()',\n",
       " 'ridge': 'Ridge(random_state=42)',\n",
       " 'dictvectorizer__dtype': \"<class 'numpy.float64'>\",\n",
       " 'dictvectorizer__separator': '=',\n",
       " 'dictvectorizer__sort': 'True',\n",
       " 'dictvectorizer__sparse': 'True',\n",
       " 'simpleimputer__add_indicator': 'False',\n",
       " 'simpleimputer__copy': 'True',\n",
       " 'simpleimputer__fill_value': 'None',\n",
       " 'simpleimputer__missing_values': 'nan',\n",
       " 'simpleimputer__strategy': 'mean',\n",
       " 'simpleimputer__verbose': 'deprecated',\n",
       " 'ridge__alpha': '1.0',\n",
       " 'ridge__copy_X': 'True',\n",
       " 'ridge__fit_intercept': 'True',\n",
       " 'ridge__max_iter': 'None',\n",
       " 'ridge__normalize': 'deprecated',\n",
       " 'ridge__positive': 'False',\n",
       " 'ridge__random_state': '42',\n",
       " 'ridge__solver': 'auto',\n",
       " 'ridge__tol': '0.001'}"
      ]
     },
     "execution_count": 13,
     "metadata": {},
     "output_type": "execute_result"
    }
   ],
   "source": [
    "best_model.data.params"
   ]
  },
  {
   "cell_type": "code",
   "execution_count": null,
   "metadata": {},
   "outputs": [],
   "source": []
  }
 ],
 "metadata": {
  "kernelspec": {
   "display_name": "mlops-project-uq6XT4KV",
   "language": "python",
   "name": "mlops-project-uq6xt4kv"
  },
  "language_info": {
   "codemirror_mode": {
    "name": "ipython",
    "version": 3
   },
   "file_extension": ".py",
   "mimetype": "text/x-python",
   "name": "python",
   "nbconvert_exporter": "python",
   "pygments_lexer": "ipython3",
   "version": "3.9.12"
  }
 },
 "nbformat": 4,
 "nbformat_minor": 4
}
